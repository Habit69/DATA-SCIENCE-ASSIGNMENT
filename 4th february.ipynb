{
 "cells": [
  {
   "cell_type": "markdown",
   "id": "e45fabd7-e2ef-4d3e-b503-948723f66c16",
   "metadata": {},
   "source": [
    "Q1.) Create a python program to sort the given list of tuples based on integer value using a lambda function.\n"
   ]
  },
  {
   "cell_type": "markdown",
   "id": "4d7ac997-0404-4d0c-81ac-677ab27ade61",
   "metadata": {},
   "source": [
    "The sorted function is a built-in function in Python used to sort a sequence (lists, tuples, etc.) in ascending order by default. The function returns a sorted list from the input sequence.\n",
    "\n",
    "Syntax: sorted(iterable, key=None, reverse=False)\n",
    "\n",
    "iterable: The sequence (list, tuple, etc.) that needs to be sorted.\n",
    "key: A function that serves as a key for the sort comparison. It takes one argument and returns one value. The default value is None, which sorts the elements based on their natural order.\n",
    "reverse: A Boolean value that indicates whether the sort order should be in descending (True) or ascending (False) order. The default value is False.\n",
    "\n"
   ]
  },
  {
   "cell_type": "code",
   "execution_count": null,
   "id": "4c85ad59-d8b6-4cf9-865b-189c85fbc5ce",
   "metadata": {},
   "outputs": [],
   "source": [
    "players = [('Sachin Tendulkar', 34357), ('Ricky Ponting', 27483), ('Jack Kallis', 25534), ('Virat Kohli', 24936)]\n",
    "\n",
    "print(players)\n",
    "\n",
    "[('Sachin Tendulkar', 34357), ('Ricky Ponting', 27483), ('Jack Kallis', 25534), ('Virat Kohli', 24936)]\n",
    "\n",
    "# Sort based on sorted function where i use lambda function in key\n",
    "\n",
    "sort_players = sorted(players, key = lambda x: x[1], reverse=False)\n",
    "\n",
    "print(sort_players)\n",
    "\n",
    "[('Virat Kohli', 24936), ('Jack Kallis', 25534), ('Ricky Ponting', 27483), ('Sachin Tendulkar', 34357)]"
   ]
  },
  {
   "cell_type": "code",
   "execution_count": null,
   "id": "e0e3eecc-a1d5-4361-98b5-47bd9dbebeae",
   "metadata": {},
   "outputs": [],
   "source": []
  },
  {
   "cell_type": "markdown",
   "id": "d23015fe-6408-423e-8848-19e67466cf6a",
   "metadata": {},
   "source": [
    "Q2.)Write a Python Program to find the squares of all the numbers in the given list of integers using lambda and map functions.\n"
   ]
  },
  {
   "cell_type": "code",
   "execution_count": 3,
   "id": "db75688a-87ca-4c8c-b4be-cfaa2b4fe322",
   "metadata": {},
   "outputs": [
    {
     "name": "stdout",
     "output_type": "stream",
     "text": [
      "[1, 4, 9, 16, 25, 36, 49, 64, 81, 100]\n"
     ]
    }
   ],
   "source": [
    "[1, 2, 3, 4, 5, 6, 7, 8, 9, 10]\n",
    "\n",
    "l = [1,2,3,4,5,6,7,8,9,10]\n",
    "sqr = map(lambda x : x*x , l)\n",
    "print(list(sqr))\n",
    "\n",
    "\n"
   ]
  },
  {
   "cell_type": "code",
   "execution_count": null,
   "id": "89b968d7-04d4-441c-8928-becd24c8a6ac",
   "metadata": {},
   "outputs": [],
   "source": []
  },
  {
   "cell_type": "markdown",
   "id": "a0d74683-a884-4545-9609-d76bc45183e4",
   "metadata": {},
   "source": [
    "Q3.Write a python program to convert the given list of integers into a tuple of strings. Use map and lambda functions\n"
   ]
  },
  {
   "cell_type": "code",
   "execution_count": null,
   "id": "9dd08b89-53cb-410a-ae59-358c2d5de653",
   "metadata": {},
   "outputs": [],
   "source": [
    "l = [1,2,3,4,5,6,7,8,9,10]\n",
    "string_l = map(lambda s: str(s),l)\n",
    "print(tuple(string_l))\n",
    "('1', '2', '3', '4', '5', '6', '7', '8', '9', '10')\n",
    "\n"
   ]
  },
  {
   "cell_type": "code",
   "execution_count": null,
   "id": "058239c8-4ec1-45b9-8432-1b5d2a5886f6",
   "metadata": {},
   "outputs": [],
   "source": []
  },
  {
   "cell_type": "code",
   "execution_count": null,
   "id": "8941c1fe-a4a3-4d19-85d2-c90784c27ad4",
   "metadata": {},
   "outputs": [],
   "source": []
  },
  {
   "cell_type": "markdown",
   "id": "94305ea9-930a-4ebe-99a4-278ccea6f7a2",
   "metadata": {},
   "source": [
    "Q4.Write a python program using reduce function to compute the product of a list containing numbers from 1 to 25."
   ]
  },
  {
   "cell_type": "code",
   "execution_count": null,
   "id": "531d2ca0-8934-462a-bfb7-5c3886197b11",
   "metadata": {},
   "outputs": [],
   "source": [
    "nums = list(range(1,26))\n",
    "print(nums)\n",
    "[1, 2, 3, 4, 5, 6, 7, 8, 9, 10, 11, 12, 13, 14, 15, 16, 17, 18, 19, 20, 21, 22, 23, 24, 25]\n",
    "# Creating a reduce function with lambda for computing the product\n",
    "from functools import reduce\n",
    "product = reduce(lambda x,y: x*y,nums)\n",
    "print(f'Product of numbers from 1 to 25 is {product}')\n"
   ]
  },
  {
   "cell_type": "code",
   "execution_count": null,
   "id": "7d2a9fe0-df3f-423a-a2f5-72cbd811874b",
   "metadata": {},
   "outputs": [],
   "source": [
    "\n"
   ]
  },
  {
   "cell_type": "code",
   "execution_count": null,
   "id": "a179a548-b0ba-4566-baf5-c69161f70cad",
   "metadata": {},
   "outputs": [],
   "source": []
  },
  {
   "cell_type": "markdown",
   "id": "c84cc013-a9dd-42cd-8d02-92a1a13c871b",
   "metadata": {},
   "source": [
    "Q5.Write a python program to filter the numbers in a given list that are divisible by 2 and 3 using the filter function.\n"
   ]
  },
  {
   "cell_type": "code",
   "execution_count": null,
   "id": "066ae300-1e45-4c84-8498-9d98b000c741",
   "metadata": {},
   "outputs": [],
   "source": [
    "\n",
    "# Defining the orignal list and printing\n",
    "l = [2, 3, 6, 9, 27, 60, 90, 120, 55, 46]\n",
    "print(l)\n",
    "\n",
    "# Filtered list of numbers which are divisible by 2 and 3\n",
    "filtered_l = filter(lambda x : x%2==0 and x%3==0,l)\n",
    "print(list(filtered_l))\n"
   ]
  },
  {
   "cell_type": "code",
   "execution_count": null,
   "id": "288d05ac-8803-432d-8d1f-58a459aef9e9",
   "metadata": {},
   "outputs": [],
   "source": []
  },
  {
   "cell_type": "code",
   "execution_count": null,
   "id": "889d4850-bf1c-4df9-acb4-8c85a12b3a9c",
   "metadata": {},
   "outputs": [],
   "source": []
  },
  {
   "cell_type": "markdown",
   "id": "b8968c1a-c685-4bf2-9f66-3def3902b01a",
   "metadata": {},
   "source": [
    "Q6.Write a python program to find palindromes in the given list of strings using lambda and filter function.\n",
    "          ['python', 'php', 'aba', 'radar', 'level']"
   ]
  },
  {
   "cell_type": "markdown",
   "id": "78abcb4e-8de6-495f-922c-7faabb6baf6c",
   "metadata": {},
   "source": [
    "Palindrome - a word, phrase, or sequence that reads the same backwards as forwards, e.g. madam, nurses, run\n"
   ]
  },
  {
   "cell_type": "code",
   "execution_count": null,
   "id": "1472f3fd-d80b-46b1-ac3e-33f874094b26",
   "metadata": {},
   "outputs": [],
   "source": [
    "s = ['python', 'php', 'aba', 'radar', 'level']\n",
    "print(s)"
   ]
  },
  {
   "cell_type": "code",
   "execution_count": null,
   "id": "010562b7-ea95-4a90-9ab3-08aea025acb2",
   "metadata": {},
   "outputs": [],
   "source": [
    "palindromes = filter(lambda x: x.lower() == x[::-1].lower() , s)\n",
    "print(list(palindromes))\n"
   ]
  },
  {
   "cell_type": "code",
   "execution_count": null,
   "id": "afa9330f-7954-4cbe-9a26-670a29f27f8b",
   "metadata": {},
   "outputs": [],
   "source": []
  },
  {
   "cell_type": "code",
   "execution_count": null,
   "id": "625c441d-6e84-4d71-8ec5-1700e835324f",
   "metadata": {},
   "outputs": [],
   "source": []
  },
  {
   "cell_type": "code",
   "execution_count": null,
   "id": "a1512a78-a3bd-4c0b-824b-38efa5974897",
   "metadata": {},
   "outputs": [],
   "source": []
  },
  {
   "cell_type": "code",
   "execution_count": null,
   "id": "afa04cb1-710d-4f31-be98-662b0ec4b8bc",
   "metadata": {},
   "outputs": [],
   "source": []
  }
 ],
 "metadata": {
  "kernelspec": {
   "display_name": "Python 3 (ipykernel)",
   "language": "python",
   "name": "python3"
  },
  "language_info": {
   "codemirror_mode": {
    "name": "ipython",
    "version": 3
   },
   "file_extension": ".py",
   "mimetype": "text/x-python",
   "name": "python",
   "nbconvert_exporter": "python",
   "pygments_lexer": "ipython3",
   "version": "3.10.8"
  }
 },
 "nbformat": 4,
 "nbformat_minor": 5
}
