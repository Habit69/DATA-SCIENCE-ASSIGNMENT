{
 "cells": [
  {
   "cell_type": "markdown",
   "id": "1a7e710c-23c8-42c1-8876-deb0f8e4c182",
   "metadata": {},
   "source": [
    "Question 1 : Which function is used to open a file? What are the different modes of opening a file? Explain each mode of file opening."
   ]
  },
  {
   "cell_type": "code",
   "execution_count": 1,
   "id": "569a8d58-7929-493d-9321-ac180b6febb1",
   "metadata": {},
   "outputs": [
    {
     "ename": "SyntaxError",
     "evalue": "invalid character '‘' (U+2018) (1873984495.py, line 4)",
     "output_type": "error",
     "traceback": [
      "\u001b[0;36m  Cell \u001b[0;32mIn[1], line 4\u001b[0;36m\u001b[0m\n\u001b[0;31m    In ‘r’ mode, the file opens in the read only mode. By default, if we don’t specify the mode argument, it will be treated as read or ‘r’ mode.\u001b[0m\n\u001b[0m       ^\u001b[0m\n\u001b[0;31mSyntaxError\u001b[0m\u001b[0;31m:\u001b[0m invalid character '‘' (U+2018)\n"
     ]
    }
   ],
   "source": [
    "Files in Python can be opened with a built-in open() function\n",
    "Syntax : open(file_address, access_mode)\n",
    "\n",
    "In ‘r’ mode, the file opens in the read only mode. By default, if we don’t specify the mode argument, it will be treated as read or ‘r’ mode.\n",
    "# r mode example\n",
    "# Reading a file\n",
    "file = open('MyFile.txt', 'r')\n",
    "\n",
    "#read()\n",
    "text = file.read()\n",
    "\n",
    "print(text)\n",
    "file.close()\n"
   ]
  },
  {
   "cell_type": "markdown",
   "id": "2d49fda8-115d-40b5-a53f-a99c5ca2f7e8",
   "metadata": {},
   "source": []
  },
  {
   "cell_type": "markdown",
   "id": "0366f7df-d539-4d78-a549-f34735d60b87",
   "metadata": {},
   "source": [
    "2.)In the ‘w’ mode, the file opens in write mode. It removes existing content, if present, in the file. If the specified file doesn’t exist, it creates one with the specified name.\n",
    "# Writing a file\n",
    "file = open('MyFile.txt', 'w')\n",
    "line = 'This file is modified with write mode\\n'\n",
    "\n",
    "#write()\n",
    "file.write(line)\n",
    "file.close()\n",
    "\n",
    "\n",
    "3.)In the ‘a’ mode, the file opens in append mode. It adds content to an existing file (or append at the end of the file). If the specified file doesn’t exist, it creates one with the specified name.\n",
    "# Appending a file\n",
    "file = open('MyFile.txt', 'a')\n",
    "lines = 'This is text written in append mode\\n'\n",
    "\n",
    "# Appending lines\n",
    "file.write(lines)\n",
    "file.close()"
   ]
  },
  {
   "cell_type": "markdown",
   "id": "9c62b885-be84-49a0-92d9-7cbd910840cd",
   "metadata": {},
   "source": [
    "4.)In the ‘r+’ mode, the file opens in the read & write mode. It does not remove existing content, if present, in the file and does not create a file if not present in the directory.\n",
    "# Reading and Writing a file with r+ mode\n",
    "file = open('MyFile.txt', 'r+')\n",
    "lines = file.read()\n",
    "print(lines)\n",
    "file.write(lines)\n",
    "file.close()\n",
    "This file is modified with write mode\n",
    "This is text written in append mode\n",
    "\n",
    "5.)In the ‘w+’ mode, open the file in the read & write mode & remove existing content. If the file doesn’t exist, it creates a new one. It does not remove existing content & if a file doesn’t exist, it creates a new one\n",
    "# Writing and Reading a file\n",
    "file = open('MyFile.txt', 'w+')\n",
    "lines = file.read()\n",
    "file.write('This is w+ mode\\n')\n",
    "file.close()"
   ]
  },
  {
   "cell_type": "markdown",
   "id": "708fa8de-74d9-49cc-898b-16a949e482bb",
   "metadata": {},
   "source": [
    "a+: Opens a file for both appending and reading\n",
    "# Appending and reading a file\n",
    "file = open('MyFile.txt', 'a+')\n",
    "lines = file.read()\n",
    "file.write('This is a+ mode\\n')\n",
    "file.close()\n"
   ]
  },
  {
   "cell_type": "code",
   "execution_count": null,
   "id": "5b9d986d-dbe3-4bc6-9b2f-1929a2ca7fe9",
   "metadata": {},
   "outputs": [],
   "source": []
  },
  {
   "cell_type": "markdown",
   "id": "a457ffcf-4936-431c-bd45-202f34828262",
   "metadata": {},
   "source": [
    "Question 2: Why close() function is used? Why is it important to close a file?"
   ]
  },
  {
   "cell_type": "markdown",
   "id": "d1ec08e7-1c26-4551-bf2b-8c3852531121",
   "metadata": {},
   "source": [
    "It is always a good practice to close a file after performing desired operations to it. Thus makes sure that all our changes have been saved to the file.\n",
    "Closing is done with .close() method\n",
    "\n",
    "# Opening file in read mode\n",
    "file = open('MyFile.txt', 'r')\n",
    "\n",
    "#reading file and printing results\n",
    "text = file.read()\n",
    "print(text)\n",
    "\n",
    "# Closing the file\n",
    "file.close()"
   ]
  },
  {
   "cell_type": "code",
   "execution_count": null,
   "id": "59d02ad4-915e-4029-9505-ad6dab5a6a14",
   "metadata": {},
   "outputs": [],
   "source": []
  },
  {
   "cell_type": "code",
   "execution_count": null,
   "id": "fa13cdba-8627-47a7-a6ba-d52e2dc783d0",
   "metadata": {},
   "outputs": [],
   "source": []
  },
  {
   "cell_type": "markdown",
   "id": "e66dd0a8-1ad1-423b-b788-4c7624e28df1",
   "metadata": {},
   "source": [
    "Q3.Write a python program to create a text file. Write ‘I want to become a Data Scientist’ in that file. Then close the file. Open this file and read the content of the file."
   ]
  },
  {
   "cell_type": "code",
   "execution_count": 2,
   "id": "8ca1852b-a317-4c61-9e86-a73fe27a919b",
   "metadata": {},
   "outputs": [
    {
     "name": "stdout",
     "output_type": "stream",
     "text": [
      "I want to become a Data Scientist\n"
     ]
    }
   ],
   "source": [
    "# Opening a file in write mode\n",
    "new_file = open('new_file.txt','w')\n",
    "# Writing the file in write mode\n",
    "new_file.write('I want to become a Data Scientist')\n",
    "# Closing the file\n",
    "new_file.close()\n",
    "# Opening file in read mode\n",
    "new_file = open('new_file.txt','r')\n",
    "# Reading the file\n",
    "lines = new_file.read()\n",
    "print(lines)\n",
    "# Closing the file\n",
    "new_file.close()"
   ]
  },
  {
   "cell_type": "code",
   "execution_count": null,
   "id": "fbcd727b-83a8-49b4-97b0-20bfd1b007d8",
   "metadata": {},
   "outputs": [],
   "source": []
  },
  {
   "cell_type": "code",
   "execution_count": null,
   "id": "53e67d8a-6783-46d5-a6b9-a2ac78d802e5",
   "metadata": {},
   "outputs": [],
   "source": []
  },
  {
   "cell_type": "markdown",
   "id": "416304e8-ac74-4782-ab30-be6dbdc980e9",
   "metadata": {},
   "source": [
    "Question 4 : explain the following with python code: read(), readline() and readlines().\n"
   ]
  },
  {
   "cell_type": "markdown",
   "id": "082f575b-fc3b-464e-ab24-914f4dcc8286",
   "metadata": {},
   "source": [
    "1.)The read() method returns the specified number of bytes from the file. Default is -1 which means the whole file.\n",
    "file = open('MyFile.txt','r')\n",
    "print(file.read())\n",
    "file.close()\n",
    "This is w+ mode\n",
    "This is a+ mode\n",
    "\n",
    "file = open('MyFile.txt','r')\n",
    "print(file.read(4))\n",
    "file.close()"
   ]
  },
  {
   "cell_type": "markdown",
   "id": "5a44016d-7209-4940-9137-f58ee0d9e0a8",
   "metadata": {},
   "source": [
    "The readline() method returns one line from the file. You can also specified how many bytes from the line to return, by using the size parameter.\n",
    "file = open('MyFile.txt','r')\n",
    "print(file.readline())\n",
    "file.close()\n",
    "This is w+ mode\n",
    "\n",
    "The readlines() method returns a list containing each line in the file as a list item."
   ]
  },
  {
   "cell_type": "code",
   "execution_count": null,
   "id": "0a3ae3c6-50ef-48e6-bfe5-a017e7b59a04",
   "metadata": {},
   "outputs": [],
   "source": []
  },
  {
   "cell_type": "code",
   "execution_count": null,
   "id": "ec766d58-c454-4c3d-b135-059cd93f381f",
   "metadata": {},
   "outputs": [],
   "source": []
  },
  {
   "cell_type": "markdown",
   "id": "e8897bc0-4136-4813-8d0a-621eaab1528b",
   "metadata": {},
   "source": [
    "Question 5 : Explain why with statement is used with open(). What is the advantage of using with statement and open() together"
   ]
  },
  {
   "cell_type": "code",
   "execution_count": 4,
   "id": "d3c86c60-58d5-47ac-989a-26d09c0b98ce",
   "metadata": {},
   "outputs": [
    {
     "name": "stdout",
     "output_type": "stream",
     "text": [
      "This is file created using with statement\n"
     ]
    }
   ],
   "source": [
    " #In Python, with statement is used in exception handling to make the code cleaner and much more readable. It simplifies the management of common resources like file streams.\n",
    "#Advantage is : unlike the previous implementations, there is no need to call file.close()\n",
    "#It is guaranteed to close the file no matter how the nested block exits. If an exception occurs before the end of the block, it will close the file before the exception is caught by an outer exception handler.\n",
    "\n",
    "# using with statement\n",
    "with open('with_file.txt', 'w') as file:\n",
    "\tfile.write('This is file created using with statement')\n",
    "# Using the above file using with statement and reading the file\n",
    "with open('with_file.txt','r') as file:\n",
    "    print(file.read())"
   ]
  },
  {
   "cell_type": "markdown",
   "id": "6dff608a-3ae4-4e5a-9968-64eeeb4be565",
   "metadata": {},
   "source": [
    "Question 6: Explain the write() and writelines() functions. Give a suitable example"
   ]
  },
  {
   "cell_type": "code",
   "execution_count": 5,
   "id": "88937ce0-b042-4fb3-9ddf-fbea1ac0467a",
   "metadata": {},
   "outputs": [
    {
     "name": "stdout",
     "output_type": "stream",
     "text": [
      "Name of student : Utkarsh\n",
      "Name of student : Pravin\n",
      "Name of student : Dhiraj\n",
      "\n"
     ]
    }
   ],
   "source": [
    "#The write() function will write the content in the file without adding any extra characters.\n",
    "#While writing data to a file, we must know that the write function does not add a newline character(\\n) to the end of the string.\n",
    "#The write() function returns None.\n",
    "\n",
    "student_file = open(\"students.txt\", \"w\")\n",
    "\n",
    "student_name = ['Utkarsh','Pravin','Dhiraj']\n",
    "\n",
    "for i in student_name:\n",
    "    student_file.write(f'Name of student : {i}')\n",
    "    student_file.write(\"\\n\")\n",
    "\t\n",
    "student_file.close()\n",
    "with open('students.txt','r') as file:\n",
    "    print(file.read())"
   ]
  },
  {
   "cell_type": "code",
   "execution_count": 6,
   "id": "440db68d-92cc-4028-9b4c-13f3d890ec22",
   "metadata": {},
   "outputs": [
    {
     "name": "stdout",
     "output_type": "stream",
     "text": [
      "Suraj\n",
      "Ramesh\n",
      "Suresh\n",
      "\n"
     ]
    }
   ],
   "source": [
    "#writelines(): This function writes the content of a list to a file.\n",
    "#the list of strings that is passed to the writelines() function is written into the opened file.\n",
    "#Similar to the write() function, the writelines() function does not add a newline character(\\n) to the end of the string\n",
    "\n",
    "student_name2 = ['Suraj','Ramesh','Suresh']\n",
    "# Adding \\n character to each element in list \n",
    "lst = []\n",
    "for i in student_name2:\n",
    "    lst.append(i+'\\n')\n",
    "# Writing with writelines\n",
    "with open('student2.txt','w') as file2:\n",
    "    file2.writelines(lst)\n",
    "with open('student2.txt','r') as file2:\n",
    "    print(file2.read())\n"
   ]
  },
  {
   "cell_type": "code",
   "execution_count": null,
   "id": "faf248e1-5cec-4ea4-9d4c-05b652252acb",
   "metadata": {},
   "outputs": [],
   "source": []
  }
 ],
 "metadata": {
  "kernelspec": {
   "display_name": "Python 3 (ipykernel)",
   "language": "python",
   "name": "python3"
  },
  "language_info": {
   "codemirror_mode": {
    "name": "ipython",
    "version": 3
   },
   "file_extension": ".py",
   "mimetype": "text/x-python",
   "name": "python",
   "nbconvert_exporter": "python",
   "pygments_lexer": "ipython3",
   "version": "3.10.8"
  }
 },
 "nbformat": 4,
 "nbformat_minor": 5
}
