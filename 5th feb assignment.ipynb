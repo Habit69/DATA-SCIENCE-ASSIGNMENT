{
 "cells": [
  {
   "cell_type": "markdown",
   "id": "d88d0d2a-dac9-49bc-88cc-af14bddb6fa7",
   "metadata": {},
   "source": [
    "Q1.Explain Class and Object with respect to Object-Oriented Programming. Give a suitable example."
   ]
  },
  {
   "cell_type": "markdown",
   "id": "b0bd7643-10ac-4b5b-9777-2f748646ec39",
   "metadata": {},
   "source": [
    "Class:\n",
    "A class is a blueprint or a template for creating objects. It defines the properties (attributes) and behaviors (methods) that objects of that class will possess. In other words, a class serves as a model that defines the structure and behavior of its objects.\n",
    "\n",
    "Object:\n",
    "An object is an instance of a class. It is a tangible entity that is created based on the blueprint provided by the class. Objects encapsulate data (attributes) and the methods (functions) that operate on that data. They represent individual instances of the concept or entity defined by the class."
   ]
  },
  {
   "cell_type": "code",
   "execution_count": null,
   "id": "7a738535-a724-4ba6-8728-11f0ae9659af",
   "metadata": {},
   "outputs": [],
   "source": [
    "class Car:\n",
    "    def __init__(self, make, model, year):\n",
    "        self.make = make\n",
    "        self.model = model\n",
    "        self.year = year\n",
    "        self.is_running = False\n",
    "\n",
    "    def start(self):\n",
    "        self.is_running = True\n",
    "        print(\"Car engine started.\")\n",
    "\n",
    "    def stop(self):\n",
    "        self.is_running = False\n",
    "        print(\"Car engine stopped.\")\n",
    "\n",
    "    def display_info(self):\n",
    "        print(f\"Car: {self.year} {self.make} {self.model}\")\n",
    "        if self.is_running:\n",
    "            print(\"Status: Running\")\n",
    "        else:\n",
    "            print(\"Status: Stopped\")\n",
    "\n",
    "# Creating objects (instances) of the Car class\n",
    "car1 = Car(\"Toyota\", \"Corolla\", 2023)\n",
    "car2 = Car(\"Tesla\", \"Model 3\", 2023)\n",
    "\n",
    "# Using object methods\n",
    "car1.start()\n",
    "car2.start()\n",
    "\n",
    "car1.display_info()\n",
    "car2.display_info()\n",
    "\n",
    "car1.stop()\n",
    "car2.stop()\n",
    "\n",
    "car1.display_info()\n",
    "car2.display_info()\n"
   ]
  },
  {
   "cell_type": "markdown",
   "id": "a2a58828-77df-4e91-97a8-d8411debe638",
   "metadata": {},
   "source": [
    "n this example, the Car class acts as a blueprint for creating car objects. Each car object has attributes like make, model, year, and is_running, along with methods like start, stop, and display_info that define the behavior of the car objects.\n",
    "\n",
    "By creating instances of the Car class (car1 and car2), we create unique objects with their own specific attributes and behaviors. We can call the methods on these objects to perform actions like starting and stopping the car's engine and displaying information about the car's status.\n",
    "\n"
   ]
  },
  {
   "cell_type": "code",
   "execution_count": null,
   "id": "2d401793-849c-4f88-9820-a25bf960e1b2",
   "metadata": {},
   "outputs": [],
   "source": []
  },
  {
   "cell_type": "markdown",
   "id": "ee7f5fdb-e2ab-49bb-a368-e2bf056441d1",
   "metadata": {},
   "source": [
    "Q2.Name the four pillars of OOPs."
   ]
  },
  {
   "cell_type": "markdown",
   "id": "59352a6e-05ab-4715-9c53-2aedb44ecbaa",
   "metadata": {},
   "source": [
    "1.)Abstraction: This refers to the idea of hiding the implementation details and only showing the relevant information to the user. It allows the user to focus on the objects and their behavior, rather than the underlying code.\n",
    "\n",
    "2.)Encapsulation: This is the mechanism of wrapping data and functions within a single unit (object) to protect the data from external access and modification. This helps to maintain the integrity of the data and the object.\n",
    "\n",
    "3.)Inheritance: This is a mechanism of creating new classes (child classes) from existing classes (parent classes). The child classes inherit the attributes and behaviors of the parent class, and can also have their own unique attributes and behaviors. This helps to reduce code duplication and promote code reuse.\n",
    "  \n",
    "4.)Polymorphism: This refers to the ability of objects of different classes to respond to the same method call in different ways. This allows objects to be treated as objects of their parent class, while still retaining their unique behavior. This enables objects to be used interchangeably, reducing code complexity and improving code maintainability.\n",
    "\n",
    "These four pillars are essential elements of object-oriented programming and work together to allow for the creation of robust, flexible, and scalable software systems."
   ]
  },
  {
   "cell_type": "code",
   "execution_count": null,
   "id": "976e6f4e-bba3-4bb5-be25-afcb12239b9a",
   "metadata": {},
   "outputs": [],
   "source": []
  },
  {
   "cell_type": "markdown",
   "id": "cf5a2640-4d06-417e-9e7d-cdbee87ec7e8",
   "metadata": {},
   "source": [
    "Q3.)Explain why the __init__() function is used. Give a suitable example."
   ]
  },
  {
   "cell_type": "markdown",
   "id": "7f7ebf86-ce89-48d7-b9c1-df355956285e",
   "metadata": {},
   "source": [
    "In object-oriented programming (OOP), the __init__() function, also known as the constructor, is used to initialize the attributes of an object when it is created from a class. It is a special method that gets automatically called when an object of the class is instantiated. The purpose of the __init__() function is to set up the initial state of the object by assigning values to its attributes or performing any necessary setup tasks.\n",
    "\n",
    "Let's use the example of a Person class to illustrate the use of the __init__() function. In this example, we'll create a class that represents a person with attributes like name, age, and gender.\n"
   ]
  },
  {
   "cell_type": "code",
   "execution_count": null,
   "id": "4c5c7015-15d1-48b3-b9ac-bde154daaca6",
   "metadata": {},
   "outputs": [],
   "source": [
    "class Person:\n",
    "    def __init__(self, name, age, gender):\n",
    "        self.name = name\n",
    "        self.age = age\n",
    "        self.gender = gender\n",
    "\n",
    "    def display_info(self):\n",
    "        print(f\"Name: {self.name}\")\n",
    "        print(f\"Age: {self.age}\")\n",
    "        print(f\"Gender: {self.gender}\")\n",
    "\n",
    "# Creating instances of the Person class\n",
    "person1 = Person(\"Alice\", 28, \"Female\")\n",
    "person2 = Person(\"Bob\", 35, \"Male\")\n",
    "\n",
    "# Using the display_info() method to display information about the persons\n",
    "person1.display_info()\n",
    "print(\"------------\")\n",
    "person2.display_info()\n"
   ]
  },
  {
   "cell_type": "markdown",
   "id": "7ad92966-eced-46d9-8725-68bc4f819f5a",
   "metadata": {},
   "source": [
    "In this example, the __init__() function is defined within the Person class. When you create instances of the Person class (person1 and person2), the __init__() function is automatically called with the provided arguments (name, age, and gender), and the attributes of the object are initialized accordingly.\n",
    "\n",
    "By using the __init__() function, you ensure that every object created from the class starts with a well-defined initial state. This allows you to encapsulate the object's data and provide a consistent way to set up the object's attributes at the time of creation.\n",
    "\n",
    "In summary, the __init__() function is used to initialize the attributes of an object as soon as it is created from a class, ensuring that the object starts in a meaningful and consistent state."
   ]
  },
  {
   "cell_type": "code",
   "execution_count": null,
   "id": "cd586aa6-eb0f-4b97-95eb-0e3f1fe72af8",
   "metadata": {},
   "outputs": [],
   "source": []
  },
  {
   "cell_type": "markdown",
   "id": "8630a2c7-ec91-4c06-bd76-bec669e12ede",
   "metadata": {},
   "source": [
    "Q4.) Why self is used in OOPs?"
   ]
  },
  {
   "cell_type": "markdown",
   "id": "0c2f04bb-dc5c-4258-8dfc-ef1ea4963f3c",
   "metadata": {},
   "source": [
    "In object-oriented programming (OOP), the self keyword is used as a reference to the instance of the object that is calling the method.\n",
    "It is used to access the attributes and methods of the object within the class"
   ]
  },
  {
   "cell_type": "code",
   "execution_count": null,
   "id": "4db3e460-26c1-40fa-af9e-b661951eeb87",
   "metadata": {},
   "outputs": [],
   "source": [
    "class car:\n",
    "    \"\"\"\n",
    "    Definining a class car with initialized \n",
    "    Manufactured, weight and color attributes\n",
    "    \"\"\"\n",
    "\n",
    "    def __init__(self, manufacturer, weight, color):\n",
    "        self.manufacturer = manufacturer\n",
    "        self.weight = weight\n",
    "        self.color = color\n",
    "\n",
    "    def details(self):\n",
    "        print(f'This car was manufactured by {self.manufacturer}, its weight is {self.weight} and its color is {self.color}')"
   ]
  },
  {
   "cell_type": "code",
   "execution_count": null,
   "id": "18c4b400-eb09-4896-84c6-925c1b632875",
   "metadata": {},
   "outputs": [],
   "source": [
    "hector = car('Morris Garages',1600,'Glaze Red')\n",
    "hector.details()"
   ]
  },
  {
   "cell_type": "markdown",
   "id": "f24334f3-5b8c-40e5-be8d-df0064b41350",
   "metadata": {},
   "source": [
    "In above example the 'details()' method uses 'self' to access cars 'manufacturer', 'weight' and 'color'.\n",
    "Without 'self', method 'details()' is not able to create any attribute and will give error.\n",
    "\n"
   ]
  },
  {
   "cell_type": "code",
   "execution_count": null,
   "id": "ea0a28f3-9dcf-4700-afbe-b49b9798c0b6",
   "metadata": {},
   "outputs": [],
   "source": []
  },
  {
   "cell_type": "markdown",
   "id": "52e0c327-ff66-40fc-b25b-6b452abbe656",
   "metadata": {},
   "source": [
    "Q5.What is inheritance? Give an example for each type of inheritance."
   ]
  },
  {
   "cell_type": "markdown",
   "id": "f5e79d89-f418-4595-84b1-ef98b8f077a7",
   "metadata": {},
   "source": [
    "Inheritance is a fundamental concept in object-oriented programming (OOP) that allows one class (the subclass or derived class) to inherit properties and behaviors (attributes and methods) from another class (the superclass or base class). Inheritance promotes code reuse, reduces redundancy, and enables the creation of hierarchical relationships between classes.\n",
    "\n",
    "1.)Single Inheritance:\n",
    "In single inheritance, a subclass inherits from only one superclass. This is the simplest form of inheritance.\n",
    " \n",
    "2.)Multiple Inheritance:\n",
    "In multiple inheritance, a subclass inherits from more than one superclass. This allows a class to inherit attributes and methods from multiple sources.\n",
    "\n",
    "3.)Multilevel Inheritance:\n",
    "In multilevel inheritance, a subclass inherits from another subclass, forming a chain or hierarchy of classess\n",
    "\n",
    "4.)Hierarchical Inheritance:\n",
    "In hierarchical inheritance, multiple subclasses inherit from a single superclass"
   ]
  },
  {
   "cell_type": "code",
   "execution_count": null,
   "id": "c59b97c9-c0ac-4edc-b4ca-917ade7cf27c",
   "metadata": {},
   "outputs": [],
   "source": [
    "# single inheritance\n",
    "class Animal:\n",
    "    def speak(self):\n",
    "        pass\n",
    "\n",
    "class Dog(Animal):\n",
    "    def speak(self):\n",
    "        return \"Woof!\"\n",
    "\n",
    "class Cat(Animal):\n",
    "    def speak(self):\n",
    "        return \"Meow!\"\n",
    " \n",
    " #In this example, both Dog and Cat are subclasses of the Animal superclass. They inherit the speak() method, but each subclass provides its own implementation. This demonstrates single inheritance, where each subclass inherits from a single superclass.\n",
    "\n"
   ]
  },
  {
   "cell_type": "code",
   "execution_count": null,
   "id": "f5068fae-6e3a-48ee-b2b9-18be58c1f3ff",
   "metadata": {},
   "outputs": [],
   "source": [
    "# Multiple inheritance\n",
    "\n",
    "class A:\n",
    "    def method_A(self):\n",
    "        return \"Method A from class A\"\n",
    "\n",
    "class B:\n",
    "    def method_B(self):\n",
    "        return \"Method B from class B\"\n",
    "\n",
    "class C(A, B):\n",
    "    def method_C(self):\n",
    "        return \"Method C from class C\"\n",
    "\n",
    "#In this example, the class C inherits from both classes A and B. It can access methods from both A and B, as well as define its ow"
   ]
  },
  {
   "cell_type": "code",
   "execution_count": null,
   "id": "1bee5ba4-05dd-4367-b4bd-e5b92a36d032",
   "metadata": {},
   "outputs": [],
   "source": [
    "# 3.Multilevel inheritance\n",
    "\n",
    "class Vehicle:\n",
    "    def start(self):\n",
    "        return \"Vehicle started.\"\n",
    "\n",
    "class Car(Vehicle):\n",
    "    def drive(self):\n",
    "        return \"Car driving.\"\n",
    "\n",
    "class ElectricCar(Car):\n",
    "    def charge(self):\n",
    "        return \"Electric car charging.\"\n",
    "\n",
    "    # Here, Car is a subclass of Vehicle, and ElectricCar is a subclass of Car. This forms a multilevel inheritance structure, where ElectricCar indirectly inherits from both Vehicle and Car.\n",
    "\n"
   ]
  },
  {
   "cell_type": "code",
   "execution_count": null,
   "id": "f279ec40-78ee-4306-ac16-23efaf6c8f81",
   "metadata": {},
   "outputs": [],
   "source": [
    "#4.Hierarchical Inheritance:\n",
    "class Shape:\n",
    "    def draw(self):\n",
    "        pass\n",
    "\n",
    "class Circle(Shape):\n",
    "    def draw(self):\n",
    "        return \"Circle drawn.\"\n",
    "\n",
    "class Rectangle(Shape):\n",
    "    def draw(self):\n",
    "        return \"Rectangle drawn.\"\n",
    "\n",
    "class Triangle(Shape):\n",
    "    def draw(self):\n",
    "        return \"Triangle drawn.\"\n",
    "\n",
    "# this example, Circle, Rectangle, and Triangle are subclasses of Shape, forming a hierarchical inheritance structure.\n",
    "\n",
    "#In hierarchical inheritance, multiple subclasses inherit from a single superclass.\n"
   ]
  }
 ],
 "metadata": {
  "kernelspec": {
   "display_name": "Python 3 (ipykernel)",
   "language": "python",
   "name": "python3"
  },
  "language_info": {
   "codemirror_mode": {
    "name": "ipython",
    "version": 3
   },
   "file_extension": ".py",
   "mimetype": "text/x-python",
   "name": "python",
   "nbconvert_exporter": "python",
   "pygments_lexer": "ipython3",
   "version": "3.10.8"
  }
 },
 "nbformat": 4,
 "nbformat_minor": 5
}
