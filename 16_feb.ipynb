{
 "cells": [
  {
   "cell_type": "markdown",
   "id": "27e44000-332e-43b7-9e49-862707f6ff29",
   "metadata": {},
   "source": [
    "Question 1: What is a database? Differentiate between SQL and NoSQL databases."
   ]
  },
  {
   "cell_type": "markdown",
   "id": "f3bd9e87-df60-41d2-bc42-1752d00e897a",
   "metadata": {},
   "source": [
    "A database is a collection of organized data that is stored and managed on a computer system. It allows for efficient storage, retrieval, and manipulation of large amounts of data. A database system typically consists of software that manages the data, a database server that stores the data, and one or more applications that access the data.\n",
    "\n",
    "SQL (Structured Query Language) and NoSQL (Not only SQL) are two different types of database management systems that use different methods for storing and retrieving data. Here are some key differences between the two:"
   ]
  },
  {
   "cell_type": "markdown",
   "id": "95f78e9c-50bb-45b2-a4a8-b44b05f49300",
   "metadata": {},
   "source": [
    "SQL Databases:\n",
    "mySQL\n",
    "Oracle\n",
    "PostgreSQL\n",
    "Microsoft SQL Server\n",
    "SQLite\n",
    "\n",
    "\n",
    "\n",
    "NoSQL Databases:\n",
    "MongoDB (document-oriented)\n",
    "Cassandra (column-family)\n",
    "Redis (key-value)\n",
    "Neo4j (graph)\n",
    "Amazon DynamoDB (document-oriented)\n",
    "It's worth noting that there are many different types of NoSQL databases, each with their own strengths and weaknesses. For example, document-oriented databases like MongoDB are great for storing unstructured data such as JSON documents, while graph databases like Neo4j are ideal for modeling complex relationships between data points.\n",
    "\n",
    "Similarly, there are many different types of SQL databases, each with their own features and benefits. For example, MySQL is a popular choice for web applications due to its fast performance and scalability, while PostgreSQL is often used for data warehousing and business intelligence applications due to its advanced query optimization capabilities.\n",
    "\n",
    "Ultimately, the choice between SQL and NoSQL databases will depend on the specific requirements of your application and the type of data you need to store and process."
   ]
  },
  {
   "cell_type": "code",
   "execution_count": null,
   "id": "84964d1b-6447-4581-98da-eb321097fb5f",
   "metadata": {},
   "outputs": [],
   "source": []
  },
  {
   "cell_type": "markdown",
   "id": "8d4361d1-f509-4243-8e6e-51770a977005",
   "metadata": {},
   "source": [
    "Question 2: What is DDL? Explain why CREATE, DROP, ALTER, and TRUNCATE are used with an example."
   ]
  },
  {
   "cell_type": "code",
   "execution_count": null,
   "id": "3649f6b8-05c3-4482-9d75-6bb3472a7e64",
   "metadata": {},
   "outputs": [],
   "source": [
    "Answer : DDL stands for Data Definition Language, which is a subset of SQL used to create, modify, and delete database objects such as tables, indexes, and views.\n",
    "Establishing Connection with SQLite3\n",
    "Dependencies required : sqlalchemy==1.3.9 , ipython-sql\n",
    "Using !pip install to install above package through this jupyter notebook\n",
    "\n",
    "!pip install sqlalchemy==1.3.9 ipython-sql"
   ]
  },
  {
   "cell_type": "code",
   "execution_count": null,
   "id": "248bebf1-b368-4078-8fa7-38fddda93e4a",
   "metadata": {},
   "outputs": [],
   "source": [
    "%load_ext sql\n",
    "import csv, sqlite3\n",
    "con = sqlite3.connect(\"test.db\")\n",
    "cur = con.cursor()\n",
    "%sql sqlite:///test.db\n",
    "With above a connection is now established to test.db and we can directly write a query with %%sql magic command using above\n",
    "Note: The %%sql command is a Jupyter Notebook magic command that allows you to execute SQL queries directly in a notebook cell. Provided that database connection is established\n",
    "\n",
    "Below are DDL Commands executed with %%sql magic command"
   ]
  },
  {
   "cell_type": "code",
   "execution_count": null,
   "id": "ff2e499e-d892-4aee-9027-24273a2120bc",
   "metadata": {},
   "outputs": [],
   "source": [
    "CREATE: The CREATE command is used to create a new database object, such as a table, index, or view. For example, to create a new table called \"users\" with columns for a user's name, email, and password, you would use the following SQL statement:\n",
    "%%sql\n",
    "CREATE TABLE if not exists users\n",
    "(id INT PRIMARY KEY,\n",
    "name VARCHAR(50) NOT NULL,\n",
    "email VARCHAR(50) NOT NULL,\n",
    "password VARCHAR(50) NOT NULL);\n",
    " * sqlite:///test.db\n",
    "Done.\n",
    "[]\n",
    "# Viewing Above table\n",
    "%sql SELECT * FROM users;\n",
    " * sqlite:///test.db\n",
    "Done.\n",
    "id\tname\temail\tpassword\n",
    "DROP: The DROP command is used to delete an existing database object. For example, to delete the \"users\" table created in the previous example, you would use the following SQL statement:"
   ]
  },
  {
   "cell_type": "code",
   "execution_count": null,
   "id": "66d0fb0e-9ca3-4cfe-a7f5-8958a9ec443a",
   "metadata": {},
   "outputs": [],
   "source": [
    "%sql DROP TABLE users;\n",
    " * sqlite:///test.db\n",
    "Done.\n",
    "[]\n",
    "%sql SELECT * FROM users\n",
    "#Below output shows that users table is deleted (no such table: users)\n",
    " * sqlite:///test.db\n",
    "(sqlite3.OperationalError) no such table: users\n",
    "[SQL: SELECT * FROM users]\n",
    "(Background on this error at: http://sqlalche.me/e/e3q8)\n",
    "ALTER: The ALTER command is used to modify an existing database object, such as a table, index, or view. For example, to add a new column to the \"users\" table to track a user's login status.\n",
    "%%sql\n",
    "CREATE TABLE if not exists users\n",
    "(id INT PRIMARY KEY,\n",
    "name VARCHAR(50) NOT NULL,\n",
    "email VARCHAR(50) NOT NULL,\n",
    "password VARCHAR(50) NOT NULL);"
   ]
  },
  {
   "cell_type": "code",
   "execution_count": null,
   "id": "a134b617-58a6-4c39-8d2c-486998a2a78b",
   "metadata": {},
   "outputs": [],
   "source": [
    "%sql SELECT * FROM users;\n",
    " * sqlite:///test.db\n",
    "Done.\n",
    "id\tname\temail\tpassword\n",
    "# ALTER Example to change column name and schema\n",
    "%sql ALTER TABLE users ADD COLUMN login_status BOOLEAN;\n",
    " * sqlite:///test.db\n",
    "Done.\n",
    "[]\n",
    "%sql SELECT * FROM users;\n",
    " * sqlite:///test.db\n",
    "Done.\n",
    "id\tname\temail\tpassword\tlogin_status\n",
    "TRUNCATE: The TRUNCATE command is used to delete all the rows in a table, while keeping the table structure intact. For example, to delete all the data in the \"users\" table but keep the table structure, you would use the following SQL statement:"
   ]
  },
  {
   "cell_type": "code",
   "execution_count": null,
   "id": "6efead2d-5211-42b9-9080-0240806a37c3",
   "metadata": {},
   "outputs": [],
   "source": [
    "Command in my SQL is as below:\n",
    "TRUNCATE TABLE table_name\n",
    "\n",
    "%sql select * from users;\n",
    " * sqlite:///test.db\n",
    "Done.\n",
    "id\tname\temail\tpassword\tlogin_status\n",
    "%%sql \n",
    "INSERT INTO users VALUES (1,'John Doe','test@test.com','123#413s',False);\n",
    "INSERT INTO users VALUES (2, 'Jane Doe','test@jane.com','21wdds2',True);\n",
    " * sqlite:///test.db\n",
    "1 rows affected.\n",
    "1 rows affected.\n",
    "[]\n",
    "%sql SELECT * FROM users;"
   ]
  },
  {
   "cell_type": "code",
   "execution_count": null,
   "id": "91a93d8c-eec5-44ab-a25f-9e4907901b00",
   "metadata": {},
   "outputs": [],
   "source": [
    "ql SELECT * FROM users;\n",
    " * sqlite:///test.db\n",
    "Done.\n",
    "id\tname\temail\tpassword\tlogin_status\n",
    "1\tJohn Doe\ttest@test.com\t123#413s\t0\n",
    "2\tJane Doe\ttest@jane.com\t21wdds2\t1\n",
    "# Truncate Example SQLITE Has DELETE command instead of TRUNCATE\n",
    "%sql DELETE FROM users;\n",
    " * sqlite:///test.db\n",
    "2 rows affected.\n",
    "[]\n",
    "%sql SELECT * FROM users;"
   ]
  },
  {
   "cell_type": "code",
   "execution_count": null,
   "id": "7ea5b3f9-0b0a-49a9-aecf-e6d98dd6453a",
   "metadata": {},
   "outputs": [],
   "source": []
  },
  {
   "cell_type": "code",
   "execution_count": null,
   "id": "de6371b2-76b2-4d43-bd43-e8ed84850f75",
   "metadata": {},
   "outputs": [],
   "source": []
  },
  {
   "cell_type": "markdown",
   "id": "26843839-bdbf-4615-b50e-962cd733c3d2",
   "metadata": {},
   "source": [
    "Question 3: What is DML? Explain INSERT, UPDATE, and DELETE with an example"
   ]
  },
  {
   "cell_type": "code",
   "execution_count": 2,
   "id": "7ea1feee-e57b-404b-91e6-b93bb4fe5cf1",
   "metadata": {},
   "outputs": [
    {
     "ename": "SyntaxError",
     "evalue": "invalid syntax (2714947820.py, line 1)",
     "output_type": "error",
     "traceback": [
      "\u001b[0;36m  Cell \u001b[0;32mIn[2], line 1\u001b[0;36m\u001b[0m\n\u001b[0;31m    DML stands for \"Data Manipulation Language,\" and it is a subset of SQL (Structured Query Language) that is used to manipulate data within a database. The three main commands in DML are INSERT, UPDATE, and DELETE.\u001b[0m\n\u001b[0m        ^\u001b[0m\n\u001b[0;31mSyntaxError\u001b[0m\u001b[0;31m:\u001b[0m invalid syntax\n"
     ]
    }
   ],
   "source": [
    "DML stands for \"Data Manipulation Language,\" and it is a subset of SQL (Structured Query Language) that is used to manipulate data within a database. The three main commands in DML are INSERT, UPDATE, and DELETE."
   ]
  },
  {
   "cell_type": "code",
   "execution_count": 3,
   "id": "9cde9e6c-e7f2-48c7-9362-5c7ad1c606e6",
   "metadata": {},
   "outputs": [
    {
     "name": "stderr",
     "output_type": "stream",
     "text": [
      "UsageError: Cell magic `%%sql` not found.\n"
     ]
    }
   ],
   "source": [
    "%%sql\n",
    "CREATE TABLE if not exists students\n",
    "(name VARCHAR(50) ,\n",
    "age INT ,\n",
    "grade VARCHAR(2));\n",
    " * sqlite:///test.db\n",
    "Done.\n",
    "[]\n",
    "# Viewing the students table\n",
    "%sql SELECT * FROM students"
   ]
  },
  {
   "cell_type": "markdown",
   "id": "46b97e4d-4037-46b6-b522-0161da516bcd",
   "metadata": {},
   "source": [
    "INSERT - The INSERT command is used to add new data to a database table.\n",
    "#INSERT Command\n",
    "%sql INSERT INTO students VALUES ('Utkarsh Gaikwad', 28, 'B');\n",
    " * sqlite:///test.db\n",
    "1 rows affected.\n",
    "[]\n",
    "# Viewing the table now\n",
    "%sql SELECT * FROM students\n"
   ]
  },
  {
   "cell_type": "code",
   "execution_count": null,
   "id": "f8f81df8-05c6-4933-9be3-27339f865d96",
   "metadata": {},
   "outputs": [],
   "source": [
    "UPDATE: The UPDATE command is used to modify existing data in a database table\n",
    "# UPDATE example\n",
    "%sql UPDATE students SET grade = 'A+' WHERE name = 'Utkarsh Gaikwad';\n",
    " * sqlite:///test.db\n",
    "1 rows affected.\n",
    "[]\n",
    "#View Updated table\n",
    "%sql SELECT * FROM students;\n",
    " * sqlite:///test.db\n",
    "Done.\n",
    "name\tage\tgrade\n",
    "Utkarsh Gaikwad\t28\tA+\n"
   ]
  },
  {
   "cell_type": "code",
   "execution_count": null,
   "id": "5437da52-8692-4e6c-8022-77d5c3e46c60",
   "metadata": {},
   "outputs": [],
   "source": []
  },
  {
   "cell_type": "code",
   "execution_count": null,
   "id": "3e0739e1-abfd-4330-9308-dd7bbaee26a8",
   "metadata": {},
   "outputs": [],
   "source": [
    "%sql DELETE FROM students WHERE name='Utkarsh Gaikwad';\n",
    " * sqlite:///test.db\n",
    "1 rows affected.\n",
    "[]\n",
    "%sql SELECT * FROM students;"
   ]
  },
  {
   "cell_type": "code",
   "execution_count": null,
   "id": "263bc600-0afb-41d2-a1fc-6c12b6db78d7",
   "metadata": {},
   "outputs": [],
   "source": []
  },
  {
   "cell_type": "code",
   "execution_count": null,
   "id": "d8c21477-354a-40c9-bbda-80ea9603aa7c",
   "metadata": {},
   "outputs": [],
   "source": []
  },
  {
   "cell_type": "code",
   "execution_count": null,
   "id": "8fce9e14-8b9e-483e-9734-91f1af4b61b6",
   "metadata": {},
   "outputs": [],
   "source": []
  },
  {
   "cell_type": "code",
   "execution_count": null,
   "id": "7247f5d7-cc88-4d5f-9362-9d3a66b3d910",
   "metadata": {},
   "outputs": [],
   "source": []
  },
  {
   "cell_type": "code",
   "execution_count": null,
   "id": "3700ad55-c166-4bdd-b9bb-01acdacf6106",
   "metadata": {},
   "outputs": [],
   "source": [
    "Question 4: What is DQL? Explain SELECT with an example."
   ]
  },
  {
   "cell_type": "code",
   "execution_count": null,
   "id": "e0e8ba0e-d749-4f10-895f-acc77c64f192",
   "metadata": {},
   "outputs": [],
   "source": [
    "DQL stands for \"Data Query Language,\" and it is a subset of SQL (Structured Query Language) that is used to retrieve data from a database. The main command in DQL is SELECT."
   ]
  },
  {
   "cell_type": "code",
   "execution_count": null,
   "id": "9b24f42b-2c00-4d06-92ca-5566ea93a2f3",
   "metadata": {},
   "outputs": [],
   "source": [
    "%sql SELECt * FROM students\n",
    " * sqlite:///test.db\n",
    "Done.\n",
    "name\tage\tgrade\n",
    "Inserting various students using INSERT command\n",
    "%%sql\n",
    "INSERT INTO students VALUES ('Utkarsh', 28, 'A');\n",
    "INSERT INTO students VALUES ('John', 35, 'B');\n",
    "INSERT INTO students VALUES ('Krish', 40, 'A');\n",
    "INSERT INTO students VALUES ('Sudh', 35, 'A');\n",
    "INSERT INTO students VALUES ('Jane', 24, 'C');\n",
    "INSERT INTO students VALUES ('Aditi', 22, 'B');\n",
    "INSERT INTO students VALUES ('Kritika', 38, 'C')\n"
   ]
  },
  {
   "cell_type": "code",
   "execution_count": null,
   "id": "a1aefeb2-7b1f-4843-8a25-f6c46883e4a3",
   "metadata": {},
   "outputs": [],
   "source": []
  },
  {
   "cell_type": "code",
   "execution_count": null,
   "id": "a9879049-fe4a-44a7-971c-3e94a0bbc2e9",
   "metadata": {},
   "outputs": [],
   "source": [
    "%sql SELECT * from students;"
   ]
  },
  {
   "cell_type": "code",
   "execution_count": null,
   "id": "6ca3154c-03a4-4965-b6dd-e02c57cf9997",
   "metadata": {},
   "outputs": [],
   "source": [
    "%sql SELECT name, age FROM students;"
   ]
  },
  {
   "cell_type": "code",
   "execution_count": null,
   "id": "04a867eb-4363-4c1c-bb30-cd2912485ee8",
   "metadata": {},
   "outputs": [],
   "source": [
    "# Example 3: Selecting student with A Grade\n",
    "%sql SELECT * FROM students WHERE grade='A';"
   ]
  },
  {
   "cell_type": "code",
   "execution_count": null,
   "id": "c48a7ac3-424b-4527-bdc3-9d8dc980460a",
   "metadata": {},
   "outputs": [],
   "source": []
  },
  {
   "cell_type": "markdown",
   "id": "bf9037ba-398b-4f6e-a6f2-4597d17b8ce5",
   "metadata": {},
   "source": [
    "Question 5: Explain Primary Key and Foreign Key."
   ]
  },
  {
   "cell_type": "code",
   "execution_count": null,
   "id": "2970efa0-20c6-44bf-92a5-e511555ce762",
   "metadata": {},
   "outputs": [],
   "source": [
    "Primary Key: In a database table, a primary key is a column or a set of columns that uniquely identifies each row in the table. The primary key is used to ensure that each row in the table is unique, and it is often used as a reference by other tables. The primary key is also used to enforce data integrity, which means that it ensures that there are no duplicate or null values in the key column(s).\n",
    "Creating a table named \"customers\" with columns \"customer_id\", \"first_name\", \"last_name\", and \"email\". The \"customer_id\" column is defined as the primary key.\n",
    "\n"
   ]
  },
  {
   "cell_type": "code",
   "execution_count": null,
   "id": "f9850051-f9ea-42ac-8f0c-b387bcf7c59b",
   "metadata": {},
   "outputs": [],
   "source": []
  },
  {
   "cell_type": "code",
   "execution_count": null,
   "id": "3a82a749-dc0d-4df5-9404-e4ce1d9f862a",
   "metadata": {},
   "outputs": [],
   "source": [
    "%%sql\n",
    "CREATE TABLE customers (\n",
    "  customer_id INT PRIMARY KEY,\n",
    "  first_name VARCHAR(50),\n",
    "  last_name VARCHAR(50),\n",
    "  email VARCHAR(100));\n",
    " * sqlite:///test.db\n",
    "\n",
    "%sql SELECT * FROM customers"
   ]
  },
  {
   "cell_type": "code",
   "execution_count": null,
   "id": "0aa5833b-fa2f-4395-872c-9a3bf8cafde4",
   "metadata": {},
   "outputs": [],
   "source": [
    "Foreign Key: A foreign key is a column or a set of columns in a table that refers to the primary key of another table. The foreign key is used to establish a relationship between two tables, and it ensures that the data in the foreign key column(s) of one table matches the data in the primary key column(s) of the other table.\n",
    "Creating a table named \"orders\" with columns \"order_id\", \"order_date\", \"customer_id\", and \"total_amount\". The \"order_id\" column is defined as the primary key, and the \"customer_id\" column is defined as a foreign key that references the \"customer_id\" column of the \"customers\" table. This establishes a relationship between the \"orders\" table and the \"customers\" table. The \"total_amount\" column is used to store the total amount of the order.\n",
    "\n",
    "%%sql\n",
    "CREATE TABLE orders (\n",
    "  order_id INT PRIMARY KEY,\n",
    "  order_date DATE,\n",
    "  customer_id INT,\n",
    "  total_amount DECIMAL(10,2),\n",
    "  FOREIGN KEY (customer_id) REFERENCES customers(customer_id));"
   ]
  },
  {
   "cell_type": "code",
   "execution_count": null,
   "id": "8d58162c-67f0-4134-90a6-30aefe5e60b8",
   "metadata": {},
   "outputs": [],
   "source": [
    "%sql SELECT * FROM orders\n",
    " * sqlite:///test.db\n",
    "Done.\n",
    "order_id\torder_date\tcustomer_id\ttotal_amount\n",
    "Closing SQLite datbase connection\n",
    "con.close()"
   ]
  },
  {
   "cell_type": "code",
   "execution_count": null,
   "id": "7c489d3d-494d-40c2-b828-a1c36101d919",
   "metadata": {},
   "outputs": [],
   "source": []
  },
  {
   "cell_type": "code",
   "execution_count": null,
   "id": "5deedb6e-fd98-4db9-9425-757ad8fabee5",
   "metadata": {},
   "outputs": [],
   "source": []
  },
  {
   "cell_type": "markdown",
   "id": "2a818178-d07c-4385-8cf0-51083b41fe13",
   "metadata": {},
   "source": [
    "Question 6: Write a python code to connect MySQL to python. Explain the cursor() and execute() method"
   ]
  },
  {
   "cell_type": "code",
   "execution_count": null,
   "id": "265b7741-4236-48bd-9beb-ddd2dfdeac67",
   "metadata": {},
   "outputs": [],
   "source": [
    "!pip install mysql-connector-python"
   ]
  },
  {
   "cell_type": "code",
   "execution_count": null,
   "id": "8189dac8-daaa-4c40-9775-b99d7cdc0c6a",
   "metadata": {},
   "outputs": [],
   "source": [
    "import mysql.connector\n",
    "# import mysql.connector\n",
    "#create user 'user'@'%' identified by 'password'\n",
    "mydb = mysql.connector.connect(\n",
    "  host=\"localhost\",\n",
    "  user=\"root\",\n",
    "  password=\"Secure@1994\"\n",
    ")\n",
    "print(mydb)\n",
    "mycursor = mydb.cursor()\n",
    "mycursor.execute(\"SHOW DATABASES\")\n",
    "for x in mycursor:\n",
    "  print(x)\n",
    "mydb.close()"
   ]
  },
  {
   "cell_type": "code",
   "execution_count": null,
   "id": "de9fa666-5fb5-4ebb-9824-7dd7915fcea3",
   "metadata": {},
   "outputs": [],
   "source": [
    "In above code, we first establish a connection to a MySQL database using the mysql.connector.connect() method, which takes the host, user, password as arguments.\n",
    "Next, we create a cursor object using the cursor() method of the connection object. The cursor object allows us to execute queries and fetch results.\n",
    "We then execute a SQL query using the execute() method of the cursor object, which takes the SQL query as an argument.\n",
    "\n"
   ]
  },
  {
   "cell_type": "code",
   "execution_count": null,
   "id": "f725dafe-7a95-491f-95fb-5fd8dba5d0da",
   "metadata": {},
   "outputs": [],
   "source": []
  },
  {
   "cell_type": "code",
   "execution_count": null,
   "id": "4feebf0d-8422-4a44-b902-1ad9c4e38701",
   "metadata": {},
   "outputs": [],
   "source": []
  },
  {
   "cell_type": "markdown",
   "id": "c9014de5-b978-4601-b060-2e80311cacea",
   "metadata": {},
   "source": [
    "Question 7: Give the order of execution of SQL clauses in an SQL query"
   ]
  },
  {
   "cell_type": "markdown",
   "id": "42b4813d-cc42-45af-9c4d-3c4b8e2ddc85",
   "metadata": {},
   "source": [
    "\n",
    "Answer: In an SQL query, the clauses are executed in the following order:\n",
    "FROM clause: Specifies the table or tables from which to retrieve data.\n",
    "\n",
    "JOIN clause: Specifies how to join multiple tables together, if needed.\n",
    "\n",
    "WHERE clause: Specifies which rows to retrieve based on a set of conditions.\n",
    "\n",
    "GROUP BY clause: Specifies how to group rows based on one or more columns.\n",
    "\n",
    "HAVING clause: Specifies which groups to retrieve based on a set of conditions.\n",
    "\n",
    "SELECT clause: Specifies which columns to retrieve.\n",
    "\n",
    "DISTINCT clause: Specifies to retrieve only distinct values of the specified columns.\n",
    "\n",
    "ORDER BY clause: Specifies how to sort the retrieved rows based on one or more columns.\n",
    "\n",
    "LIMIT clause: Specifies the maximum number of rows to retrieve."
   ]
  },
  {
   "cell_type": "code",
   "execution_count": null,
   "id": "b6951ee5-4c24-4352-8aac-869d47697d0e",
   "metadata": {},
   "outputs": [],
   "source": []
  }
 ],
 "metadata": {
  "kernelspec": {
   "display_name": "Python 3 (ipykernel)",
   "language": "python",
   "name": "python3"
  },
  "language_info": {
   "codemirror_mode": {
    "name": "ipython",
    "version": 3
   },
   "file_extension": ".py",
   "mimetype": "text/x-python",
   "name": "python",
   "nbconvert_exporter": "python",
   "pygments_lexer": "ipython3",
   "version": "3.10.8"
  }
 },
 "nbformat": 4,
 "nbformat_minor": 5
}
