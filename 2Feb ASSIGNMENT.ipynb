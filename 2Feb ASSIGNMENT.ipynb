{
 "cells": [
  {
   "cell_type": "markdown",
   "id": "539fdfc1-40bb-4f96-b746-bd620a8d9f67",
   "metadata": {},
   "source": [
    "Q1. What are the characteristics of the tuple? is tuple immutable?\n"
   ]
  },
  {
   "cell_type": "markdown",
   "id": "2c660d7e-9e54-49bf-bea6-71c77607b64d",
   "metadata": {},
   "source": [
    "YES, tuple is immutable \n",
    "\n",
    "Here is the following characteristics of tuple\n",
    "\n",
    "1.)Ordered: Tuples maintain the order of the elements they contain. Each element has a specific position (index) within the tuple.\n",
    "\n",
    "2.)Heterogeneous: Tuples can hold elements of different data types. For example, a tuple can contain a combination of integers, strings, floats, etc.\n",
    "\n",
    "3.)Immutable: Yes, tuples are immutable, which means that once a tuple is created, its elements cannot be changed, added, or removed. However, if a tuple contains mutable objects (like lists), those objects can be modified, even though the tuple itself cannot be changed.\n",
    "\n",
    "4.)Indexed Access: You can access elements of a tuple using their index positions. Indexing starts from 0, so the first element is accessed using index 0, the second with index 1, and so on.\n",
    "\n",
    "5.)Hashable: Tuples are hashable, which means they can be used as keys in dictionaries and elements in sets. This is because of their immutability; their contents don't change, making them suitable for such use cases.\n",
    "\n",
    "6.)Iteration: Tuples can be iterated over using loops, making it easy to process each element sequentially.\n",
    "\n",
    "\n",
    "In summary, tuples are ordered, heterogeneous collections of elements that are immutable. They are often used when you want to group related data together that should not be modified after creation.\n"
   ]
  },
  {
   "cell_type": "code",
   "execution_count": null,
   "id": "951078bd-1245-480e-af6d-2d64df6a05a9",
   "metadata": {},
   "outputs": [],
   "source": []
  },
  {
   "cell_type": "markdown",
   "id": "ecccbfc7-a8d2-4dda-8d08-c3fae7f0f447",
   "metadata": {},
   "source": [
    "Q2.)What are the two tuple methods in python? Give an example of each method. Give a reason why tuples have only two in-built methods as compared to Lists"
   ]
  },
  {
   "cell_type": "code",
   "execution_count": null,
   "id": "5825458c-da98-4274-b538-5891424af75c",
   "metadata": {},
   "outputs": [],
   "source": [
    " Two Functionalities in tuples are :\n",
    "count() - returns the number of occurrences of a given element in the tuple.\n",
    "index() - returns the index of the first occurrence of a given element in the tuple.\n",
    "\n",
    "Tuples have only two in-built methods because they are meant to be lightweight, immutable collections of elements. The idea is to keep them simple, fast, and efficient, rather than providing a lot of functionalities like lists. The two methods provided are the most commonly used ones for tuples. In other cases, it is recommended to use other data structures like lists or dictionaries.\n",
    "\n",
    "#Example of count functionlaity\n",
    "t = (1,3,3,3,3,4,4,4,4,5,5,6,1)\n",
    "print('Count of element 1 in tuple is',t.count(1))\n",
    "print('Count of element 2 in tuple is',t.count(2))\n",
    "print('Count of element 3 in tuple is',t.count(3))\n",
    "print('Count of element 4 in tuple is',t.count(4))\n",
    "Count of element 1 in tuple is 2\n",
    "Count of element 2 in tuple is 0\n",
    "Count of element 3 in tuple is 4\n",
    "Count of element 4 in tuple is 4\n",
    "#Example of index functionality\n",
    "t = (1,3,3,3,3,4,4,4,4,5,5,6,1)\n",
    "t.index(4)\n",
    "5"
   ]
  },
  {
   "cell_type": "code",
   "execution_count": null,
   "id": "6fd6e7e8-95ef-4697-93a9-e9bc41da3473",
   "metadata": {},
   "outputs": [],
   "source": []
  },
  {
   "cell_type": "markdown",
   "id": "742b5b9d-9a56-4775-901b-16d93ba08303",
   "metadata": {},
   "source": [
    "Q3.Which collection datatypes in python do not allow duplicate items? Write a code using a set to remove duplicates from the given list.\n",
    "List = [1, 1, 1, 2, 1, 3, 1, 4, 2, 1, 2, 2, 2, 3, 2, 4, 3, 1, 3, 2, 3, 3, 3, 4, 4, 1, 4, 2, 4, 3, 4, 4]"
   ]
  },
  {
   "cell_type": "code",
   "execution_count": null,
   "id": "5e58ee3c-adc0-48bd-a646-def9490e7e62",
   "metadata": {},
   "outputs": [],
   "source": [
    "The datatype 'Set' does not allow the duplication of items\n",
    "lst = [1, 1, 1, 2, 1, 3, 1, 4, 2, 1, 2, 2, 2, 3, 2, 4, 3, 1, 3, 2, 3, 3, 3, 4, 4, 1, 4, 2, 4, 3, 4, 4]\n",
    "lst1 = set(lst)  #Typecasting to set to remove duplicates\n",
    "lst1 = list(lst1) #Typecasting back to list \n",
    "print(lst1)\n",
    "[1, 2, 3, 4]\n"
   ]
  },
  {
   "cell_type": "code",
   "execution_count": null,
   "id": "14ecdb6b-87ec-4e4f-bf61-bf85da3e2978",
   "metadata": {},
   "outputs": [],
   "source": []
  },
  {
   "cell_type": "markdown",
   "id": "62214f8b-408c-44cb-aadc-27b67725fd65",
   "metadata": {},
   "source": [
    "Q4.Explain the difference between the union() and update() methods for a set. Give an example of each method."
   ]
  },
  {
   "cell_type": "markdown",
   "id": "ccff8548-8f1e-4ddc-be8f-796c6e70102f",
   "metadata": {},
   "source": [
    "Both union() and update() are methods for set objects in Python. They are used to combine the elements of two or more sets. However, they have some differences in their implementation and usage:\n",
    "\n",
    "union(): Returns a set that contains all elements from the original set and all elements from one or more other sets\n",
    "update(): Adds all elements from one or more other sets to the original set.\n",
    "\n",
    "In summary, the union() method returns a new set that contains the union of two or more sets, while the update() method updates the original set to contain the union of itself and one or more other sets.\n",
    "\n"
   ]
  },
  {
   "cell_type": "code",
   "execution_count": null,
   "id": "f4fc3ed3-4c30-428e-8681-8a0318030b2e",
   "metadata": {},
   "outputs": [],
   "source": [
    "# Union Example \n",
    "s1 = {'cat','dog','otter','horse'}\n",
    "s2 = {'horse','cat','donkey','monkey'}\n",
    "s1.union(s2) # This output will give an entire new set which can be stored into a variable\n",
    "{'cat', 'dog', 'donkey', 'horse', 'monkey', 'otter'}\n",
    "# Update example\n",
    "s1 = {'cat','dog','otter','horse'}\n",
    "s2 = {'horse','cat','donkey','monkey'}\n",
    "s1.update(s2)\n",
    "s1\n",
    "{'cat', 'dog', 'donkey', 'horse', 'monkey', 'otter'}\n",
    "s2\n",
    "{'cat', 'donkey', 'horse', 'monkey'}"
   ]
  },
  {
   "cell_type": "code",
   "execution_count": null,
   "id": "7a50b5de-0262-4676-a0ca-9ec093f879bb",
   "metadata": {},
   "outputs": [],
   "source": []
  },
  {
   "cell_type": "markdown",
   "id": "0ab95bce-de71-48ab-8a47-698b0fdbf48d",
   "metadata": {},
   "source": [
    "Q5.What is a dictionary? Give an example. Also, state whether a dictionary is ordered or unordered"
   ]
  },
  {
   "cell_type": "markdown",
   "id": "0ebced42-50eb-4480-802c-f8127fb65308",
   "metadata": {},
   "source": [
    "A dictionary in Python is an unordered collection of key-value pairs, where each key is unique.\n",
    "It is an implementation of a hash table data structure, and it is often used to store and retrieve data efficiently.\n",
    "\n",
    "#Example of Dictionary \n",
    "dct = {'name':'Chetan' ,'gender':'male','hobby':'music','favourite subject':'calculus'}\n",
    "print(dct)\n",
    "print(type(dct))\n",
    "\n",
    "Dictionaries in Python are unordered, which means that the elements are not stored in a particular order, and their order may change over time.\n",
    "The order of the elements can be controlled by sorting the keys, but by default, the order is not guaranteed.\n",
    "\n",
    "\n"
   ]
  },
  {
   "cell_type": "code",
   "execution_count": null,
   "id": "5b8cf384-ade1-48ad-8e03-d352b7fcc511",
   "metadata": {},
   "outputs": [],
   "source": []
  },
  {
   "cell_type": "markdown",
   "id": "476ab367-95f6-4c64-8149-2f9b8b038002",
   "metadata": {},
   "source": [
    "Q6.Can we create a nested dictionary? If so, please give an example by creating a simple one-level nested dictionary."
   ]
  },
  {
   "cell_type": "markdown",
   "id": "3326538f-be85-4a90-a829-4d2d0d3adc0d",
   "metadata": {},
   "source": [
    "Yes we can create a nested dictionary in Python\n",
    "nest_dct = {'apple':{'color':'red','type':'fruit'},'spinach':{'color':'green','type':'leafy vegetable'}}\n",
    "nest_dct\n",
    "{'apple': {'color': 'red', 'type': 'fruit'},\n",
    " 'spinach': {'color': 'green', 'type': 'leafy vegetable'}}\n",
    "\n"
   ]
  },
  {
   "cell_type": "code",
   "execution_count": null,
   "id": "9800b6d0-d334-4601-a2fa-1840c914d48e",
   "metadata": {},
   "outputs": [],
   "source": []
  },
  {
   "cell_type": "code",
   "execution_count": null,
   "id": "5d24aa5e-f357-4189-ab62-778fe7a3949a",
   "metadata": {},
   "outputs": [],
   "source": []
  },
  {
   "cell_type": "markdown",
   "id": "15913f35-55e5-48d1-b8c6-85a6172e086b",
   "metadata": {},
   "source": [
    "Q7.Using setdefault() method, create key named topics in the given dictionary and also add the value of the key as this list ['Python', 'Machine Learning’, 'Deep Learning']"
   ]
  },
  {
   "cell_type": "markdown",
   "id": "8d7cfcac-1526-4650-aeec-c7189c1aad9f",
   "metadata": {},
   "source": [
    "dict1 = {'language' : 'Python', 'course': 'Data Science Masters'}\n",
    "dict1.setdefault('topics', ['Python', 'Machine Learning', 'Deep Learning'])\n",
    "dict1\n"
   ]
  },
  {
   "cell_type": "code",
   "execution_count": null,
   "id": "47705488-8b4b-46fb-af97-b628a1064a0b",
   "metadata": {},
   "outputs": [],
   "source": []
  },
  {
   "cell_type": "code",
   "execution_count": null,
   "id": "1b434dc8-d8e5-4fbe-a01b-ab32124a0721",
   "metadata": {},
   "outputs": [],
   "source": []
  },
  {
   "cell_type": "markdown",
   "id": "b3635c8b-92b4-45e8-b725-2a955c64b5ab",
   "metadata": {},
   "source": [
    "Q8.What are the three view objects in dictionaries? Use the three in-built methods in python to display these three view objects for the given dictionary?\n",
    "\n",
    "dict1 = {'Sport': 'Cricket' , 'Teams': ['India', 'Australia', 'England', 'South Africa', 'Sri Lanka', 'New Zealand']}"
   ]
  },
  {
   "cell_type": "code",
   "execution_count": 2,
   "id": "bddfd4ae-80c3-42be-9466-9c20b14c0862",
   "metadata": {},
   "outputs": [],
   "source": [
    "dict1 = {'Sport': 'Cricket' , 'Teams': ['India', 'Australia', 'England', 'South Africa', 'Sri Lanka', 'New Zealand']}\n",
    "\n",
    "dir(dict1)\n",
    "\n",
    "Example 1 : get()\n",
    "\n",
    "get(key[, default])\n",
    "Return the value for key if key is in the dictionary, else default. If default is not given, it defaults to None, so that this method never raises a KeyError.\n",
    "\n",
    "dict1.get('Sport')\n",
    "'Cricket'\n",
    "print(dict1.get('name'))\n",
    "None\n",
    "\n",
    "Example 2: reversed()\n",
    "Return a reverse iterator over the keys of the dictionary.\n",
    "\n",
    "print(reversed(dict1))\n",
    "<dict_reversekeyiterator object at 0x00000123B069CE00>\n",
    "for i in reversed(dict1):\n",
    "    print(i)\n",
    "Teams\n",
    "Sport\n",
    "for i in dict1:\n",
    "    print(i)\n",
    "Sport\n",
    "Teams\n",
    "\n",
    "\n",
    "Example 3: keys()\n",
    "Return a new view of the dictionary’s keys.\n",
    "\n",
    "dict1.keys()\n",
    "dict_keys(['Sport', 'Teams'])\n"
   ]
  },
  {
   "cell_type": "code",
   "execution_count": null,
   "id": "3afbb6f8-4543-4617-a3a7-945f8d0416f7",
   "metadata": {},
   "outputs": [],
   "source": []
  },
  {
   "cell_type": "code",
   "execution_count": null,
   "id": "5e89ea63-4614-4048-ac93-ecfd0ca14cff",
   "metadata": {},
   "outputs": [],
   "source": []
  },
  {
   "cell_type": "code",
   "execution_count": null,
   "id": "8c63bbe1-5826-4437-8f5e-67442f5c229b",
   "metadata": {},
   "outputs": [],
   "source": []
  }
 ],
 "metadata": {
  "kernelspec": {
   "display_name": "Python 3 (ipykernel)",
   "language": "python",
   "name": "python3"
  },
  "language_info": {
   "codemirror_mode": {
    "name": "ipython",
    "version": 3
   },
   "file_extension": ".py",
   "mimetype": "text/x-python",
   "name": "python",
   "nbconvert_exporter": "python",
   "pygments_lexer": "ipython3",
   "version": "3.10.8"
  }
 },
 "nbformat": 4,
 "nbformat_minor": 5
}
