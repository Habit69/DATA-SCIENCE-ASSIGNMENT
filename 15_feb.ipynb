{
 "cells": [
  {
   "cell_type": "markdown",
   "id": "7f44d8a2-cd56-4b0c-a39c-b0a164242bb6",
   "metadata": {},
   "source": [
    "Question 1: What is multiprocessing in python? Why is it useful?"
   ]
  },
  {
   "cell_type": "markdown",
   "id": "25778a56-0350-4996-9ac2-622e84f3820c",
   "metadata": {},
   "source": [
    "Answer:\n",
    "    Multiprocessing in Python refers to the ability to execute multiple processes or tasks simultaneously on multiple processors or cores of a computer, as opposed to executing them in a sequential manner.\n",
    "In simpler terms, multiprocessing allows you to take advantage of the multi-core processors in modern computers to perform CPU-intensive tasks more efficiently, by splitting them into smaller sub-tasks that can be executed simultaneously on different processors. This can significantly reduce the time taken to complete the tasks and improve the overall performance of the program.\n",
    "In Python, the multiprocessing module provides a way to create and manage multiple processes. It offers several classes and functions to create and control processes, to communicate and share data between them, and to handle exceptions and errors that may occur during their execution."
   ]
  },
  {
   "cell_type": "markdown",
   "id": "ef06078d-735c-4774-bae9-e5c11f9a81d4",
   "metadata": {},
   "source": [
    "Multiprocessing is useful in various scenarios, such as:\n",
    "\n",
    "CPU-intensive tasks: Multiprocessing can speed up the execution of tasks that require a lot of CPU time, such as image processing, machine learning, and scientific computing.\n",
    "\n",
    "Parallel programming: Multiprocessing can be used to implement parallel algorithms, where multiple processes work together to solve a problem.\n",
    "\n",
    "Scalability: Multiprocessing can help to scale up the performance of a program as the size of the data or the complexity of the problem increases.\n",
    "\n",
    "Fault-tolerance: Multiprocessing can improve the reliability of a program by isolating the processes from each other and preventing errors in one process from affecting the others.\n",
    "\n"
   ]
  },
  {
   "cell_type": "code",
   "execution_count": null,
   "id": "f43a8d42-ade6-41a9-b11f-884a1d38a09f",
   "metadata": {},
   "outputs": [],
   "source": [
    "#Below is small example of multiprocessing\n",
    "import multiprocessing\n",
    "\n",
    "def square(n):\n",
    "    \"\"\"\n",
    "    This function returns square of a given number\n",
    "    \"\"\"\n",
    "    return n**2\n",
    "\n",
    "if __name__ == '__main__':\n",
    "    pool = multiprocessing.Pool(processes=5)\n",
    "\n",
    "    # Map the worker function to the numbers 0-3\n",
    "    # The map function will divide the work and distribute it among the processes\n",
    "    # Each process will execute the worker function with its assigned number\n",
    "    results = pool.map(square, range(10))\n",
    "    print(results)\n",
    "\n",
    "    # Close the pool and wait for the worker processes to finish\n",
    "    pool.close()\n",
    "    pool.join()\n",
    "\n",
    "    print('All squares calculated with multiprocessing')"
   ]
  },
  {
   "cell_type": "code",
   "execution_count": null,
   "id": "5b334279-0af7-4261-82fa-f4fc5c86ea38",
   "metadata": {},
   "outputs": [],
   "source": []
  },
  {
   "cell_type": "code",
   "execution_count": null,
   "id": "e494ac94-218d-459c-96ff-715ac0a18a14",
   "metadata": {},
   "outputs": [],
   "source": []
  },
  {
   "cell_type": "code",
   "execution_count": null,
   "id": "b817613c-c260-40f7-9ffa-def6d4da1159",
   "metadata": {},
   "outputs": [],
   "source": []
  },
  {
   "cell_type": "markdown",
   "id": "7961b363-c384-44dc-b08e-8f1aab94db59",
   "metadata": {},
   "source": [
    "Question 2: What are the differences between multiprocessing and multithreading?"
   ]
  },
  {
   "cell_type": "markdown",
   "id": "d875dcce-8402-4ee2-869e-eae76e7e72f2",
   "metadata": {},
   "source": [
    "Answer : Below Table describes differences between Multiprocessing and Multithreading\n",
    "Feature\t                        Multiprocessing           \t      Multithreading\n",
    "Execution model\t    Multiple processes Seperate processor core used for each process\tMultiple threads within a single process\n",
    "Parallelism\tTrue parallelism\tConcurrency due to GIL\n",
    "Resource usage\tHigher resource usage, slower startup times\tLower resource usage, faster startup times\n",
    "Communication\tIPC mechanisms (pipes, queues, shared memory)\tShared memory, synchronization primitives\n",
    "Debugging\tMore complex (multiple memory spaces)\tEasier (shared memory, single memory space)\n",
    "Best for\tCPU-bound tasks\tI/O-bound tasks\n",
    "\n"
   ]
  },
  {
   "cell_type": "code",
   "execution_count": null,
   "id": "5970a524-235c-489e-97ff-f96b3f412015",
   "metadata": {},
   "outputs": [],
   "source": []
  },
  {
   "cell_type": "code",
   "execution_count": null,
   "id": "9626b1bc-0e82-4fae-9c9c-5f4920a53022",
   "metadata": {},
   "outputs": [],
   "source": []
  },
  {
   "cell_type": "markdown",
   "id": "11b4e585-2f66-49d7-96ee-41452f069454",
   "metadata": {},
   "source": [
    "Question 3: Write a python code to create a process using the multiprocessing module."
   ]
  },
  {
   "cell_type": "markdown",
   "id": "2ace0769-6208-4cbd-9045-cc15583d85c3",
   "metadata": {},
   "source": [
    "Let's say you have a Python program that performs some time-consuming task, such as downloading large files from the internet.\n",
    "You want to be able to run this program in parallel, so that multiple downloads can happen at the same time, speeding up the overall process.\n",
    "To achieve this, you can use the multiprocessing module to create a separate process for each download, allowing the downloads to happen in parallel."
   ]
  },
  {
   "cell_type": "code",
   "execution_count": null,
   "id": "4732d3bc-4571-402a-8806-fef860b3328a",
   "metadata": {},
   "outputs": [],
   "source": [
    "import multiprocessing\n",
    "import requests\n",
    "\n",
    "def download_file(url, filename):\n",
    "    \"\"\"Download a file from a given URL and save it to disk\"\"\"\n",
    "    response = requests.get(url)\n",
    "    with open(filename, 'wb') as f:\n",
    "        f.write(response.content)\n",
    "    print(f\"Downloaded {url} to {filename}\")\n",
    "\n",
    "if __name__ == '__main__':\n",
    "    # URLs of files to download\n",
    "    urls = [\n",
    "        'https://raw.githubusercontent.com/utkarshg1/PWSkills-Assignments/main/Assignment%2013%20-%2014%20February%202023/data1.txt',\n",
    "        'https://raw.githubusercontent.com/utkarshg1/PWSkills-Assignments/main/Assignment%2013%20-%2014%20February%202023/data2.txt',\n",
    "        'https://raw.githubusercontent.com/utkarshg1/PWSkills-Assignments/main/Assignment%2013%20-%2014%20February%202023/data3.txt'\n",
    "    ]\n",
    "\n",
    "    # Create a new process for each download\n",
    "    processes = []\n",
    "    for i, url in enumerate(urls):\n",
    "        filename = f\"file{i+1}.txt\"\n",
    "        p = multiprocessing.Process(target=download_file, args=(url, filename))\n",
    "        processes.append(p)\n",
    "        p.start()\n",
    "\n",
    "    # Wait for all processes to finish\n",
    "    for p in processes:\n",
    "        p.join()\n",
    "\n",
    "    print(\"All downloads completed\")"
   ]
  },
  {
   "cell_type": "code",
   "execution_count": null,
   "id": "50be1590-c783-4a03-ae69-7c990e91596f",
   "metadata": {},
   "outputs": [],
   "source": [
    "import multiprocessing\n",
    "\n",
    "def cube(index, value):\n",
    "    \"\"\"\n",
    "    This function returns a cube of given index inside a list\n",
    "    \"\"\"\n",
    "    value[index] = value[index]**3\n",
    "\n",
    "if __name__ == '__main__':\n",
    "    # Creating an example array list to get cubes\n",
    "    arr = multiprocessing.Array('i',[2,3,4,5,6,7,8,9,10,11,12,13,14,15,16])\n",
    "    \n",
    "    # Creating processes list for appeding the processes\n",
    "    process = []\n",
    "    for i in range(15):\n",
    "        m = multiprocessing.Process(target=cube,args=(i,arr))\n",
    "        process.append(m)\n",
    "        m.start()\n",
    "        \n",
    "    # Wait for processes to finish\n",
    "    for j in process:\n",
    "        j.join()\n",
    "    print(list(arr))"
   ]
  },
  {
   "cell_type": "code",
   "execution_count": null,
   "id": "1492d40a-3fbf-4de6-9f0a-2ff83d2c639c",
   "metadata": {},
   "outputs": [],
   "source": []
  },
  {
   "cell_type": "markdown",
   "id": "63d52b06-3268-4fe8-ac21-9553872fd397",
   "metadata": {},
   "source": [
    "Question 4: What is a multiprocessing pool in python? Why is it used?\n",
    "\n"
   ]
  },
  {
   "cell_type": "markdown",
   "id": "f99ced95-2e35-4948-976d-5b6726720a75",
   "metadata": {},
   "source": [
    "In Python, a multiprocessing pool is a class in the multiprocessing module that provides a way to distribute tasks across multiple CPU cores. The idea is to create a pool of worker processes that can execute tasks in parallel, thereby reducing the time it takes to complete a large number of tasks.\n",
    "\n",
    "Here's how it works:\n",
    "\n",
    "You create a Pool object with a specified number of worker processes.\n",
    "You submit tasks to the pool using the apply(), apply_async(), map(), or map_async() methods.\n",
    "The pool distributes the tasks among the worker processes and runs them in parallel.\n",
    "The results of each task are collected and returned to the main process.\n",
    "The advantage of using a multiprocessing pool is that it allows you to take advantage of multiple CPU cores to perform computations in parallel. This can lead to significant speedups for CPU-bound tasks, such as numerical computations, image processing, or machine learning.\n",
    "\n",
    "The Pool class in Python also provides various methods for controlling the number of worker processes, waiting for tasks to complete, and handling errors. Overall, it's a powerful tool for scaling up your Python programs to take advantage of modern hardware"
   ]
  },
  {
   "cell_type": "markdown",
   "id": "b5b15cbd-1f56-429f-b11b-8917c330eb4b",
   "metadata": {},
   "source": []
  },
  {
   "cell_type": "code",
   "execution_count": null,
   "id": "818ed77d-67aa-4d93-afda-7ce0a1e1c8b2",
   "metadata": {},
   "outputs": [],
   "source": []
  },
  {
   "cell_type": "markdown",
   "id": "15533876-6cc4-4b40-aadc-27374dd8d10c",
   "metadata": {},
   "source": [
    "Question 5: How can we create a pool of worker processes in python using multiprocessing module?"
   ]
  },
  {
   "cell_type": "markdown",
   "id": "e132889c-56b4-4eff-b9ec-2d443fa7b895",
   "metadata": {},
   "source": [
    "We can create pool with help of multiprocessing.Pool Function\n",
    "Example Calculating Gamma Function Values for various elements in a list\n",
    "this can be calculated with math.gamma() for single value\n"
   ]
  },
  {
   "cell_type": "code",
   "execution_count": null,
   "id": "96661051-9269-4bcd-8f02-65735831e16f",
   "metadata": {},
   "outputs": [],
   "source": [
    "import multiprocessing\n",
    "import math\n",
    "\n",
    "def calc_gamma(x):\n",
    "    \"\"\"Function to be executed by worker processes\"\"\"\n",
    "    result = math.gamma(x)\n",
    "    return result\n",
    "\n",
    "if __name__ == '__main__':\n",
    "    # Create a list of values for which to calculate the gamma function\n",
    "    values = [0.5, 1, 2, 3, 4, 5, 6, 7, 8, 9, 10]\n",
    "\n",
    "    # Create a pool of worker processes\n",
    "    pool = multiprocessing.Pool(processes=4)\n",
    "\n",
    "    # Map the gamma function calculation function to the values\n",
    "    results = pool.map(calc_gamma, values)\n",
    "\n",
    "    # Close the pool and wait for the worker processes to finish\n",
    "    pool.close()\n",
    "    pool.join()\n",
    "\n",
    "    # Print the results\n",
    "    for i in range(len(values)):\n",
    "        print(f\"Gamma({values[i]}) = {results[i]}\")"
   ]
  },
  {
   "cell_type": "code",
   "execution_count": null,
   "id": "991f0db5-b445-4eda-81c5-413d9a05e43c",
   "metadata": {},
   "outputs": [],
   "source": []
  },
  {
   "cell_type": "code",
   "execution_count": null,
   "id": "b88f9537-2cca-431f-8b19-8381521097ba",
   "metadata": {},
   "outputs": [],
   "source": []
  },
  {
   "cell_type": "code",
   "execution_count": null,
   "id": "536382a9-130e-4f30-ad42-9eba9d5fca30",
   "metadata": {},
   "outputs": [],
   "source": []
  },
  {
   "cell_type": "markdown",
   "id": "428cc4ca-eb98-4357-a207-5d1aab2f42a8",
   "metadata": {},
   "source": [
    "Question 6 : Write a python program to create 4 processes, each process should print a different number using the multiprocessing module in python.\n"
   ]
  },
  {
   "cell_type": "code",
   "execution_count": null,
   "id": "2350eeb0-b533-4856-9713-f5dec52ff42e",
   "metadata": {},
   "outputs": [],
   "source": [
    "import multiprocessing\n",
    "import random\n",
    "\n",
    "def generate_random_number(num):\n",
    "    \"\"\"\n",
    "    This function generates random numbers between 1 to 100\n",
    "    \"\"\"\n",
    "    random_number = random.randint(1, 100)\n",
    "    print(f\"Process number {num}, random number generated : {random_number}\")\n",
    "\n",
    "if __name__ == '__main__':\n",
    "    # Creating a processess list\n",
    "    processes = []\n",
    "    for i in range(4):\n",
    "        p = multiprocessing.Process(target=generate_random_number, args=(i,))\n",
    "        processes.append(p)\n",
    "        p.start()\n",
    "    \n",
    "    # Waiting for processess to complete\n",
    "    for p in processes:\n",
    "        p.join()"
   ]
  },
  {
   "cell_type": "code",
   "execution_count": null,
   "id": "4f526710-0604-49fa-8eb6-a37d03a645a5",
   "metadata": {},
   "outputs": [],
   "source": []
  },
  {
   "cell_type": "code",
   "execution_count": null,
   "id": "95ad6b2f-36fc-4a3a-a72e-535a2e3a6e39",
   "metadata": {},
   "outputs": [],
   "source": []
  },
  {
   "cell_type": "code",
   "execution_count": null,
   "id": "8b436bb2-f7a1-45d1-b869-30a2143d2e95",
   "metadata": {},
   "outputs": [],
   "source": []
  },
  {
   "cell_type": "code",
   "execution_count": null,
   "id": "bf1f6f97-a462-411b-a029-4191c613b80b",
   "metadata": {},
   "outputs": [],
   "source": []
  },
  {
   "cell_type": "code",
   "execution_count": null,
   "id": "4b2e3694-06dc-454f-ad50-1321c8d2a078",
   "metadata": {},
   "outputs": [],
   "source": []
  }
 ],
 "metadata": {
  "kernelspec": {
   "display_name": "Python 3 (ipykernel)",
   "language": "python",
   "name": "python3"
  },
  "language_info": {
   "codemirror_mode": {
    "name": "ipython",
    "version": 3
   },
   "file_extension": ".py",
   "mimetype": "text/x-python",
   "name": "python",
   "nbconvert_exporter": "python",
   "pygments_lexer": "ipython3",
   "version": "3.10.8"
  }
 },
 "nbformat": 4,
 "nbformat_minor": 5
}
