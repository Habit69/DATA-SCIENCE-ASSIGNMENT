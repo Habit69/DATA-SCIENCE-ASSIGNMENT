{
 "cells": [
  {
   "cell_type": "markdown",
   "id": "3fed097c-a48a-4766-a0eb-643789e730f0",
   "metadata": {},
   "source": [
    "Question 1: What is an exception in python? Write the difference between Exceptions and syntax errors."
   ]
  },
  {
   "cell_type": "markdown",
   "id": "ba90fbde-8971-4d2f-8303-769f68ecd469",
   "metadata": {},
   "source": [
    "Answer : An exception is an event, which occurs during the execution of a program that disrupts the normal flow of the program's instructions.\n",
    "In general, when a Python script encounters a situation that it cannot cope with, it raises an exception.\n",
    "Difference in syntax error and exception :\n",
    "Errors cannot be handled, while Python exceptions can be handled at the run time.\n",
    "An error can be a syntax (parsing) error, while there can be many types of exceptions that could occur during the execution and are not unconditionally inoperable.\n"
   ]
  },
  {
   "cell_type": "code",
   "execution_count": null,
   "id": "4c8c55f7-e011-426e-921f-7a7a392fb702",
   "metadata": {},
   "outputs": [],
   "source": [
    "logging.info('This is Question 1 , Example 1')\n",
    "a = 23\n",
    "a/0 #Division by zero is an exception"
   ]
  },
  {
   "cell_type": "code",
   "execution_count": null,
   "id": "699d46bb-1e2c-48e5-af39-13e9efda4f9c",
   "metadata": {},
   "outputs": [],
   "source": [
    "ZeroDivisionError: division by zero\n",
    "# Example of syntax error\n",
    "a = 2\n",
    "b = 3\n",
    "print(a b) #incorrect syntax here will raise syntax error"
   ]
  },
  {
   "cell_type": "code",
   "execution_count": null,
   "id": "d8bb9dc4-6698-471e-a148-94b2b5b8fc56",
   "metadata": {},
   "outputs": [],
   "source": []
  },
  {
   "cell_type": "code",
   "execution_count": null,
   "id": "7f1d21f7-19d5-4695-b969-55c4566906ee",
   "metadata": {},
   "outputs": [],
   "source": []
  },
  {
   "cell_type": "markdown",
   "id": "0ac5d5f9-a3ad-40ab-98dc-72d60e6110ab",
   "metadata": {},
   "source": [
    "Question 2: What happens if exception is not handled? Explain with an example."
   ]
  },
  {
   "cell_type": "markdown",
   "id": "63d3fa2c-e902-471e-aa52-58008f979a51",
   "metadata": {},
   "source": [
    "Answer : If Exception is not handled the code below the exception will not execute at all. It will stop the program at exception.\n",
    "logging.info('This is Question 2 start')\n",
    "a = 56\n",
    "print(a/0) # This will cause Zero Division Error\n",
    "print(a+23) # None of these code and below lines will not excute because exception was not handled\n",
    "print('This will not execute') # Will not execute because exception not handled"
   ]
  },
  {
   "cell_type": "code",
   "execution_count": null,
   "id": "ae7d095a-e204-4e6b-af4a-45aef8c67f18",
   "metadata": {},
   "outputs": [],
   "source": []
  },
  {
   "cell_type": "code",
   "execution_count": null,
   "id": "089310e4-83e9-482d-97b4-03d12f82aabe",
   "metadata": {},
   "outputs": [],
   "source": []
  },
  {
   "cell_type": "markdown",
   "id": "f1e158da-12a0-4bc7-9a5f-35717554f91b",
   "metadata": {},
   "source": [
    "Question 3: Which Python Statements are used to catch and handle exceptions? Explain with an example."
   ]
  },
  {
   "cell_type": "code",
   "execution_count": null,
   "id": "eaae11bd-f2e9-40c0-bcc1-f45cde06bf72",
   "metadata": {},
   "outputs": [],
   "source": [
    "The try and except block in Python is used to catch and handle exceptions.\n",
    "# I'm Creating a file example reading exception handling\n",
    "logging.info('This is Start of Question 3')\n",
    "try:\n",
    "    # This code will be tried for execution\n",
    "    with open('sample.txt','r') as f:\n",
    "        print(f.read())\n",
    "        logging.info('Try block from question 3 executed')\n",
    "\n",
    "except Exception as e:\n",
    "    # Exception will be caught here and message will display\n",
    "    print('There is exception in this code:',e)\n",
    "    logging.exception('Except block from Question 3 executed')\n",
    "finally:\n",
    "    # This code will execute regardless wether try block executes or not\n",
    "    a = 23\n",
    "    b = 45\n",
    "    print(f'a={a}, b= {b}, a*b ={a*b}')\n",
    "    logging.info('Finally Block from Question 3 executed')"
   ]
  },
  {
   "cell_type": "code",
   "execution_count": null,
   "id": "facbec6e-1db6-4ba7-b50e-cc7a22734a9f",
   "metadata": {},
   "outputs": [],
   "source": []
  },
  {
   "cell_type": "code",
   "execution_count": null,
   "id": "4380c94c-7601-4c07-a4d3-0ca0aee7297d",
   "metadata": {},
   "outputs": [],
   "source": []
  },
  {
   "cell_type": "code",
   "execution_count": null,
   "id": "87998f3c-83a9-4914-9789-a3bc36166b71",
   "metadata": {},
   "outputs": [],
   "source": []
  },
  {
   "cell_type": "markdown",
   "id": "2d68617e-02f0-4c16-9eff-ea3aa5eb455c",
   "metadata": {},
   "source": [
    "Question 4 : Explain with an example:\n",
    "\n",
    "#Try and else\n",
    "#finally\n",
    "#raise\n"
   ]
  },
  {
   "cell_type": "code",
   "execution_count": null,
   "id": "ee33f6ad-b0fd-4612-8c3e-612069f25157",
   "metadata": {},
   "outputs": [],
   "source": [
    "Try and else : Try block will execute if no exceptions. If no exceptions only then else block is executed. If exception occured except block will get executed\n",
    "# creating a custom function for division with Try, Except ,Else blocks\n",
    "def divide(a,b):\n",
    "    \"\"\"\n",
    "    This is division function with excption handling\n",
    "    \"\"\"\n",
    "    logging.info('This is Start of function divide')\n",
    "    try:\n",
    "        # Try block will execute if there is no exception\n",
    "        result = a/b\n",
    "        print('Try Block Executed.')\n",
    "        logging.info('Try Block executed')\n",
    "    except Exception as e:\n",
    "        # Except block will execute if exception found\n",
    "        print('Exception occured : ',e)\n",
    "        logging.exception('Except block executed')\n",
    "    else:\n",
    "        # This block will execute only if try block executed\n",
    "        print('Else Block Executed')\n",
    "        logging.info('Else Block executed')\n",
    "        return result\n"
   ]
  },
  {
   "cell_type": "code",
   "execution_count": null,
   "id": "8bc3bd54-257f-44bb-a904-27876b3c7827",
   "metadata": {},
   "outputs": [],
   "source": [
    "divide(5,4)\n"
   ]
  },
  {
   "cell_type": "code",
   "execution_count": null,
   "id": "37d686fa-fa1d-421e-88a9-480e6fabc873",
   "metadata": {},
   "outputs": [],
   "source": [
    "divide(0,6)\n"
   ]
  },
  {
   "cell_type": "code",
   "execution_count": null,
   "id": "0382e9d4-a128-4de8-80b6-eccc77c6c9fd",
   "metadata": {},
   "outputs": [],
   "source": [
    "divide(1002,0)\n"
   ]
  },
  {
   "cell_type": "code",
   "execution_count": null,
   "id": "07ab500d-d2bd-43a1-b872-bd16fc280a3b",
   "metadata": {},
   "outputs": [],
   "source": [
    "divide('1234',123)\n"
   ]
  },
  {
   "cell_type": "code",
   "execution_count": null,
   "id": "b6e614e0-066b-43ba-8c2c-0bef4ed01dbb",
   "metadata": {},
   "outputs": [],
   "source": [
    "Finally : This code block will always execute .Regardless wether try, except, else blocks are executed\n",
    "logging.info('Explaining Finally block code of Question 3')\n",
    "try:\n",
    "    # Try block executes if no exception occurs\n",
    "    a = 1\n",
    "    b = '23'\n",
    "    c = a + b\n",
    "    print(c)\n",
    "    logging.info('Try Block executed')\n",
    "except Exception as e:\n",
    "    # Except block will execute if exception occurs\n",
    "    print('Exception Occured :',e)\n",
    "    logging.exception('Except block executed')\n",
    "finally:\n",
    "    # Finally Block will always execute regardless of exception found or not\n",
    "    print('This Finally Block will always be executed')\n",
    "    logging.info('Finally Block executed')"
   ]
  },
  {
   "cell_type": "code",
   "execution_count": null,
   "id": "fe305e79-e7ba-4f25-b623-3035f111be4b",
   "metadata": {},
   "outputs": [],
   "source": [
    "logging.info('Explaining Finally block code of Question 3 Finally example 2')\n",
    "try:\n",
    "    # Try block executes if no exception occurs\n",
    "    a = 1\n",
    "    b = 54\n",
    "    c = a + b\n",
    "    print(c)\n",
    "    logging.info('Try Block executed')    \n",
    "except Exception as e:\n",
    "    # Except block will execute if exception occurs\n",
    "    print('Exception Occured :',e)\n",
    "    logging.exception('Except block executed')\n",
    "finally:\n",
    "    # Finally Block will always execute regardless of exception found or not\n",
    "    print('This Finally Block will always be executed')\n",
    "    logging.info('Finally block executed')\n",
    "    "
   ]
  },
  {
   "cell_type": "code",
   "execution_count": null,
   "id": "1edf854e-1d03-490f-b5ec-c088a94f18b2",
   "metadata": {},
   "outputs": [],
   "source": [
    "raise : Python raise Keyword is used to raise exceptions or errors. The raise keyword raises an error and stops the control flow of the program. It is used to bring up the current exception in an exception handler so that it can be handled further up the call stack.\n",
    "# Take input as mobile number and raise error if it is not 10 digits and numeric\n",
    "def mob_num():\n",
    "    logging.info('This is start of mob_num function from Question 3 Raise explaination')\n",
    "    mob = input('Enter Mobile number : ')\n",
    "    print('The moblie number entered is',mob)\n",
    "    # Check if length of mobile number is 10 digits and length is 10 digits\n",
    "    if len(mob)!=10 or mob.isnumeric()!= True:\n",
    "        logging.exception('Exception occured invalid mobile number')\n",
    "        raise Exception('Invalid Mobile number is entered') \n",
    "        \n",
    "        \n",
    "# Case 1 : Entering digits less than 10\n",
    "mob_num()"
   ]
  },
  {
   "cell_type": "code",
   "execution_count": null,
   "id": "2d96c392-f706-4b92-a720-bd5ed589cd74",
   "metadata": {},
   "outputs": [],
   "source": [
    "# Case 2: Entering 10 digit number but has alphabets\n",
    "mob_num()\n"
   ]
  },
  {
   "cell_type": "code",
   "execution_count": null,
   "id": "5b574c62-8f81-4a51-8ba4-bdc457502559",
   "metadata": {},
   "outputs": [],
   "source": [
    "# Case 3 : Entering all 10 digit mob number\n",
    "mob_num()"
   ]
  },
  {
   "cell_type": "raw",
   "id": "3b85990b-32ca-4ae4-bfc8-4ebc16687c77",
   "metadata": {},
   "source": []
  },
  {
   "cell_type": "raw",
   "id": "99bd6687-cd7b-4c81-bce1-b2554ddaf500",
   "metadata": {},
   "source": []
  },
  {
   "cell_type": "raw",
   "id": "0fcae4af-afdd-43bd-8e44-a3cab4b7ad61",
   "metadata": {},
   "source": []
  },
  {
   "cell_type": "markdown",
   "id": "9855c317-675f-4f0d-b123-81a89d9ed1ea",
   "metadata": {},
   "source": [
    "Question 5 : What are custom Exceptions in python ? Why do we need Custom Exceptions? Explain with an Exampl"
   ]
  },
  {
   "cell_type": "markdown",
   "id": "958eb586-6b9f-4b0a-819f-218a3f2bf138",
   "metadata": {},
   "source": [
    "Answer:\n",
    " \n",
    " Built-in exceptions offer information about Python-related problems, and custom exceptions will add information about project-related problems. Example percentage value should always be between 0 to 100\n",
    "Python detects all the critical errors that occur during Compile-time and Runtime. It stops the program's execution if the error occurs and raises an exception. Some commonly raised Exceptions are ArithmeticError, AttributeError, ImportError, IOError, FileNotFoundError, etc.\n",
    "\n",
    "Sometimes we must enforce constraints on the values that specific program variables can take or save the program from running into an undesired state. In such situations, Python allows programmers to create User-defined Exceptions. To create a User-defined Exception, we need to create a class directly or indirectly derived from the built-in Exception class"
   ]
  },
  {
   "cell_type": "code",
   "execution_count": null,
   "id": "40773337-6bea-402c-8a6b-1eadca1db265",
   "metadata": {},
   "outputs": [],
   "source": [
    "class pcterror(Exception):\n",
    "    def __init__(self,msg):\n",
    "        self.msg = msg"
   ]
  },
  {
   "cell_type": "code",
   "execution_count": null,
   "id": "6d949272-2935-4a89-9488-664eff8adea1",
   "metadata": {},
   "outputs": [],
   "source": [
    "# Check if percentage marks of entered is valid or not\n",
    "# Case 1 : Percentage between 0 and 100\n",
    "logging.info('Question 5 , case 1 started')\n",
    "pct = 85\n",
    "# Below is custom exception which checks if percentage is in between 0 and 100\n",
    "if pct<0 or pct>100:\n",
    "    logging.error('Percentage not in range')\n",
    "    raise pcterror('Invalid percentage entered') \n",
    "else:\n",
    "    print('Percentage marks of student is : ',pct)\n",
    "    logging.info('No Error occured')\n"
   ]
  },
  {
   "cell_type": "code",
   "execution_count": null,
   "id": "50e95b4e-39d6-4062-87b0-025206db3a40",
   "metadata": {},
   "outputs": [],
   "source": [
    "# Case 2 : Negative Percentage\n",
    "logging.info('Question 5 , case 2 started')\n",
    "pct = -20\n",
    "# Below is custom exception which checks if percentage is in between 0 and 100\n",
    "if pct<0 or pct>100:\n",
    "    logging.error('Percentage not in range')\n",
    "    raise pcterror('Invalid percentage entered') \n",
    "else:\n",
    "    print('Percentage marks of student is : ',pct)\n",
    "    logging.info('no error occured')"
   ]
  },
  {
   "cell_type": "code",
   "execution_count": null,
   "id": "86752037-d416-4f87-8c25-c562c11788a4",
   "metadata": {},
   "outputs": [],
   "source": [
    "# Case 3 : Percentage > 100\n",
    "logging.info('Question 5 , case 3 started')\n",
    "pct = 135\n",
    "# Below is custom exception which checks if percentage is in between 0 and 100\n",
    "if pct<0 or pct>100:\n",
    "    logging.error('Percentage not in range')\n",
    "    raise pcterror('Invalid percentage entered') \n",
    "else:\n",
    "    print('Percentage marks of student is : ',pct)\n",
    "    logging.info('No error in code')"
   ]
  },
  {
   "cell_type": "raw",
   "id": "77f43b22-d17e-4988-92a0-95c07761fd11",
   "metadata": {},
   "source": []
  },
  {
   "cell_type": "raw",
   "id": "79d4b722-0ddd-494d-baa9-2223c752038c",
   "metadata": {},
   "source": []
  },
  {
   "cell_type": "raw",
   "id": "d62b790d-3590-43b7-9134-e75f8244339c",
   "metadata": {},
   "source": []
  },
  {
   "cell_type": "markdown",
   "id": "da5e530b-102b-4ed3-9c75-145ae18fde32",
   "metadata": {},
   "source": [
    "Question 6 : Create a custom exception class . Use this class to handle exception"
   ]
  },
  {
   "cell_type": "markdown",
   "id": "cc55b362-ada1-40af-b968-694680d49c08",
   "metadata": {},
   "source": [
    "Answer:\n",
    "    \n",
    "    I'm Creating a custom exception to validate PAN Card number Below are rules\n",
    "Length of Characters must be 10\n",
    "First 5 characters string out of which first 3 are random\n",
    "The fourth character of PAN represents the status of the PAN holder must be from ['P','C','H', 'F', 'A', 'T', 'B', 'L', 'J', 'G']\n",
    "5th Character must be same as First Letter of surname\n",
    "Next 4 characters (from 6 to 9) should be number\n",
    "Last character should be a alphabet\n"
   ]
  },
  {
   "cell_type": "code",
   "execution_count": null,
   "id": "3efcd552-b0e8-45a3-809a-c02d2777b769",
   "metadata": {},
   "outputs": [],
   "source": [
    "class validatePAN(Exception):\n",
    "    # This class ValidatePAN is child of Parent class Exception\n",
    "    def __init__(self, msg):\n",
    "        self.msg = msg\n",
    "# Custon Definition to validate pan number\n",
    "def validate_pan_number(surname,pan):\n",
    "\n",
    "    logging.info('Validate pan function started')\n",
    "    \n",
    "    # Condition 1 Check if Surname is entered alphabetic\n",
    "    if not surname.isalpha():\n",
    "        logging.error('Surname error , Surname cannot have numbers')\n",
    "        raise validatePAN('Surname cannot consist of numbers')\n",
    "    \n",
    "    # Condition 2 Check PAN Card Length it must be = 10\n",
    "    elif len(pan)!=10:\n",
    "        logging.error('PAN Number length is not equal to 10')\n",
    "        raise validatePAN('Length of PAN Card should be 10 digits')\n",
    "    \n",
    "    # Condition 3 first 3 charaters should be letters\n",
    "    elif not pan[0:2].isalpha():\n",
    "        logging.error('First 3 letters of PAN Number are not characters')\n",
    "        raise validatePAN('First Three characters of Pan Card Must be Letters')\n",
    "    \n",
    "    # Condition 4 Fourth letters must belong in ['P','C','H', 'F', 'A', 'T', 'B', 'L', 'J', 'G'] \n",
    "    elif pan[3] not in ['P','C','H', 'F', 'A', 'T', 'B', 'L', 'J', 'G']:\n",
    "        logging.error('PAN Category invalid')\n",
    "        raise validatePAN(\"4th Letter must be any of ['P','C','H', 'F', 'A', 'T', 'B', 'L', 'J', 'G']\")\n",
    "    \n",
    "    # Condition 5 Fifth letter of PAN Card must match with 1st letter of surname \n",
    "    # Case Unification done if characters enterd in different case\n",
    "    elif surname[0].upper()!=pan[4].upper():\n",
    "        logging.error('1st Letter of Surname and 5th Letter of PAN not matching')\n",
    "        raise validatePAN(\"First Digit of surname not matching with 5th Letter of pan\")\n",
    "    \n",
    "    # Condition 6 Next 4 characters should be numeric \n",
    "    elif not pan[5:9].isnumeric():\n",
    "        logging.error('Characters 6 to 9 not numeric')\n",
    "        raise validatePAN(\"Characters from 6 to 9 should be numbers\")\n",
    "    \n",
    "    # Condition 7 Last Character must be alphabet\n",
    "    elif not pan[-1].isalpha():\n",
    "        logging.error('Last character in not an alphabet')\n",
    "        raise validatePAN(\"Last Character of PAN must be a Alphabet\")\n",
    "    \n",
    "    # If all above condition satisfy Pan Number is valid\n",
    "    else:\n",
    "        print('PAN Number is valid')\n",
    "        logging.info('PAN Card number is Valid')\n"
   ]
  },
  {
   "cell_type": "code",
   "execution_count": null,
   "id": "b3083657-8e76-4c55-8840-bb88e31cdb7b",
   "metadata": {},
   "outputs": [],
   "source": [
    "# Test Case 1 : Checking a Valid pan number and surname\n",
    "logging.info('Test Case 1 , Question 6')\n",
    "try:\n",
    "    surname = 'gaikwad'\n",
    "    pan = 'AAAPG1234F'\n",
    "    validate_pan_number(surname,pan)\n",
    "    logging.info('Try Block executed')\n",
    "except validatePAN as e:\n",
    "    print(e)\n",
    "    logging.exception('Except block executed')\n",
    "PAN Number is valid\n",
    "# Test case 2 : Entering invalid surname\n",
    "logging.info('Test Case 2 , Question 6')\n",
    "try:\n",
    "    surname = '123skfm'\n",
    "    pan = 'AAAPG1234F'\n",
    "    validate_pan_number(surname,pan)\n",
    "    logging.info('Try Block executed')\n",
    "except validatePAN as e:\n",
    "    print(e)\n",
    "    logging.exception('Except block executed')\n",
    "# Test Case 3 : Entering Pan Number Less than 10 numbers\n",
    "logging.info('Test Case 3 , Question 6')\n",
    "try:\n",
    "    surname = 'gaikwad'\n",
    "    pan = 'AAAPG12'\n",
    "    validate_pan_number(surname,pan)\n",
    "    logging.info('Try Block executed')\n",
    "except validatePAN as e:\n",
    "    print(e)\n",
    "    logging.exception('Except block executed')\n",
    "Length of PAN Card should be 10 digits\n",
    "# Test Case 4 : Entering Pan Number Less than 10 numbers First 3 letters of pancard is not alphabet\n",
    "logging.info('Test Case 4 , Question 6')\n",
    "try:\n",
    "    surname = 'gaikwad'\n",
    "    pan = 'A2APG1234F'\n",
    "    validate_pan_number(surname,pan)\n",
    "    logging.info('Try Block executed')\n",
    "except validatePAN as e:\n",
    "    print(e)\n",
    "    logging.exception('Except block executed')\n",
    "# Test Case 4: Letter 4 not belonging from ['P','C','H', 'F', 'A', 'T', 'B', 'L', 'J', 'G']\n",
    "logging.info('Test Case 4 , Question 6') \n",
    "try:\n",
    "    surname = 'gaikwad'\n",
    "    pan = 'AAAZG1234F'\n",
    "    validate_pan_number(surname,pan)\n",
    "    logging.info('Try Block executed')\n",
    "except validatePAN as e:\n",
    "    print(e)\n",
    "    logging.exception('Except block executed')\n",
    "4th Letter must be any of ['P','C','H', 'F', 'A', 'T', 'B', 'L', 'J', 'G']\n",
    "# Test Case 5: First letter of surname and 5th character of PAN Number not matching\n",
    "logging.info('Test Case 5 , Question 6')\n",
    "try:\n",
    "    surname = 'gaikwad'\n",
    "    pan = 'AAAPX1234F'\n",
    "    validate_pan_number(surname,pan)\n",
    "    logging.info('Try Block executed')\n",
    "except validatePAN as e:\n",
    "    print(e)\n",
    "    logging.exception('Except block executed')\n",
    "# Test Case 6: Characters from 6 to 9 are not numbers\n",
    "logging.info('Test Case 6 , Question 6')\n",
    "try:\n",
    "    surname = 'gaikwad'\n",
    "    pan = 'AAAPG12N4F'\n",
    "    validate_pan_number(surname,pan)\n",
    "    logging.info('Try Block executed')\n",
    "except validatePAN as e:\n",
    "    print(e)\n",
    "    logging.exception('Except block executed')\n",
    "Characters from 6 to 9 should be numbers\n",
    "# Test Case 7: Last Character must be Alphabet\n",
    "logging.info('Test Case 7 , Question 6')\n",
    "try:\n",
    "    surname = 'gaikwad'\n",
    "    pan = 'AAAPG12345'\n",
    "    validate_pan_number(surname,pan)\n",
    "    logging.info('Try Block executed')\n",
    "except validatePAN as e:\n",
    "    print(e)\n",
    "    logging.exception('Except Block executed')\n",
    "# Test Case 8 : Random Test case\n",
    "logging.info('Test Case 8 , Question 6')\n",
    "try:\n",
    "    surname ='Naik'\n",
    "    pan = 'ACXPN4567D'\n",
    "    validate_pan_number(surname,pan)\n",
    "    logging.info('Try Block executed')\n",
    "except validatePAN as e:\n",
    "    print(e)\n",
    "    logging.exception('Except Block executed')"
   ]
  },
  {
   "cell_type": "code",
   "execution_count": null,
   "id": "1feefff4-fca8-4c95-8729-f5895b67eab6",
   "metadata": {},
   "outputs": [],
   "source": []
  },
  {
   "cell_type": "code",
   "execution_count": null,
   "id": "ef580a13-168a-422e-9577-91cdfc792aeb",
   "metadata": {},
   "outputs": [],
   "source": []
  },
  {
   "cell_type": "code",
   "execution_count": null,
   "id": "cedbe918-a75f-4a9e-9a9a-b883bfbabafe",
   "metadata": {},
   "outputs": [],
   "source": []
  },
  {
   "cell_type": "code",
   "execution_count": null,
   "id": "655e2559-caa3-402e-b6aa-fdd0d4cc1596",
   "metadata": {},
   "outputs": [],
   "source": []
  },
  {
   "cell_type": "code",
   "execution_count": null,
   "id": "5bb76b21-232a-43d8-98a0-50d79203c21b",
   "metadata": {},
   "outputs": [],
   "source": []
  }
 ],
 "metadata": {
  "kernelspec": {
   "display_name": "Python 3 (ipykernel)",
   "language": "python",
   "name": "python3"
  },
  "language_info": {
   "codemirror_mode": {
    "name": "ipython",
    "version": 3
   },
   "file_extension": ".py",
   "mimetype": "text/x-python",
   "name": "python",
   "nbconvert_exporter": "python",
   "pygments_lexer": "ipython3",
   "version": "3.10.8"
  }
 },
 "nbformat": 4,
 "nbformat_minor": 5
}
