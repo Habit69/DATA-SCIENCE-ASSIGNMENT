{
 "cells": [
  {
   "cell_type": "markdown",
   "id": "85b0dc2a-6bec-41d3-b2b8-6a684111ef6a",
   "metadata": {},
   "source": [
    "#   29 JANUARY ASSIGNMENT\n"
   ]
  },
  {
   "cell_type": "markdown",
   "id": "3fc5ba91-c454-4454-aea6-29785a118a47",
   "metadata": {},
   "source": [
    "## Q1. Who developed Python Programming Language ? "
   ]
  },
  {
   "cell_type": "markdown",
   "id": "34595aba-9a21-403b-ac90-b53d3d7cfafc",
   "metadata": {},
   "source": [
    "# ANSWER: Python programming language was developed by Guido van Rossum.\\n He released the first version of Python in 1991.\\n \n",
    " Since then, Python has grown in popularity and has become one of the most widely used programming languages in the world.\n",
    "#"
   ]
  },
  {
   "cell_type": "code",
   "execution_count": 15,
   "id": "b55fee09-fe5d-48d2-b53b-dcbb88b32ff3",
   "metadata": {},
   "outputs": [],
   "source": [
    "2. Which type of Programming does Python support? \n",
    "\n",
    "ANSWER:\n",
    "Python supports multiple programming paradigms, including:\n",
    "1.Procedural programming: Python allows you to write programs using procedural programming techniques, where you break down a program into smaller procedures or functions.\n",
    "2.Object-oriented programming (OOP): Python has extensive support for object-oriented programming. It provides classes, objects, inheritance, and other OOP concepts to help structure and organize code.\n",
    "3.Functional programming: Python supports functional programming concepts such as higher-order functions, lambda functions, and the ability to treat functions as first-class objects.\n",
    "4.Imperative programming: Python allows you to write programs that specify the sequence of statements to be executed, modifying the program state along the way.\n"
   ]
  },
  {
   "cell_type": "code",
   "execution_count": null,
   "id": "ceb41b3a-73df-4d4b-9b32-f83f3084e1e7",
   "metadata": {},
   "outputs": [],
   "source": [
    "3. Is Python case sensitive when dealing with identifiers? \n",
    "ANSWER:\n",
    "Yes, Python is case sensitive when dealing with identifiers. In Python, identifiers refer to names used for variables, functions, classes, modules, or any other object. Python treats uppercase and lowercase letters as distinct characters, so using different cases in identifiers will create different names."
   ]
  },
  {
   "cell_type": "code",
   "execution_count": null,
   "id": "5d8481a1-ecbd-460c-aecb-299f46b5dd5e",
   "metadata": {},
   "outputs": [],
   "source": [
    "4. What is the correct extension of the Python file? \n",
    "ANSWER:\n",
    "    The correct extension for a Python file is \".py\". When saving a Python script or module, it is recommended to use the .py extension at the end of the file name. This convention helps in identifying the file as a Python source code file.\n",
    "For example, if you have a Python script called \"my_script.py,\" the \".py\" extension indicates that it contains Python code. This is not strictly enforced by the Python language itself, but following this convention makes it easier for developers and tools to recognize and work with Python files."
   ]
  },
  {
   "cell_type": "code",
   "execution_count": null,
   "id": "33ab0cad-5d09-4198-b308-7f560ce0e4b0",
   "metadata": {},
   "outputs": [],
   "source": [
    "5. Is Python code compiled or interpreted? \n",
    "ANSWER:\n",
    "    Python code is interpreted rather than compiled. When you run a Python program, the Python interpreter reads and executes the code line by line, converting it into bytecode instructions that are then executed. This interpretation process happens at runtime, without the need for a separate compilation step.\n",
    "However, behind the scenes, Python does perform some level of compilation. When a Python script is executed, it is first compiled into bytecode, which is a lower-level representation of the code. This bytecode is then interpreted and executed by the Python interpreter.\n",
    "\n",
    "\n"
   ]
  },
  {
   "cell_type": "code",
   "execution_count": null,
   "id": "407ceaa0-5e06-4cf3-8615-83bc44da62ac",
   "metadata": {},
   "outputs": [],
   "source": [
    "6. Name a few blocks of code used to define in Python language? \n",
    "ANSWER:\n",
    "    Function definition block:\n",
    "\n",
    "def my_function():\n",
    "    # Code goes here\n",
    "    # This is a code block\n",
    "    # Indented under the function definition\n",
    "    pass  # Placeholder statement\n",
    "Conditional statement block (if-elif-else):\n",
    "\n",
    "if condition1:\n",
    "    # Code block executed if condition1 is True\n",
    "    pass\n",
    "elif condition2:\n",
    "    # Code block executed if condition1 is False and condition2 is True\n",
    "    pass\n",
    "else:\n",
    "    # Code block executed if both condition1 and condition2 are False\n",
    "    pass\n",
    "Looping statement block (for loop):\n",
    "\n",
    "for item in iterable:\n",
    "    # Code block executed for each item in the iterable\n",
    "    pass\n",
    "Looping statement block (while loop):\n",
    "\n",
    "\n",
    "while condition:\n",
    "    # Code block executed repeatedly until the condition becomes False\n",
    "    pass\n",
    "Class definition block:\n",
    "\n",
    "\n",
    "class MyClass:\n",
    "    # Code goes here\n",
    "    # This is a code block\n",
    "    # Indented under the class definition\n",
    "    pass  # Placeholder statement\n",
    "These are some common examples of code blocks in Python. Indentation is crucial in Python as it determines the scope and grouping of statements within a block.\n",
    "\n",
    "\n",
    "\n",
    "\n"
   ]
  },
  {
   "cell_type": "code",
   "execution_count": null,
   "id": "c1f3e164-76ed-4baa-86e1-ce8b65271f56",
   "metadata": {},
   "outputs": [],
   "source": [
    "7. State a character used to give single-line comments in Python? \n",
    "ANSWER:\n",
    "    In Python, the character used to give single-line comments is the hash symbol (#). Any text following the # on the same line is considered a comment and is ignored by the Python interpreter. Here's an example:\n",
    "# print(\"Hello, World!\")  # This comment follows a statement"
   ]
  },
  {
   "cell_type": "code",
   "execution_count": null,
   "id": "f9b2c414-0d6f-4cfc-92ca-decf414ce9c0",
   "metadata": {},
   "outputs": [],
   "source": [
    "8. Mention functions which can help us to find the version of python that we are currently working on? \n",
    "ANSWER:\n",
    "In Python, there are a few functions and modules that can help you determine the version of Python you are currently working with. Here are some commonly used options:\n",
    "\n",
    "sys module:\n",
    "The sys module provides access to various system-specific parameters and functions, including the Python version information. You can use the sys.version attribute to get the version as a string.\n",
    "import sys\n",
    "print(sys.version) \n",
    "\n",
    "\n",
    "\n",
    "\n",
    "platform module:\n",
    "The platform module provides an API for obtaining system-related information, including the Python version. You can use the platform.python_version() function to retrieve the Python version as a string.\n",
    "import platform\n",
    "print(platform.python_version())  # Prints the Python version\n",
    " \n",
    "    \n",
    "sysconfig module:\n",
    "The sysconfig module provides access to Python's configuration information. You can use the sysconfig.get_python_version() function to obtain the Python version as a string.\n",
    "import sysconfig\n",
    "print(sysconfig.get_python_version())  # Prints the Python version\n",
    "These functions and modules can provide you with the Python version information you need while working with Python code."
   ]
  },
  {
   "cell_type": "code",
   "execution_count": null,
   "id": "a716d83b-af0c-49f6-9dcf-e9c8b64f077b",
   "metadata": {},
   "outputs": [],
   "source": [
    "9. Python supports the creation of anonymous functions at runtime, using a construct called ?\n",
    "ANSWEWR:\n",
    "    Python supports the creation of anonymous functions at runtime using a construct called \"lambda\" functions. Lambda functions are also known as anonymous functions because they don't have a name. They are defined using the lambda keyword, followed by a list of arguments, a colon (:), and an expression representing the function's body.\n",
    "lambda arguments: expression\n",
    "\n"
   ]
  },
  {
   "cell_type": "code",
   "execution_count": null,
   "id": "02884bdd-ee74-4166-96a4-7455c9e0e4a1",
   "metadata": {},
   "outputs": [],
   "source": []
  },
  {
   "cell_type": "code",
   "execution_count": null,
   "id": "699d4c87-3722-4121-8aa7-45756014acf7",
   "metadata": {},
   "outputs": [],
   "source": []
  },
  {
   "cell_type": "code",
   "execution_count": null,
   "id": "46802774-a7ea-4f7e-9c6e-3f703aaab049",
   "metadata": {},
   "outputs": [],
   "source": []
  },
  {
   "cell_type": "code",
   "execution_count": null,
   "id": "8a683e58-2f03-465b-9704-c4aa525fe6da",
   "metadata": {},
   "outputs": [],
   "source": []
  },
  {
   "cell_type": "code",
   "execution_count": null,
   "id": "8331337a-b082-4e5d-bf08-18db39dd60c9",
   "metadata": {},
   "outputs": [],
   "source": []
  },
  {
   "cell_type": "code",
   "execution_count": null,
   "id": "c7c01758-734d-46b1-a3ad-0ffec9fab4a3",
   "metadata": {},
   "outputs": [],
   "source": []
  }
 ],
 "metadata": {
  "kernelspec": {
   "display_name": "Python 3 (ipykernel)",
   "language": "python",
   "name": "python3"
  },
  "language_info": {
   "codemirror_mode": {
    "name": "ipython",
    "version": 3
   },
   "file_extension": ".py",
   "mimetype": "text/x-python",
   "name": "python",
   "nbconvert_exporter": "python",
   "pygments_lexer": "ipython3",
   "version": "3.10.8"
  }
 },
 "nbformat": 4,
 "nbformat_minor": 5
}
