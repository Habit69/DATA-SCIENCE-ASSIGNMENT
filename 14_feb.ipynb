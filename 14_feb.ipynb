{
 "cells": [
  {
   "cell_type": "code",
   "execution_count": 4,
   "id": "b09b91d5-8452-4f2a-a575-567f60be62a6",
   "metadata": {},
   "outputs": [],
   "source": [
    "# Import logging method in custom format\n",
    "import logging\n",
    "logging.basicConfig(filename='14_feb_Assignment.log',level=logging.DEBUG,format= '%(asctime)s - %(name)s - %(levelname)s - %(message)s')\n",
    "\n"
   ]
  },
  {
   "cell_type": "markdown",
   "id": "4e8be06a-4718-492a-8a03-0fb150280978",
   "metadata": {},
   "source": [
    "Question 1: What is Multi Threading in Python? Why it is used? Name the module used to handle threads in python."
   ]
  },
  {
   "cell_type": "markdown",
   "id": "8571e407-c89e-43c5-96a1-5b2f90851246",
   "metadata": {},
   "source": [
    "1.)A thread is a unit of execution within a process. Multithreading refers to concurrently executing multiple threads by rapidly switching the control of the CPU between threads (called context switching).\n",
    "2.)Threading in python is used to run multiple threads (tasks, function calls) at the same time. Note that this does not mean that they are executed on different CPUs. Python threads will NOT make your program faster if it already uses 100 % CPU time. In that case, you probably want to look into parallel programming.\n",
    "3.)The module used to handle threads in python is \"threading\" module"
   ]
  },
  {
   "cell_type": "code",
   "execution_count": null,
   "id": "e93e98f4-c0cc-4777-a960-f1168c685aad",
   "metadata": {},
   "outputs": [],
   "source": [
    "# Below is example of fetching multiple files from url with help of threading\n",
    "#Create a function to download file \n",
    "import urllib.request\n",
    "\n",
    "def file_download(url, filename):\n",
    "    \"\"\"\n",
    "    This function downloads files from url and saves it into given filename\n",
    "    \"\"\"\n",
    "    try: \n",
    "        logging.info('This is start of file_download function')\n",
    "        urllib.request.urlretrieve(url,filename)\n",
    "        logging.info(f'File from url {url} download successfully and saved as {filename}')\n",
    "    except ValueError as e:\n",
    "        logging.error(f'{url} Url entered is incorrect, error occured : {e}')\n",
    "        raise ValueError('Please enter proper url , File not found')\n",
    "    finally:\n",
    "        logging.info('This is end of file_download function')       "
   ]
  },
  {
   "cell_type": "code",
   "execution_count": null,
   "id": "c8cf1f74-2026-45a2-9dbc-f7b7b6fb74fb",
   "metadata": {},
   "outputs": [],
   "source": [
    "url_list = ['https://raw.githubusercontent.com/utkarshg1/PWSkills-Assignments/main/Assignment%2012%20-%2013%20February%202023/Assignment12Log.txt',\n",
    " 'https://raw.githubusercontent.com/utkarshg1/PWSkills-Assignments/main/Assignment%2011%20-%2012%20February%202023/TryExceptLog.txt',\n",
    " 'https://raw.githubusercontent.com/utkarshg1/PWSkills-Assignments/main/Assignment%2010%20-%20%2010%20February%202023/students.txt']\n",
    "\n",
    "data_file_list = ['data1.txt','data2.txt','data3.txt']\n"
   ]
  },
  {
   "cell_type": "code",
   "execution_count": null,
   "id": "a5b1819f-9267-4047-98b0-db26ff7cf0ea",
   "metadata": {},
   "outputs": [],
   "source": [
    "import threading\n",
    "thread = [threading.Thread(target=file_download, args=(url_list[i],data_file_list[i])) for i in range(len(url_list))]\n",
    "logging.info(thread)\n",
    "thread\n"
   ]
  },
  {
   "cell_type": "code",
   "execution_count": null,
   "id": "7101670e-401c-415f-8e4b-c5740ff8bc59",
   "metadata": {},
   "outputs": [],
   "source": [
    "%%time\n",
    "# Timing the MultiThreading Time\n",
    "try:\n",
    "    logging.info('This is start of Multithreading')\n",
    "    for t in thread:\n",
    "        t.start()\n",
    "    logging.info('All Data Downloaded Successfully')\n",
    "except ValueError as e:\n",
    "    logging.error(f'url not found error occured and handled {e}' )\n",
    "    print('Url not found exception occured and handled :',e)\n",
    "except RuntimeError as e:\n",
    "    logging.error(f'RuntimeError occured : {e}')\n",
    "    print('Threads can only be started once, Error occured :',e)\n",
    "finally:\n",
    "    logging.info('This is end of Multithreading')"
   ]
  },
  {
   "cell_type": "code",
   "execution_count": null,
   "id": "d32d04f3-b7af-4775-a253-f06263307902",
   "metadata": {},
   "outputs": [],
   "source": [
    "%%time\n",
    "# Timing The Normal For loop method to download files sequentially\n",
    "try :\n",
    "    logging.info('This is start of normal looping method')\n",
    "    for i in range(len(url_list)):\n",
    "        file_download(url_list[i],data_file_list[i])\n",
    "    logging.info('All Files Download successfully')\n",
    "except ValueError as e:\n",
    "    logging.error(f'Please enter proper url , Error occured : {e}')\n",
    "    print('Url not found exception occured and handled :',e)\n",
    "finally:\n",
    "    logging.info('This is end of normal looping method')"
   ]
  },
  {
   "cell_type": "markdown",
   "id": "d4c55d60-b899-4bb7-af85-ead3e150488a",
   "metadata": {},
   "source": [
    "%%time is a magic command in Jupyter Notebook that is used to measure the execution time of a single code cell. When you use this command at the beginning of a cell, Jupyter Notebook will measure the time it takes to execute the entire cell and display the execution time in the output cell.\n",
    "\n",
    "The CPU times section shows the amount of CPU time used by the code, while the Wall time section shows the actual time it took to execute the code. This can be helpful for optimizing code and identifying performance bottlenecks.\n",
    "\n",
    "Above shows that Wall Time for Threading is much lesser than Normal for loop for downloading and saving multiple files."
   ]
  },
  {
   "cell_type": "code",
   "execution_count": null,
   "id": "267b1f3e-71a9-4dde-ba7f-e74d3296816a",
   "metadata": {},
   "outputs": [],
   "source": []
  },
  {
   "cell_type": "code",
   "execution_count": null,
   "id": "d9741a9e-11d0-40a8-a517-4fd173fa3b49",
   "metadata": {},
   "outputs": [],
   "source": []
  },
  {
   "cell_type": "markdown",
   "id": "83b7ec94-5026-4cfa-a251-231d6f875212",
   "metadata": {},
   "source": [
    "Question 2: Why Threading Module is used ? Write the use of following functions\n",
    "1.)activeCount()\n",
    "2.)currentThread()\n",
    "3.)enumerate\n"
   ]
  },
  {
   "cell_type": "code",
   "execution_count": null,
   "id": "74aaf849-9ca8-4162-99a7-db9ee51eb793",
   "metadata": {},
   "outputs": [],
   "source": [
    "#Python \"threading\" module allows you to have different parts of your program run concurrently and can simplify your design.\n",
    "#Use of below functions :\n",
    "#1. active_count() - Returns the number of thread objects that are active.(activeCount is deprecated latest function is active_count)\n",
    "# Example 1: active_count() \n",
    "print(f\"Currently active threads are : {threading.active_count()}\")\n",
    "logging.info(f\"Currently active threads are : {threading.active_count()}\")\n",
    "#Currently active threads are : 6\n",
    "#2. current_thread() - it returns the current Thread object active at the moment.(currentThread is deprecated latest function is current_thread)\n",
    "# Example 2: current_thread()\n",
    "print(f\"Current thread is : {threading.current_thread()}\")\n",
    "logging.info(f\"Current thread is : {threading.current_thread()}\")\n"
   ]
  },
  {
   "cell_type": "code",
   "execution_count": null,
   "id": "d7042ef7-736e-4231-a414-e8b2e96e8d2f",
   "metadata": {},
   "outputs": [],
   "source": [
    "3. enumerate() - Returns a list of all thread objects that are currently active.\n",
    "# Example 3: enumerate()\n",
    "print(f'List of all active threads is : {threading.enumerate()}')\n",
    "logging.info(f'List of all active threads is : {threading.enumerate()}')"
   ]
  },
  {
   "cell_type": "code",
   "execution_count": null,
   "id": "ab6ef535-fb54-4657-8425-b44c3660c94c",
   "metadata": {},
   "outputs": [],
   "source": []
  },
  {
   "cell_type": "code",
   "execution_count": null,
   "id": "0112bca7-35df-4e1e-aa8b-400901738b92",
   "metadata": {},
   "outputs": [],
   "source": []
  },
  {
   "cell_type": "markdown",
   "id": "dbb74372-fc07-454b-9139-3b1c3019d332",
   "metadata": {},
   "source": [
    "Question 3: Explain the following functions:\n",
    "run()\n",
    "start()\n",
    "join()\n",
    "isAlive()\n"
   ]
  },
  {
   "cell_type": "markdown",
   "id": "7d74b7f2-888d-4d01-b516-709b9231c21c",
   "metadata": {},
   "source": [
    "1. run() - The standard run() method invokes the callable object passed to the object’s constructor as the target argument, if any, with positional and keyword arguments taken from the args and kwargs arguments, respectively.\n",
    "# Example 1 run()\n",
    "t = threading.Thread(target=print,args=['Hello World','1'])\n",
    "t.run()\n",
    "logging.info('run() Command executed')\n",
    "Hello World 1\n",
    "2. start() - Start the thread’s activity. It must be called at most once per thread object. It arranges for the object’s run() method to be invoked in a separate thread of control.This method will raise a RuntimeError if called more than once on the same thread object.\n",
    "3. join() - Wait until the thread terminates. This blocks the calling thread until the thread whose join() method is called terminates – either normally or through an unhandled exception – or until the optional timeout occurs."
   ]
  },
  {
   "cell_type": "code",
   "execution_count": null,
   "id": "4287a703-6e2c-4a41-b99f-de05f02ab797",
   "metadata": {},
   "outputs": [],
   "source": [
    "# function to create threads\n",
    "from time import sleep\n",
    "def counter_function(arg):\n",
    "    for i in range(arg):\n",
    "        print(f\"Counter Value : {i}\")\n",
    "        logging.info(f\"Counter Value : {i}\")\n",
    "    # Wait for 1 second\n",
    "    sleep(1)\n",
    "\n",
    "thread2 = threading.Thread(target=counter_function,args=(10,))\n",
    "thread2.start() # Starts executing the threads seperately\n",
    "thread2.join() # Join will wait until the thread is terminated\n",
    "print('Thread Finished')\n",
    "logging.info('Thread Finished')\n"
   ]
  },
  {
   "cell_type": "code",
   "execution_count": null,
   "id": "3d138f7e-9081-4237-887b-ca6888e0ae40",
   "metadata": {},
   "outputs": [],
   "source": [
    ". is_alive() - (isAlive is deprecated latest function - is_alive) Return whether the thread is alive. This method returns True just before the run() method starts until just after the run() method terminates.\n",
    "print('Check for thread2 is alive : ',thread2.is_alive())\n",
    "logging.info(f'thread 2 is alive : {thread2.is_alive()}')"
   ]
  },
  {
   "cell_type": "code",
   "execution_count": null,
   "id": "c1ad792e-58e9-41b7-a12d-52e5b8c39d18",
   "metadata": {},
   "outputs": [],
   "source": []
  },
  {
   "cell_type": "code",
   "execution_count": null,
   "id": "bcff78d8-22fd-4d7f-ae04-327886aa3052",
   "metadata": {},
   "outputs": [],
   "source": []
  },
  {
   "cell_type": "markdown",
   "id": "7954505d-3a8d-48e5-833c-caa941e1b78e",
   "metadata": {},
   "source": [
    "Question 4: Write a python program that creates two threads. Thread 1 must print list of squares and Thread 2 must print list of cubes.\n"
   ]
  },
  {
   "cell_type": "code",
   "execution_count": null,
   "id": "8e0c1db3-8b17-46bb-a891-acc74ec93056",
   "metadata": {},
   "outputs": [],
   "source": [
    "def list_squares(start,end):\n",
    "    \"\"\"\n",
    "    This function prints list of squares\n",
    "    for given start and end numbers\n",
    "    \"\"\"\n",
    "    for i in range(start, end+1):\n",
    "        print(f'Square of {i} is : {i*i}')\n",
    "        logging.info(f'Square of {i} is : {i*i}')\n",
    "# Define List Cubes method\n",
    "def list_cubes(start,end):\n",
    "    \"\"\"\n",
    "    This function prints list of cubes\n",
    "    for given start and end numbers\n",
    "    \"\"\"\n",
    "    for i in range(start, end+1):\n",
    "        print(f'Cube of {i} is : {i*i}')\n",
    "        logging.info(f'Cube of {i} is : {i**3}')"
   ]
  },
  {
   "cell_type": "markdown",
   "id": "a9ac9c9b-03a8-4116-ae02-061998bec1c3",
   "metadata": {},
   "source": [
    "t1 = threading.Thread(target=list_squares, args=(1, 10))\n",
    "t2 = threading.Thread(target=list_cubes, args=(7, 16))\n",
    "\n",
    "# start the threads\n",
    "t1.start()\n",
    "t2.start()\n",
    "\n",
    "# wait for the threads to finish\n",
    "t1.join()\n",
    "t2.join()\n"
   ]
  },
  {
   "cell_type": "code",
   "execution_count": null,
   "id": "8a7da9b0-a5c7-40eb-8a41-1122dab1e6ae",
   "metadata": {},
   "outputs": [],
   "source": []
  },
  {
   "cell_type": "markdown",
   "id": "338f6b27-4bba-41a2-a777-16a6a13eaaab",
   "metadata": {},
   "source": [
    "Question 5: State advantages and disadvantages of Multithreading."
   ]
  },
  {
   "cell_type": "markdown",
   "id": "b4a3324f-088c-4b38-939b-b0bb8b5c0f94",
   "metadata": {},
   "source": [
    "Multithreading is a programming technique that enables a program to perform multiple tasks concurrently. In multithreading, multiple threads are created, and each thread can execute a different part of the program at the same time. There are several advantages and disadvantages of multithreading, which we will discuss below:\n",
    "Advantages of multithreading:\n",
    "Improved performance: Multithreading can improve the performance of a program by allowing different parts of the program to run simultaneously. This can make the program more efficient and reduce the overall execution time.\n",
    "\n",
    "Better resource utilization: Multithreading can make better use of available resources such as CPU and memory by distributing the workload across multiple threads.\n",
    "\n",
    "Enhanced user experience: Multithreading can improve the user experience by making the program more responsive and interactive.\n",
    "\n",
    "Simplified coding: Multithreading can simplify coding by allowing the programmer to break down complex tasks into smaller, more manageable threads.\n",
    "\n",
    "Scalability: Multithreading allows the program to scale well as the number of threads can be increased based on the available resources."
   ]
  },
  {
   "cell_type": "markdown",
   "id": "71e3ff45-6b57-413d-b34d-3844b2a6b022",
   "metadata": {},
   "source": [
    "Disadvantage of Multithreading\n",
    "Increased complexity: Multithreading can make the program more complex and harder to debug. It can be challenging to ensure that multiple threads access shared resources in a thread-safe manner, which can lead to synchronization issues.\n",
    "\n",
    "Overhead: Multithreading adds overhead to the program as there is additional management overhead for creating, synchronizing, and managing threads.\n",
    "\n",
    "Race conditions: Multithreading can lead to race conditions, where multiple threads try to access the same shared resource simultaneously, resulting in unpredictable and incorrect behavior.\n",
    "\n",
    "Resource contention: Multithreading can result in resource contention when multiple threads try to access the same resource, such as memory or I/O devices, which can lead to performance degradation.\n",
    "\n",
    "Deadlocks: Multithreading can lead to deadlocks, where two or more threads are blocked waiting for each other to release resources, resulting in a program that hangs or crashes.\n",
    "\n",
    "In summary, multithreading can provide several benefits, such as improved performance, better resource utilization, and enhanced user experience. However, it can also introduce several challenges, such as increased complexity, race conditions, and deadlocks, which can make the program harder to maintain and debug. It is essential to carefully design and implement multithreaded programs to avoid these issues."
   ]
  },
  {
   "cell_type": "code",
   "execution_count": null,
   "id": "1012e8ff-de73-4e36-803d-46605ec166dd",
   "metadata": {},
   "outputs": [],
   "source": []
  },
  {
   "cell_type": "code",
   "execution_count": null,
   "id": "4a0d3f91-6519-4747-b8b6-71c29aad8e16",
   "metadata": {},
   "outputs": [],
   "source": []
  },
  {
   "cell_type": "markdown",
   "id": "bd39d121-f401-419d-a999-729c305d8e77",
   "metadata": {},
   "source": [
    "Question 6: Explain deadlocks and race conditions."
   ]
  },
  {
   "cell_type": "markdown",
   "id": "5156b0ba-809a-44dc-9a53-6b0da6e3d5f4",
   "metadata": {},
   "source": [
    "Deadlocks and race conditions are two common synchronization issues that can occur in multithreaded programs.\n",
    "Deadlocks : A deadlock is a situation where two or more threads are blocked, waiting for each other to release a resource. In other words, each thread is holding a resource that the other thread needs to proceed, but neither thread can release its resource until it acquires the resource it is waiting for. This results in a situation where both threads are stuck, waiting indefinitely for the other thread to release the resource. Deadlocks can cause a program to hang or crash and are notoriously difficult to debug.\n",
    "Race Condition : A race condition occurs when two or more threads access a shared resource simultaneously, and the final outcome depends on the order in which the threads are executed. In other words, the execution of the program depends on the timing of the threads, and if the order of execution is not controlled, it can result in unpredictable behavior. For example, if two threads try to update the same variable simultaneously, the final value of the variable will depend on which thread executed first. This can result in incorrect program behavior, such as data corruption or inconsistency.\n",
    "To avoid deadlocks and race conditions, it is important to ensure that the threads access shared resources in a thread-safe manner. This can be achieved using synchronization mechanisms such as locks, semaphores, and mutexes, which allow only one thread to access a shared resource at a time. It is also important to design multithreaded programs carefully, avoiding shared resources wherever possible, and minimizing the time that a thread holds a lock to prevent deadlocks. Additionally, techniques such as thread prioritization and thread scheduling can be used to control the order of execution and avoid race conditions."
   ]
  },
  {
   "cell_type": "code",
   "execution_count": null,
   "id": "fd37c4fa-d695-4393-99e5-6839e6822fa5",
   "metadata": {},
   "outputs": [],
   "source": [
    "logging.shutdown()\n",
    "# Showing a entire of log file of Assignment 13\n",
    "with open('14_feb_Assignment.log','r')"
   ]
  },
  {
   "cell_type": "code",
   "execution_count": null,
   "id": "9fa96432-76fd-4a21-a74b-98f3c9b18718",
   "metadata": {},
   "outputs": [],
   "source": []
  },
  {
   "cell_type": "code",
   "execution_count": null,
   "id": "01d80373-397d-4259-b4b3-c82b8f9c72d8",
   "metadata": {},
   "outputs": [],
   "source": []
  },
  {
   "cell_type": "code",
   "execution_count": null,
   "id": "d1407063-690f-4cef-8fef-3fbfbb4cfbb0",
   "metadata": {},
   "outputs": [],
   "source": []
  },
  {
   "cell_type": "code",
   "execution_count": null,
   "id": "31055402-f42a-4327-9ec8-53555cb06d2c",
   "metadata": {},
   "outputs": [],
   "source": []
  },
  {
   "cell_type": "code",
   "execution_count": null,
   "id": "7867412a-503e-498a-9e15-c8f1827e1cc1",
   "metadata": {},
   "outputs": [],
   "source": []
  },
  {
   "cell_type": "code",
   "execution_count": null,
   "id": "d73363cc-ba1b-40d2-81e9-812b53458536",
   "metadata": {},
   "outputs": [],
   "source": []
  },
  {
   "cell_type": "code",
   "execution_count": null,
   "id": "0011e41f-40f0-453c-bad3-ba3f56476b1b",
   "metadata": {},
   "outputs": [],
   "source": []
  },
  {
   "cell_type": "code",
   "execution_count": null,
   "id": "d359cf23-c34e-4c61-8485-2f9e25978089",
   "metadata": {},
   "outputs": [],
   "source": []
  },
  {
   "cell_type": "code",
   "execution_count": null,
   "id": "9cc6406a-0c47-4af6-a020-42297f1e8cef",
   "metadata": {},
   "outputs": [],
   "source": []
  }
 ],
 "metadata": {
  "kernelspec": {
   "display_name": "Python 3 (ipykernel)",
   "language": "python",
   "name": "python3"
  },
  "language_info": {
   "codemirror_mode": {
    "name": "ipython",
    "version": 3
   },
   "file_extension": ".py",
   "mimetype": "text/x-python",
   "name": "python",
   "nbconvert_exporter": "python",
   "pygments_lexer": "ipython3",
   "version": "3.10.8"
  }
 },
 "nbformat": 4,
 "nbformat_minor": 5
}
