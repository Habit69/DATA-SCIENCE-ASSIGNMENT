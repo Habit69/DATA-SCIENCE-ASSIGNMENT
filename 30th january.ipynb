{
 "cells": [
  {
   "cell_type": "markdown",
   "id": "fc96e319-8feb-45b2-ac46-830988608e7e",
   "metadata": {},
   "source": [
    "Q1. Write a program to accept percentage from user and display the grade according to the following criteria :\n"
   ]
  },
  {
   "cell_type": "code",
   "execution_count": 6,
   "id": "e131d109-cb82-47cd-b4aa-bcc7beae4537",
   "metadata": {},
   "outputs": [
    {
     "name": "stdin",
     "output_type": "stream",
     "text": [
      "enter your marks 45\n"
     ]
    },
    {
     "name": "stdout",
     "output_type": "stream",
     "text": [
      "Grade D\n"
     ]
    }
   ],
   "source": [
    "marks=int(input('enter your marks'))\n",
    "if marks>90:\n",
    "    print('Grade A')\n",
    "elif marks>80 and marks<=90:\n",
    "    print('Grade B')\n",
    "elif marks<=80 and marks>=60:\n",
    "    print('Grade C')\n",
    "else:\n",
    "\n",
    "    print('Grade D')"
   ]
  },
  {
   "cell_type": "markdown",
   "id": "d68589c3-e0c6-4fd1-af67-c568eee02aa6",
   "metadata": {},
   "source": [
    "Q2.Write a program to accept the cost price of a bike and display the road tax to be paid according to the following criteria"
   ]
  },
  {
   "cell_type": "code",
   "execution_count": null,
   "id": "3cd6b556-5cee-4568-9852-49dfa64dcd19",
   "metadata": {},
   "outputs": [],
   "source": [
    "\n",
    "price = float(input('Enter Price of the Bike in Rupees : '))\n",
    "print(f\"Price of bike is Rupees {price}\")\n",
    "\n",
    "if price>100000:\n",
    "    print(f\"Tax Applicable is 15% and Tax amount is Rupees {round(0.15*price,2)}\")\n",
    "elif (price>50000) and (price<=100000):\n",
    "    print(f\"Tax Applicable is 10% and Tax amount is Rupees {round(0.10*price,2)}\")\n",
    "else:\n",
    "    print(f\"Tax Applicable is 5% and Tax amount is Rupees {round(0.05*price,2)}\")"
   ]
  },
  {
   "cell_type": "markdown",
   "id": "791bcacd-d250-4e52-9f92-27da892256e0",
   "metadata": {},
   "source": [
    "Q3.Accept any city from the users and display monument of that city:"
   ]
  },
  {
   "cell_type": "code",
   "execution_count": null,
   "id": "c9d153b9-5e4c-4c69-846b-befab373ce64",
   "metadata": {},
   "outputs": [],
   "source": [
    "city = input('Enter City Name : ')\n",
    "print('City Entered is :',city)\n",
    "\n",
    "#In below code i have used .lower() for case unification and then checking\n",
    "if city.lower()=='delhi':\n",
    "    print(f'Monument of {city} is Red Fort.')\n",
    "elif city.lower()=='agra':\n",
    "    print(f'Monument of {city} is Taj Mahal.')\n",
    "elif city.lower()=='jaipur':\n",
    "    print(f'Monument of {city} is Jal Mahal.')\n",
    "else:\n",
    "    print(f'City {city} was entered please enter Delhi, Agra or Jaipur.')  "
   ]
  },
  {
   "cell_type": "markdown",
   "id": "21f4eef9-ba30-496d-9751-92dfc22a1f53",
   "metadata": {},
   "source": [
    "Q4.Check how many time a given number can be dvided by 3 before it is less than or equal to 10:\n"
   ]
  },
  {
   "cell_type": "code",
   "execution_count": null,
   "id": "e196cd2d-53bb-46ff-a0b4-08041695c67b",
   "metadata": {},
   "outputs": [],
   "source": [
    "num = 3030\n",
    "counter = 0 \n",
    "while num >10:\n",
    "    num = num/3\n",
    "    print(num)\n",
    "    counter = counter+1\n",
    "print(f'Times the Number can be divided by Three : {counter} times.')"
   ]
  },
  {
   "cell_type": "markdown",
   "id": "7995e09a-9fa8-4b95-b756-183d6525de02",
   "metadata": {},
   "source": [
    "Q5.Why and when to use while loop give detailed description  eith examples:\n"
   ]
  },
  {
   "cell_type": "markdown",
   "id": "0a1c07f7-7b54-498b-b6f8-4e8e26219335",
   "metadata": {},
   "source": [
    "A while loop is a fundamental control structure in programming that allows you to repeatedly execute a block of code as long as a certain condition remains true. This type of loop is particularly useful when you need to perform a task multiple times without knowing the exact number of iterations beforehand.\n",
    "\n",
    "Here's a detailed description of when and why to use a while loop, along with examples:\n",
    "\n",
    "1. When to Use While Loops:\n",
    "\n",
    "Use a while loop when:\n",
    "\n",
    "You want to repeat a certain task until a specific condition becomes false.\n",
    "The number of iterations is not predetermined and depends on runtime conditions.\n",
    "You want to continuously process input until a certain exit condition is met.\n",
    "You need to implement loops for tasks like reading data from a file, interacting with users, or managing dynamic data.\n",
    "2. Example: Counting from 1 to 5\n",
    "\n",
    "python\n",
    "Copy code\n",
    "count = 1\n",
    "while count <= 5:\n",
    "    print(count)\n",
    "    count += 1\n",
    "In this example, the loop prints the numbers from 1 to 5. The condition count <= 5 ensures that the loop continues executing as long as the count is less than or equal to 5.\n",
    "\n",
    "3. Example: User Input Validation\n",
    "\n",
    "python\n",
    "Copy code\n",
    "user_input = \"\"\n",
    "while user_input != \"exit\":\n",
    "    user_input = input(\"Enter 'exit' to quit: \")\n",
    "    print(\"You entered:\", user_input)\n",
    "In this case, the loop repeatedly prompts the user for input until they enter the word \"exit\". The condition user_input != \"exit\" ensures the loop continues until the user decides to exit.\n",
    "\n",
    "4. Example: Calculating Factorial\n",
    "\n",
    "python\n",
    "Copy code\n",
    "num = int(input(\"Enter a number: \"))\n",
    "factorial = 1\n",
    "while num > 1:\n",
    "    factorial *= num\n",
    "    num -= 1\n",
    "print(\"Factorial:\", factorial)\n",
    "This example calculates the factorial of a given number using a while loop. The loop continues until num becomes 1, and in each iteration, it updates the factorial variable.\n",
    "\n",
    "5. Example: Sum of Even Numbers\n",
    "\n",
    "python\n",
    "Copy code\n",
    "sum_even = 0\n",
    "num = 2\n",
    "while num <= 10:\n",
    "    sum_even += num\n",
    "    num += 2\n",
    "print(\"Sum of even numbers:\", sum_even)\n",
    "In this example, the loop adds even numbers from 2 to 10 and calculates their sum. The condition num <= 10 ensures the loop operates within the specified range.\n",
    "\n",
    "6. Example: Fibonacci Sequence\n",
    "\n",
    "python\n",
    "Copy code\n",
    "a, b = 0, 1\n",
    "while b < 100:\n",
    "    print(b, end=\" \")\n",
    "    a, b = b, a + b\n",
    "This example demonstrates the generation of the Fibonacci sequence using a while loop. The loop continues until the value of b exceeds 100, and in each iteration, the variables a and b are updated to generate the next Fibonacci number.\n",
    "\n",
    "In summary, a while loop is valuable when you need to perform repetitive tasks without a predetermined number of iterations. It is essential to ensure that the loop's condition eventually becomes false to prevent infinite loops.\n",
    "\n",
    "\n",
    "\n",
    "\n",
    "\n",
    "\n"
   ]
  },
  {
   "cell_type": "code",
   "execution_count": null,
   "id": "627ba57e-ade3-46a0-9171-a0090752d50f",
   "metadata": {},
   "outputs": [],
   "source": []
  },
  {
   "cell_type": "code",
   "execution_count": null,
   "id": "30044073-8d0f-40e8-a375-61d0b05087d7",
   "metadata": {},
   "outputs": [],
   "source": []
  },
  {
   "cell_type": "markdown",
   "id": "9883d8d8-738a-48b2-8226-accf91b31a4a",
   "metadata": {},
   "source": [
    "Q6.Use nested while loop to print 3 different patterns:\n"
   ]
  },
  {
   "cell_type": "code",
   "execution_count": null,
   "id": "6dd2fc2e-cc88-4381-8eab-25864988c204",
   "metadata": {},
   "outputs": [],
   "source": [
    " Pattern 1: Right Angled Star pattern\n",
    "i = 1\n",
    "while i <= 10:\n",
    "    j = 1\n",
    "    while j <= i:\n",
    "        print(\"*\", end=\"\")\n",
    "        j += 1\n",
    "    print(\"\")\n",
    "    i += 1\n",
    "    \n",
    "    \n",
    "# Pattern 2: Isoceles Triangle Star pattern\n",
    "n = 10\n",
    "i = 1\n",
    "while i <= n:\n",
    "    spaces = n - i\n",
    "    while spaces > 0:\n",
    "        print(\" \", end=\"\")\n",
    "        spaces -= 1\n",
    "    stars = 2 * i - 1\n",
    "    while stars > 0:\n",
    "        print(\"*\", end=\"\")\n",
    "        stars -= 1\n",
    "    print(\"\")\n",
    "    i += 1    \n",
    "\n",
    "#Pattern 3: Diamond\n",
    "n = 5\n",
    "i = 1\n",
    "while i <= n:\n",
    "    spaces = n - i\n",
    "    while spaces > 0:\n",
    "        print(\" \", end=\"\")\n",
    "        spaces -= 1\n",
    "    stars = 2 * i - 1\n",
    "    while stars > 0:\n",
    "        print(\"*\", end=\"\")\n",
    "        stars -= 1\n",
    "    print(\"\")\n",
    "    i += 1\n",
    "\n",
    "i = n - 1\n",
    "while i >= 1:\n",
    "    spaces = n - i\n",
    "    while spaces > 0:\n",
    "        print(\" \", end=\"\")\n",
    "        spaces -= 1\n",
    "    stars = 2 * i - 1\n",
    "    while stars > 0:\n",
    "        print(\"*\", end=\"\")\n",
    "        stars -= 1\n",
    "    print(\"\")\n",
    "    i -= 1\n"
   ]
  },
  {
   "cell_type": "markdown",
   "id": "fb636174-2f1e-4a4f-b5a4-2e1cadc27dd0",
   "metadata": {},
   "source": [
    "Q7.Reverse a while loop to display number from 10 to 1:\n"
   ]
  },
  {
   "cell_type": "code",
   "execution_count": 1,
   "id": "bdcc543f-f559-47b2-b90f-699036619a39",
   "metadata": {},
   "outputs": [
    {
     "name": "stdout",
     "output_type": "stream",
     "text": [
      "10\n",
      "9\n",
      "8\n",
      "7\n",
      "6\n",
      "5\n",
      "4\n",
      "3\n",
      "2\n",
      "1\n"
     ]
    }
   ],
   "source": [
    "i=10\n",
    "while i>=1:\n",
    "    print(i)\n",
    "    i=i-1"
   ]
  },
  {
   "cell_type": "code",
   "execution_count": null,
   "id": "c2d0f0b8-8bb8-46f7-887f-4f4e3dd9c1d4",
   "metadata": {},
   "outputs": [],
   "source": []
  },
  {
   "cell_type": "code",
   "execution_count": null,
   "id": "3b374a06-1be9-4d90-9911-a793a93fc01c",
   "metadata": {},
   "outputs": [],
   "source": []
  },
  {
   "cell_type": "code",
   "execution_count": null,
   "id": "84eb5f36-accc-4f4b-b71d-c453020a190f",
   "metadata": {},
   "outputs": [],
   "source": []
  },
  {
   "cell_type": "code",
   "execution_count": null,
   "id": "e9c5725a-8165-4824-8d52-f3f37e52dbe3",
   "metadata": {},
   "outputs": [],
   "source": []
  },
  {
   "cell_type": "code",
   "execution_count": null,
   "id": "d0709279-eab6-4824-b383-31e1f51d3a32",
   "metadata": {},
   "outputs": [],
   "source": []
  },
  {
   "cell_type": "code",
   "execution_count": null,
   "id": "38d26223-b81d-493b-b94e-8a91b399efed",
   "metadata": {},
   "outputs": [],
   "source": []
  },
  {
   "cell_type": "code",
   "execution_count": null,
   "id": "62b4c00a-ba61-4a86-bf2d-620ee203b211",
   "metadata": {},
   "outputs": [],
   "source": []
  },
  {
   "cell_type": "code",
   "execution_count": null,
   "id": "3f441df9-8bb7-44d3-a1a6-6e456aaef6fe",
   "metadata": {},
   "outputs": [],
   "source": []
  },
  {
   "cell_type": "code",
   "execution_count": null,
   "id": "3f7a7f58-213d-4ac6-88c6-f330fbb530c5",
   "metadata": {},
   "outputs": [],
   "source": []
  }
 ],
 "metadata": {
  "kernelspec": {
   "display_name": "Python 3 (ipykernel)",
   "language": "python",
   "name": "python3"
  },
  "language_info": {
   "codemirror_mode": {
    "name": "ipython",
    "version": 3
   },
   "file_extension": ".py",
   "mimetype": "text/x-python",
   "name": "python",
   "nbconvert_exporter": "python",
   "pygments_lexer": "ipython3",
   "version": "3.10.8"
  }
 },
 "nbformat": 4,
 "nbformat_minor": 5
}
