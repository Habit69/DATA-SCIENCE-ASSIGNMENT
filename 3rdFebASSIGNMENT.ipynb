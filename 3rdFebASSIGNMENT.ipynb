{
 "cells": [
  {
   "cell_type": "markdown",
   "id": "3f0e66ce-3428-4c7d-b8e2-d8139bd711cd",
   "metadata": {},
   "source": [
    "Q1. Which keyword is used to create a function ? Create a function to return a list of odd numbers in the range of 1 to 25."
   ]
  },
  {
   "cell_type": "markdown",
   "id": "23e1d863-501f-4a34-80e7-9f7e5168c2a6",
   "metadata": {},
   "source": [
    "Keyword \"def\" is used to create a function in Python\n",
    "\n",
    "\n",
    "\n",
    "def odd():\n",
    "    \"\"\"\n",
    "    Returns Odd Number from range 1 to 25\n",
    "    \"\"\"\n",
    "    l = []\n",
    "    for i in range(1,25):\n",
    "        if i%2 != 0:\n",
    "            l.append(i)\n",
    "    return l\n",
    "\n",
    "\n",
    "\n",
    "\n"
   ]
  },
  {
   "cell_type": "markdown",
   "id": "c8707b29-9249-45af-8d12-3158e3892405",
   "metadata": {},
   "source": [
    "Q2.)Why *args and **kwargs is used in some functions? Create a function each for *args and **kwargs to demonstrate their use."
   ]
  },
  {
   "cell_type": "markdown",
   "id": "cc031cb3-7bcd-4a25-b6b4-6f457daf9ac1",
   "metadata": {},
   "source": [
    "1.)*args - Python has *args which allow us to pass the variable number of non keyword arguments to function. The args are stored as tuple.\n",
    "\n",
    "2.)**kwargs - **kwargs allows us to pass the variable length of keyword arguments to the function. The kwargs are stored as dictionary.\n",
    "\n",
    "\n",
    "def profile(first,last,**kwargs):\n",
    "    \"\"\"\n",
    "    This function can be used to build user profile\n",
    "    \"\"\"\n",
    "    prof = {}\n",
    "    prof['first_name']=first\n",
    "    prof['last_name']=last\n",
    "\n",
    "    for key, value in kwargs.items():\n",
    "        prof[key]=value\n",
    "\n",
    "    return prof\n",
    "\n",
    "\n",
    "profile('chetan','singh',age=28,height=6.0,weight=70.0,diet='Vegeterian')\n"
   ]
  },
  {
   "cell_type": "code",
   "execution_count": null,
   "id": "2d18b3c9-72a8-4fae-853b-3757141e5eb2",
   "metadata": {},
   "outputs": [],
   "source": []
  },
  {
   "cell_type": "markdown",
   "id": "f3390a14-5446-47e9-9560-ff0032607f26",
   "metadata": {},
   "source": [
    "Q3.What is an iterator in python? Name the method used to initialise the iterator object and the method used for iteration. Use these methods to print the first five elements of the given list [2, 4, 6, 8, 10, 12, 14, 16, 18, 20]."
   ]
  },
  {
   "cell_type": "markdown",
   "id": "57f3ecfd-31cd-473b-b4b4-432c1e8944d9",
   "metadata": {},
   "source": [
    "An iterator in Python is an object that implements the iterator protocol, which consists of two methods:__iter__ and __next__.\n",
    "The __iter__ method returns the iterator object, and the __next__ method returns the next item from the iterator.\n"
   ]
  },
  {
   "cell_type": "code",
   "execution_count": null,
   "id": "267d3d88-832f-4a39-9328-27907f99833b",
   "metadata": {},
   "outputs": [],
   "source": [
    "\n",
    "l = [2, 4, 6, 8, 10, 12, 14, 16, 18, 20]\n",
    "\n",
    "# Create an iterator from list object\n",
    "it = iter(l)\n",
    "\n",
    "# Use next method to get next item from iterator\n",
    "for i in range(5):\n",
    "    print(next(it))\n",
    "2\n",
    "4\n",
    "6\n",
    "8\n",
    "10"
   ]
  },
  {
   "cell_type": "code",
   "execution_count": null,
   "id": "42fc8667-52e7-4bbc-9bfb-cb2d774aaf59",
   "metadata": {},
   "outputs": [],
   "source": []
  },
  {
   "cell_type": "markdown",
   "id": "25cd91f1-4bda-4d6c-ab48-afb5a9408a24",
   "metadata": {},
   "source": [
    "Q4.) What is a generator function in python? Why yield keyword is used? Give an example of a generator function."
   ]
  },
  {
   "cell_type": "markdown",
   "id": "9029566b-c74b-4417-9afd-d26f36c09840",
   "metadata": {},
   "source": [
    "A generator function in Python is a special type of function that allows you to iterate over a sequence of values one at a time, without generating the entire sequence in memory at once. This is particularly useful when dealing with large datasets or infinite sequences, as it can significantly reduce memory usage and improve performance.\n",
    "\n",
    "The yield keyword is used in a generator function to produce a value without terminating the function's execution. When a generator function is called, it returns a generator object, which is an iterator. The generator object can then be used to iterate over the sequence of values produced by the yield statements in the function.\n",
    "\n",
    "The key difference between a regular function and a generator function is that a regular function runs to completion and returns a value, while a generator function can be paused and resumed during its execution. This allows the generator to produce values lazily, only when requested by the caller, which conserves memory and allows for efficient handling of large datasets.\n"
   ]
  },
  {
   "cell_type": "code",
   "execution_count": null,
   "id": "fd8785ab-1e79-4c49-b4a1-d5463222c99e",
   "metadata": {},
   "outputs": [],
   "source": [
    "\n",
    "python\n",
    "Copy code\n",
    "def fibonacci_generator():\n",
    "    a, b = 0, 1\n",
    "    while True:\n",
    "        yield a\n",
    "        a, b = b, a + b\n",
    "\n",
    "# Create a generator object\n",
    "fib_gen = fibonacci_generator()\n",
    "\n",
    "# Print the first 10 Fibonacci numbers\n",
    "for _ in range(10):\n",
    "    print(next(fib_gen))\n",
    "\n"
   ]
  },
  {
   "cell_type": "markdown",
   "id": "d00fee47-252d-483b-bbe5-d7ef61e9ecca",
   "metadata": {},
   "source": [
    "The fibonacci_generator function defines an infinite sequence of Fibonacci numbers.\n",
    "The yield a statement produces the current Fibonacci number (a) and then pauses the function's execution until the next value is requested.\n",
    "The generator object fib_gen is created by calling the generator function.\n",
    "The for loop uses the next() function to retrieve the next value from the generator. The loop runs 10 times, printing the first 10 Fibonacci numbers.\n",
    "Since the generator function doesn't store the entire sequence of Fibonacci numbers in memory, it can be used to generate an infinite sequence without causing memory issues. The yield keyword plays a crucial role in allowing the function's execution to be paused and resumed, making generator functions a powerful tool for efficient iteration over large or dynamic sequences."
   ]
  },
  {
   "cell_type": "code",
   "execution_count": null,
   "id": "40a13a1f-6f5a-4f4b-bd02-779671f022d9",
   "metadata": {},
   "outputs": [],
   "source": []
  },
  {
   "cell_type": "markdown",
   "id": "b172f402-408d-4ea4-9a17-26e84cb332b8",
   "metadata": {},
   "source": [
    "Q5.Create a generator function for prime numbers less than 1000. Use the next() method to print the first 20 prime numbers ?\n"
   ]
  },
  {
   "cell_type": "code",
   "execution_count": null,
   "id": "a40e057a-9466-4fda-ab82-bf686b50356b",
   "metadata": {},
   "outputs": [],
   "source": [
    "def is_prime(number):\n",
    "    if number <= 1:\n",
    "        return False\n",
    "    if number <= 3:\n",
    "        return True\n",
    "    if number % 2 == 0 or number % 3 == 0:\n",
    "        return False\n",
    "    i = 5\n",
    "    while i * i <= number:\n",
    "        if number % i == 0 or number % (i + 2) == 0:\n",
    "            return False\n",
    "        i += 6\n",
    "    return True\n",
    "\n",
    "def prime_generator(limit):\n",
    "    number = 2\n",
    "    while number < limit:\n",
    "        if is_prime(number):\n",
    "            yield number\n",
    "        number += 1\n",
    "\n",
    "# Create a generator object\n",
    "prime_gen = prime_generator(1000)\n",
    "\n",
    "# Print the first 20 prime numbers\n",
    "for _ in range(20):\n",
    "    print(next(prime_gen))\n"
   ]
  },
  {
   "cell_type": "markdown",
   "id": "be684336-5e08-483c-b237-4540e5e412cd",
   "metadata": {},
   "source": [
    "The is_prime function checks if a given number is prime using a basic primality test.\n",
    "The prime_generator function is the generator function that yields prime numbers less than the specified limit (1000 in this case).\n",
    "The generator object prime_gen is created by calling the prime_generator function.\n",
    "The for loop uses the next() function to retrieve the next prime number from the generator. The loop runs 20 times, printing the first 20 prime numbers less than 1000.\n",
    "Keep in mind that the primality test used in the is_prime function is a basic one and may not be the most efficient for larger numbers. There are more advanced algorithms for primality testing, but this example demonstrates the use of a generator function and the next() method to print prime numbers."
   ]
  },
  {
   "cell_type": "code",
   "execution_count": null,
   "id": "5c79208a-32da-4354-bcdd-26a122b44741",
   "metadata": {},
   "outputs": [],
   "source": []
  },
  {
   "cell_type": "code",
   "execution_count": null,
   "id": "d1b33c48-4a6d-45cd-ab5c-46bb4a304fd2",
   "metadata": {},
   "outputs": [],
   "source": []
  },
  {
   "cell_type": "code",
   "execution_count": null,
   "id": "bc45a5f9-2706-4c25-b2e3-f70108e95bfc",
   "metadata": {},
   "outputs": [],
   "source": []
  }
 ],
 "metadata": {
  "kernelspec": {
   "display_name": "Python 3 (ipykernel)",
   "language": "python",
   "name": "python3"
  },
  "language_info": {
   "codemirror_mode": {
    "name": "ipython",
    "version": 3
   },
   "file_extension": ".py",
   "mimetype": "text/x-python",
   "name": "python",
   "nbconvert_exporter": "python",
   "pygments_lexer": "ipython3",
   "version": "3.10.8"
  }
 },
 "nbformat": 4,
 "nbformat_minor": 5
}
