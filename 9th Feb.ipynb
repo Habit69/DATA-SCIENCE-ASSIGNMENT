{
 "cells": [
  {
   "cell_type": "markdown",
   "id": "2aa6f05e-a8a1-4ff3-ac46-9fe14a67a549",
   "metadata": {},
   "source": [
    "Question 1: Create a vehicle class with an init method having instance variables as name_of_vehicle, max_speed and average_of_vehicle.\n"
   ]
  },
  {
   "cell_type": "code",
   "execution_count": 1,
   "id": "1255c56c-3bee-438d-a04d-ac82fc08549a",
   "metadata": {},
   "outputs": [],
   "source": [
    "class vehicle:\n",
    "    def __init__(self,name_of_vehicle,max_speed,average_of_vehicle):\n",
    "        \"\"\"\n",
    "        This is init constructor definition which intializes all input variables\n",
    "        for the class vehicle\n",
    "        \"\"\"\n",
    "        self.name_of_vehicle = name_of_vehicle\n",
    "        self.max_speed = max_speed\n",
    "        self.average_of_vehicle = average_of_vehicle"
   ]
  },
  {
   "cell_type": "code",
   "execution_count": 2,
   "id": "1713a9cc-5c31-4d97-94ec-21b8e8d59871",
   "metadata": {},
   "outputs": [
    {
     "name": "stdout",
     "output_type": "stream",
     "text": [
      "My vehicle name is Kia Seltos\n",
      "It has max speed of 170 kmph\n",
      "It has Average Mileage of 18.5 kmpl\n"
     ]
    }
   ],
   "source": [
    "my_car = vehicle('Kia Seltos',170,18.5)\n",
    "print(f'My vehicle name is {my_car.name_of_vehicle}')\n",
    "print(f'It has max speed of {my_car.max_speed} kmph')\n",
    "print(f'It has Average Mileage of {my_car.average_of_vehicle} kmpl')\n"
   ]
  },
  {
   "cell_type": "code",
   "execution_count": null,
   "id": "d3211982-6ec5-43b6-b2ae-4b32d58941b6",
   "metadata": {},
   "outputs": [],
   "source": []
  },
  {
   "cell_type": "markdown",
   "id": "c1782d46-733a-4b80-ba4e-1285c1c1db55",
   "metadata": {},
   "source": [
    "Question 2: Create a child class car from the vehicle class created in Que 1, which will inherit the vehicle class.Create a method named seating_capacity which takes capacity as an argument and returns the name of the vehicle and its seating capacity."
   ]
  },
  {
   "cell_type": "code",
   "execution_count": 3,
   "id": "852366ea-debd-4c76-bd44-b966b787feb2",
   "metadata": {},
   "outputs": [],
   "source": [
    "class car(vehicle):\n",
    "\n",
    "    def seating_capacity(self,capacity):\n",
    "        \"\"\"\n",
    "        This function takes capacity as argument \n",
    "        and returns vehicle name and seating capacity\n",
    "        \"\"\"\n",
    "        self.capacity = capacity\n",
    "        return self.name_of_vehicle, self.capacity\n"
   ]
  },
  {
   "cell_type": "code",
   "execution_count": 4,
   "id": "29ae6d87-6212-45f3-a84c-0a507b736063",
   "metadata": {},
   "outputs": [
    {
     "data": {
      "text/plain": [
       "('MG Hector', 5)"
      ]
     },
     "execution_count": 4,
     "metadata": {},
     "output_type": "execute_result"
    }
   ],
   "source": [
    "friends_car = car('MG Hector',195,14)\n",
    "friends_car.seating_capacity(5)"
   ]
  },
  {
   "cell_type": "code",
   "execution_count": null,
   "id": "a2090297-7b44-46ce-8aec-7659bb0e33f6",
   "metadata": {},
   "outputs": [],
   "source": []
  },
  {
   "cell_type": "code",
   "execution_count": null,
   "id": "949b8563-400a-4d7c-a9a9-c94bb0357a58",
   "metadata": {},
   "outputs": [],
   "source": []
  },
  {
   "cell_type": "markdown",
   "id": "5f380118-f714-463e-9afa-388644b3c229",
   "metadata": {},
   "source": [
    "Q3. What is multiple inheritance? Write a python code to demonstrate multiple inheritance"
   ]
  },
  {
   "cell_type": "markdown",
   "id": "07c4ddf0-5529-4e4d-afd0-37429b077075",
   "metadata": {},
   "source": [
    "Multiple inheritance is a feature in some object-oriented programming languages that allows a class to inherit attributes and behaviors from more than one parent class. In other words, a class can have multiple base classes from which it derives properties and methods. This enables a class to combine features and characteristics from different sources, providing a way to create more complex and versatile class hierarchies.\n",
    "\n"
   ]
  },
  {
   "cell_type": "code",
   "execution_count": 5,
   "id": "cc76ce68-af7b-4d14-bf2f-75aabec2119a",
   "metadata": {},
   "outputs": [
    {
     "name": "stdout",
     "output_type": "stream",
     "text": [
      "Method from ClassA\n",
      "Method from ClassB\n",
      "Method from ClassC\n"
     ]
    }
   ],
   "source": [
    "class ClassA:\n",
    "    def method_A(self):\n",
    "        print(\"Method from ClassA\")\n",
    "\n",
    "class ClassB:\n",
    "    def method_B(self):\n",
    "        print(\"Method from ClassB\")\n",
    "\n",
    "class ClassC(ClassA, ClassB):\n",
    "    def method_C(self):\n",
    "        print(\"Method from ClassC\")\n",
    "\n",
    "# Create an instance of ClassC\n",
    "obj = ClassC()\n",
    "\n",
    "# Access methods from all parent classes\n",
    "obj.method_A()  # Output: Method from ClassA\n",
    "obj.method_B()  # Output: Method from ClassB\n",
    "obj.method_C()  # Output: Method from ClassC\n"
   ]
  },
  {
   "cell_type": "code",
   "execution_count": null,
   "id": "063e6812-5611-4415-bbf8-bd08c3b73d59",
   "metadata": {},
   "outputs": [],
   "source": []
  },
  {
   "cell_type": "markdown",
   "id": "0deb07c6-978d-49ee-bb5b-eaffdf7b7534",
   "metadata": {},
   "source": [
    "Question 4 : What are getter and setter in python? Create a class and create a getter and a setter method in this class."
   ]
  },
  {
   "cell_type": "markdown",
   "id": "47f3bb6e-c577-4c7f-8bcd-c8e8401f1b0b",
   "metadata": {},
   "source": [
    "Getters : These are the methods used in Object-Oriented Programming (OOPS) which helps to access the private attributes from a class.\n",
    "Setters : These are the methods used in OOPS feature which helps to set the value to private attributes in a class."
   ]
  },
  {
   "cell_type": "code",
   "execution_count": 6,
   "id": "6c075f73-2862-465c-b305-c0d976ccc20a",
   "metadata": {},
   "outputs": [],
   "source": [
    "class employee:\n",
    "\n",
    "    def __init__(self,name,employee_id):\n",
    "        \"\"\"\n",
    "        This constructor function creates 2 private vairables \n",
    "        name and employee_id which cannot be directly accessed\n",
    "        \"\"\"\n",
    "        self.__name = name\n",
    "        self.__employee_id = employee_id\n",
    "    \n",
    "    def get_employee_id(self):\n",
    "        \"\"\"\n",
    "        This is getter function gets the employee id of the given employee\n",
    "        \"\"\"\n",
    "        return self.__employee_id\n",
    "    \n",
    "    def set_employee_id(self,new_id):\n",
    "        \"\"\"\n",
    "        This is a setter function and sets the employee id for given employess\n",
    "        \"\"\"\n",
    "        self.__employee_id = new_id"
   ]
  },
  {
   "cell_type": "code",
   "execution_count": 7,
   "id": "640d5802-74de-45d2-b2e9-dfa05acfa450",
   "metadata": {},
   "outputs": [
    {
     "data": {
      "text/plain": [
       "'123'"
      ]
     },
     "execution_count": 7,
     "metadata": {},
     "output_type": "execute_result"
    }
   ],
   "source": [
    "emp1 = employee('Utkarsh','123')\n",
    "emp1.get_employee_id()\n",
    "\n"
   ]
  },
  {
   "cell_type": "markdown",
   "id": "41c22294-cc2f-4542-865f-a388537e4e0c",
   "metadata": {},
   "source": [
    "5.) What is method overriding in python? Write a python code to demonstrate method overriding"
   ]
  },
  {
   "cell_type": "markdown",
   "id": "32a93748-9729-4ba3-849a-12072601fa45",
   "metadata": {},
   "source": [
    " Method overriding is a feature of object-oriented programming languages where the subclass or child class can provide the program with specific characteristics or a specific implementation process of data provided that are already defined in the parent class or superclass.\n"
   ]
  }
 ],
 "metadata": {
  "kernelspec": {
   "display_name": "Python 3 (ipykernel)",
   "language": "python",
   "name": "python3"
  },
  "language_info": {
   "codemirror_mode": {
    "name": "ipython",
    "version": 3
   },
   "file_extension": ".py",
   "mimetype": "text/x-python",
   "name": "python",
   "nbconvert_exporter": "python",
   "pygments_lexer": "ipython3",
   "version": "3.10.8"
  }
 },
 "nbformat": 4,
 "nbformat_minor": 5
}
