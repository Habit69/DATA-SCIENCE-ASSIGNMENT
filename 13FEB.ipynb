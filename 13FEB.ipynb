{
 "cells": [
  {
   "cell_type": "code",
   "execution_count": 1,
   "id": "9c02e273-68ba-4b93-9e05-942bfb8bd72a",
   "metadata": {},
   "outputs": [],
   "source": [
    "import logging\n",
    "logging.basicConfig(filename='Assignment12.log',level=logging.DEBUG,format= '%(asctime)s - %(name)s - %(levelname)s - %(message)s')\n"
   ]
  },
  {
   "cell_type": "code",
   "execution_count": null,
   "id": "5638a507-4ff7-4c37-8bfe-25ea4df26217",
   "metadata": {},
   "outputs": [],
   "source": []
  },
  {
   "cell_type": "markdown",
   "id": "ecee069b-66d9-4c09-b4c5-4bd7da6a5aeb",
   "metadata": {},
   "source": [
    "Question 2: Explain why we have to use the Exception class while creating a Custom Exception.\n"
   ]
  },
  {
   "cell_type": "markdown",
   "id": "7b8a857d-1a11-40a4-b459-22e9f91a15eb",
   "metadata": {},
   "source": [
    "Answer:\n",
    "   1.) The Exception class is used as the base class for custom exceptions in Python because it provides a standard way of representing and handling errors that occur in a program. When you create a custom exception class, it should inherit from the Exception class in order to be recognized as an exception by the Python runtime.\n",
    "   2.)By inheriting from the Exception class, your custom exception class automatically gets all the properties and methods of the Exception class, making it easier to use and handle in your code. For example, you can raise your custom exception using the raise statement, and it will be caught by a try-except block just like any other standard exception.\n",
    "   3.)Additionally, inheriting from the Exception class also makes it possible for other parts of your code to catch your custom exception specifically, if necessary. This allows you to create more specific error handling logic for your custom exceptions, rather than relying on a catch-all approach for all exceptions.\n",
    "   4.)In summary, using the Exception class as the base class for custom exceptions provides a standard way of representing and handling errors in Python, making it easier to integrate custom exceptions into your code and handle them appropriately"
   ]
  },
  {
   "cell_type": "code",
   "execution_count": 2,
   "id": "4c95d06d-c85e-4089-a0d9-b8a2d130fc70",
   "metadata": {},
   "outputs": [],
   "source": [
    "class TransactionLimitExceeded(Exception):\n",
    "    def __init__(self, message, transaction_amount, limit):\n",
    "        self.message = message\n",
    "        self.transaction_amount = transaction_amount\n",
    "        self.limit = limit\n",
    "        super().__init__(self.message)\n",
    "# Define a process transaction method to reject transaction if above limit \n",
    "def process_transaction(amount):\n",
    "    \"\"\"\n",
    "    This Function Processes the amount then validates the transaction\n",
    "    \"\"\"\n",
    "    logging.info('This is starting of process_transaction definition.')\n",
    "    try:\n",
    "        limit = 1000\n",
    "        if amount > limit:\n",
    "            # If Amount is greater than limit the function will raise error\n",
    "            logging.error('Exception Occured Transaction amount Exceeded the limit')       \n",
    "            raise TransactionLimitExceeded(\"Transaction limit exceeded\", amount, limit)\n",
    "        else:\n",
    "            logging.info(f'Transaction is valid with amount : {amount}')\n",
    "            print('Valid Transaction Amount : ',amount)\n",
    "        logging.info('Try Block executed')\n",
    "    \n",
    "    except TransactionLimitExceeded as e:\n",
    "        logging.info(f'Transaction of Amount : {amount} Exceeded the limit {limit}')\n",
    "        logging.exception(f'Transaction Limit Exceeded , Exception : {e}')\n",
    "        print('Transaction Limit Exceeded , Handled Exception :',e)\n"
   ]
  },
  {
   "cell_type": "code",
   "execution_count": null,
   "id": "b1f4f310-2819-4d0f-a798-610b738ebe88",
   "metadata": {},
   "outputs": [],
   "source": [
    "process_transaction(500)\n",
    "Valid Transaction Amount :  500\n",
    "# Test Case 2: Amount is equal to 1000\n",
    "process_transaction(1000)\n",
    "Valid Transaction Amount :  1000\n",
    "# Test Case 3: Amount is above 1000\n",
    "process_transaction(2000)\n"
   ]
  },
  {
   "cell_type": "code",
   "execution_count": null,
   "id": "8330efe4-6fac-4f3c-8564-e5515f1b935e",
   "metadata": {},
   "outputs": [],
   "source": []
  },
  {
   "cell_type": "markdown",
   "id": "ce327c5c-beeb-4313-8070-201b893ac6cb",
   "metadata": {},
   "source": [
    "Question 2: Write a python program to print Python Exception Hierarchy."
   ]
  },
  {
   "cell_type": "code",
   "execution_count": null,
   "id": "3213918c-f813-4a5b-85ec-6637e7ee4a2a",
   "metadata": {},
   "outputs": [],
   "source": [
    "def print_exception_hierarchy(exception, level=0):\n",
    "    \"\"\"\n",
    "    This function prints the exception hierarchy\n",
    "    \"\"\"\n",
    "    print(\"  \" * level + exception.__name__)\n",
    "    logging.info(\" \"* level + exception.__name__)\n",
    "    for subclass in exception.__subclasses__():\n",
    "        print_exception_hierarchy(subclass, level + 1)\n",
    "        logging.info(f'Subclass: {subclass},level:{level}')\n",
    "\n",
    "print_exception_hierarchy(Exception)"
   ]
  },
  {
   "cell_type": "code",
   "execution_count": null,
   "id": "03318102-1fe8-4b47-b4c6-dfe912c60225",
   "metadata": {},
   "outputs": [],
   "source": []
  },
  {
   "cell_type": "markdown",
   "id": "4f9f8b6b-3166-4c04-8335-77401e747d6b",
   "metadata": {},
   "source": [
    "Question 3: What errors are defined in the ArithmeticError class? Explain any two with an example."
   ]
  },
  {
   "cell_type": "markdown",
   "id": "4c247cac-1b05-48b5-a0d3-703c7ca74e21",
   "metadata": {},
   "source": [
    "The ArithmeticError class is a built-in exception in Python that represents errors that occur during arithmetic operations. Some of the errors that are defined in the ArithmeticError class include:\n",
    "1.)OverflowError: This error is raised when a mathematical operation results in a number that is too large to be represented within the available memory.\n",
    "2.)ZeroDivisionError: This error is raised when a division operation is attempted with a denominator of zero.\n",
    "3.)FloatingPointError: This error is raised when a floating-point operation fails, such as an operation involving infinities or NaNs (Not-a-Number)."
   ]
  },
  {
   "cell_type": "code",
   "execution_count": null,
   "id": "1502ea6f-9101-4ebd-b9d1-3a352125b9cf",
   "metadata": {},
   "outputs": [],
   "source": []
  },
  {
   "cell_type": "code",
   "execution_count": null,
   "id": "99be42c5-d0b2-43df-94d4-5dd1b34bd562",
   "metadata": {},
   "outputs": [],
   "source": [
    "logging.info('This is start of Question 3')\n",
    "try :\n",
    "    a = 10\n",
    "    print(a/0)\n",
    "    logging.info('Try block executed')\n",
    "except ZeroDivisionError as e:\n",
    "    print('Exception occured and handled : ',e)\n",
    "    logging.exception(f'Exception occured and Handled : {e}')\n",
    "finally:\n",
    "    logging.info('Example 1 of Question 3 Completed')\n",
    "Exception occured and handled :  division by zero\n",
    "# Example 2: OverflowError - The number is too large to store in System memory \n",
    "import math\n",
    "logging.info('Example 2 Overflow error of Question 3 Started')\n",
    "try :\n",
    "    print(\"The exponential value is\")\n",
    "    print(math.exp(1000))\n",
    "    logging.info('Try Block executed')\n",
    "except OverflowError as e:\n",
    "    print(f'Error Occured and Handled : {e}')\n",
    "    logging.info(f'Error Occured and Handled : {e}')"
   ]
  },
  {
   "cell_type": "code",
   "execution_count": null,
   "id": "9b66d485-fd8d-4e57-b4f3-dfe636e20720",
   "metadata": {},
   "outputs": [],
   "source": []
  },
  {
   "cell_type": "code",
   "execution_count": null,
   "id": "1565c5bf-75cc-4e83-b46a-3a5c7397e989",
   "metadata": {},
   "outputs": [],
   "source": []
  },
  {
   "cell_type": "markdown",
   "id": "8bcf0f69-49b1-4c60-ba39-d4c777a21519",
   "metadata": {},
   "source": [
    "Question 4: Why LookupError class is used? Explain with an example KeyError and IndexError."
   ]
  },
  {
   "cell_type": "markdown",
   "id": "20730d9a-851b-40c2-96de-26cded3cfcbb",
   "metadata": {},
   "source": [
    "The LookupError class is used in Python to represent exceptions that are raised when a key or an index is not found in a data structure such as a dictionary or a list. LookupError is a base class for two more specific exceptions: KeyError and IndexError.\n",
    "\n",
    "KeyError is raised when a key is not found in a dictionary\n",
    "IndexError is raised when an index is not found in a list."
   ]
  },
  {
   "cell_type": "code",
   "execution_count": null,
   "id": "023c3a60-80e7-48b6-a037-787fc75b5c23",
   "metadata": {},
   "outputs": [],
   "source": [
    "logging.info('This is start of Key Error Example')\n",
    "try :\n",
    "    d = {'key1':'value1','key2':'value2'}\n",
    "    d['key3']\n",
    "    logging.info('Try Block executed')\n",
    "except KeyError as e:\n",
    "    print(f'Error Occured and Handled Key Error : {e}')\n",
    "    logging.exception(f'Error Occured and Handled Key Error : {e}')\n",
    "finally:\n",
    "    logging.info('This is end of Key Error Example')\n",
    "Error Occured and Handled Key Error : 'key3'\n",
    "# Example 2: Index Error\n",
    "logging.info('This is start of Index error example')\n",
    "try:\n",
    "    l = [1,2,3,4,5,True,'sample']\n",
    "    l[21]\n",
    "except IndexError as e:\n",
    "    print(f'Index error occured and Handled : {e}')\n",
    "    logging.exception(f'Index error occured and Handled : {e}')\n",
    "finally:\n",
    "    logging.info('Index Error Example complete')"
   ]
  },
  {
   "cell_type": "code",
   "execution_count": null,
   "id": "58d0ea93-7728-4896-a0e5-b59622492054",
   "metadata": {},
   "outputs": [],
   "source": []
  },
  {
   "cell_type": "markdown",
   "id": "db69500c-b267-4a89-a781-128bcd95edd7",
   "metadata": {},
   "source": [
    "Question 5 : Explain ImportError. What is ModuleNotFoundError?"
   ]
  },
  {
   "cell_type": "markdown",
   "id": "60a688b2-6eb3-4082-b7f0-9bb968678187",
   "metadata": {},
   "source": [
    "ImportError is a class in Python that represents exceptions raised when a module or package cannot be found or imported. An ImportError is raised when Python encounters a line of code that tries to import a module or package that does not exist or is not accessible due to a file system error, for example.\n",
    "ModuleNotFoundError is a subclass of ImportError that is specifically raised when a module cannot be found in the Python path. It was added in Python 3.6 as a more descriptive error message to replace the generic ImportError message."
   ]
  },
  {
   "cell_type": "code",
   "execution_count": null,
   "id": "3d9da1f0-3216-4726-afb9-d6c65acd5ed2",
   "metadata": {},
   "outputs": [],
   "source": [
    "logging.info('This is start of example for ImportError')\n",
    "try :\n",
    "    import calculus\n",
    "    logging.info('Module Imported')\n",
    "except ImportError as e:\n",
    "    print(f'ImportError Occured and handled : {e}')\n",
    "    logging.exception(f'ImportError Occured and handled : {e}')\n",
    "finally:\n",
    "    logging.info('ImportError Example Complete')\n",
    "ImportError Occured and handled : No module named 'calculus'\n",
    "# Example 2: ModuleNotFoundError: This is child class of ImportError\n",
    "logging.info('This is start of example for ModuleNotFoundError')\n",
    "try :\n",
    "    import calculus\n",
    "    logging.info('Module Imported')\n",
    "except ModuleNotFoundError as e:\n",
    "    print(f'ImportError Occured and handled : {e}')\n",
    "    logging.exception(f'ModuleNotFoundError Occured and handled : {e}')\n",
    "finally:\n",
    "    logging.info('ModuleNotFound Example Complete')"
   ]
  },
  {
   "cell_type": "code",
   "execution_count": null,
   "id": "2d54b157-c3f4-49f7-afd5-563a56eb5b88",
   "metadata": {},
   "outputs": [],
   "source": []
  },
  {
   "cell_type": "markdown",
   "id": "fb29f0e9-a3a8-4f8a-9b7f-fafa0d6638cb",
   "metadata": {},
   "source": [
    "Question 6 : List down some best practices for exception handling in python."
   ]
  },
  {
   "cell_type": "markdown",
   "id": "3272494c-d2f1-4ac3-9266-21d9dfada138",
   "metadata": {},
   "source": [
    "Here are some best practices for exception handling in Python:\n",
    "\n",
    "1.)Be specific in catching exceptions: Instead of catching a broad, generic exception such as Exception, it's better to catch more specific exceptions that correspond to the errors you expect to handle. This way, you can ensure that only the errors you want to handle are caught and other unexpected errors are allowed to propagate.\n",
    "\n",
    "2.)Use try-except blocks: try-except blocks are the recommended way to handle exceptions in Python. They allow you to catch exceptions and take appropriate action, without letting the program crash.\n",
    "\n",
    "3.)Provide meaningful error messages: When raising exceptions, provide meaningful error messages that can help you diagnose and fix the problem. Avoid using generic error messages like \"Something went wrong\".\n",
    "\n",
    "4.)Avoid using bare except blocks: Bare except blocks catch all exceptions and can hide important information about the cause of the error. Instead, use specific exception classes or Exception with a more descriptive error message.\n",
    "\n",
    "5.)Use finally blocks wisely: finally blocks are used to execute code that needs to run regardless of whether an exception was raised or not. Use them wisely to clean up resources or close files, for example.\n",
    "\n",
    "6.)Don't suppress exceptions: Avoid suppressing exceptions by using a bare except block or catching a broad exception class and not re-raising it. Doing so can hide important information about the cause of the error and make it harder to diagnose and fix.\n",
    "\n",
    "7.)Propagate exceptions up the call stack: If you catch an exception and cannot handle it, propagate it up the call stack by re-raising it. This way, the exception can be handled by an enclosing try-except block or reach the top-level of the program where it can be logged or displayed to the user"
   ]
  },
  {
   "cell_type": "code",
   "execution_count": null,
   "id": "f5340cee-9fd8-47c5-a470-02cb47ac1fcb",
   "metadata": {},
   "outputs": [],
   "source": [
    "def divide(a, b):\n",
    "    logging.info('This is start of divide function')\n",
    "    try:\n",
    "        result = a / b\n",
    "        logging.info('Try Block executed')\n",
    "    except ZeroDivisionError as e:\n",
    "        logging.exception(f'Zero Division Error occured and Handled : {e}')\n",
    "        raise ValueError(\"Cannot divide by zero\") from e\n",
    "    except TypeError as e:\n",
    "        logging.exception(f'Type Error Occured and Handled : {e}')\n",
    "        raise ValueError(\"Both arguments must be numbers\") from e\n",
    "    else:\n",
    "        logging.info('Else Block Executed')\n",
    "        return result\n",
    "    finally:\n",
    "        logging.info('This is end of divide function')"
   ]
  },
  {
   "cell_type": "code",
   "execution_count": null,
   "id": "c0390b51-5672-4a84-8e20-be81a23292ad",
   "metadata": {},
   "outputs": [],
   "source": []
  },
  {
   "cell_type": "code",
   "execution_count": null,
   "id": "02bfa628-b5e2-4c3f-bcb4-2c0910962caa",
   "metadata": {},
   "outputs": [],
   "source": [
    "try:\n",
    "    print(divide(20,6))    \n",
    "except (ZeroDivisionError, ValueError) as e:\n",
    "    print(f'Error occured and Handled : {e}')    \n",
    "    logging.exception(f'Error occured and Handled : {e}')\n",
    "\n",
    "# Example 2: Dividing by Zero\n",
    "try:\n",
    "    print(divide(43,0))    \n",
    "except (ZeroDivisionError, ValueError) as e:\n",
    "    print(f'Error occured and Handled : {e}')    \n",
    "    logging.exception(f'Error occured and Handled : {e}')\n",
    "\n",
    "# Example 3: Dividing with String\n",
    "try:\n",
    "    print(divide(43,'example'))    \n",
    "except (ZeroDivisionError, ValueError) as e:\n",
    "    print(f'Error occured and Handled : {e}')    \n",
    "    logging.exception(f'Error occured and Handled : {e}')\n"
   ]
  },
  {
   "cell_type": "code",
   "execution_count": 4,
   "id": "59be306c-37bb-4fd8-b6a5-5bc3b2b5d741",
   "metadata": {},
   "outputs": [
    {
     "name": "stdout",
     "output_type": "stream",
     "text": [
      "\n"
     ]
    }
   ],
   "source": [
    "# Shutdown logging first\n",
    "logging.shutdown()\n",
    "# Showing a preview of log file\n",
    "with open('Assignment12.log','r') as f:\n",
    "    print(f.read(2000))\n"
   ]
  },
  {
   "cell_type": "code",
   "execution_count": null,
   "id": "948d8361-b72e-43dc-a3b1-06107c8b81cf",
   "metadata": {},
   "outputs": [],
   "source": []
  },
  {
   "cell_type": "code",
   "execution_count": null,
   "id": "9bb6ceaf-8f19-4d1f-8c83-a47db00cc06f",
   "metadata": {},
   "outputs": [],
   "source": []
  },
  {
   "cell_type": "code",
   "execution_count": null,
   "id": "8cf7d172-2783-4236-97ea-909824166d60",
   "metadata": {},
   "outputs": [],
   "source": []
  },
  {
   "cell_type": "code",
   "execution_count": null,
   "id": "a2088176-5b9d-4855-a8ec-70da4719935e",
   "metadata": {},
   "outputs": [],
   "source": []
  },
  {
   "cell_type": "code",
   "execution_count": null,
   "id": "7115c6ca-1b87-4252-87d5-ad852e78633e",
   "metadata": {},
   "outputs": [],
   "source": []
  },
  {
   "cell_type": "code",
   "execution_count": null,
   "id": "1fbfc0c4-7dcd-4d4e-9dc4-054e4b12ed31",
   "metadata": {},
   "outputs": [],
   "source": []
  },
  {
   "cell_type": "code",
   "execution_count": null,
   "id": "9c0c85fc-c24a-48a0-9c9a-7485db5a8027",
   "metadata": {},
   "outputs": [],
   "source": []
  }
 ],
 "metadata": {
  "kernelspec": {
   "display_name": "Python 3 (ipykernel)",
   "language": "python",
   "name": "python3"
  },
  "language_info": {
   "codemirror_mode": {
    "name": "ipython",
    "version": 3
   },
   "file_extension": ".py",
   "mimetype": "text/x-python",
   "name": "python",
   "nbconvert_exporter": "python",
   "pygments_lexer": "ipython3",
   "version": "3.10.8"
  }
 },
 "nbformat": 4,
 "nbformat_minor": 5
}
