{
 "cells": [
  {
   "cell_type": "markdown",
   "id": "78a8ec21-9c1e-4b13-9206-fa91b8b47641",
   "metadata": {},
   "source": [
    "1. Create a function which will take a list as an an argument and return the product of all the numbers after creating a flat list. Use the given list as an argument for your function.\n",
    "\n",
    "list1=[1,2,3,4,[44,55,66,True],False,(34,56,78,89,34),{1,2,3,3,2,1},{1:34,\"key2\":[55,67,78,89],4:(45,22,61,34)},[56:'data science'],'Machine Learning'] Note:You must extract numeric keys and values of the dictionary also.\n",
    "\n"
   ]
  },
  {
   "cell_type": "code",
   "execution_count": 1,
   "id": "67ce51d9-4adb-4b05-bc4d-26fcb85832c9",
   "metadata": {},
   "outputs": [
    {
     "name": "stdout",
     "output_type": "stream",
     "text": [
      "0\n"
     ]
    }
   ],
   "source": [
    "def get_product(lst):\n",
    "    flat_list = []\n",
    "    for item in lst:\n",
    "        if isinstance(item, (int, float)):\n",
    "            flat_list.append(item)\n",
    "        elif isinstance(item, (tuple, list)):\n",
    "            flat_list.extend(get_product(item))\n",
    "        elif isinstance(item, dict):\n",
    "            flat_list.extend(get_product(item.keys()))\n",
    "            flat_list.extend(get_product(item.values()))\n",
    "    return flat_list\n",
    "    print(flat_list)\n",
    "\n",
    "def calculate_product(lst):\n",
    "    flat_list = get_product(lst)\n",
    "    product = 1\n",
    "    for item in flat_list:\n",
    "        if isinstance(item, (int, float)):\n",
    "            product *= item\n",
    "    return product\n",
    "\n",
    "list1=[1,2,3,4,[44,55,66,True],False,(34,56,78,89,34),{1,2,3,3,2,1},{1:34,\"key2\":[55,67,78,89],4:(45,22,61,34)},[56,'data science'],'Machine Learning']\n",
    "print(calculate_product(list1))\n"
   ]
  },
  {
   "cell_type": "code",
   "execution_count": null,
   "id": "b07348ce-ca90-4827-8a2f-c743badd706b",
   "metadata": {},
   "outputs": [],
   "source": []
  },
  {
   "cell_type": "code",
   "execution_count": null,
   "id": "579943a7-c85c-42f5-babf-a556559553c8",
   "metadata": {},
   "outputs": [],
   "source": []
  },
  {
   "cell_type": "code",
   "execution_count": null,
   "id": "5fd878fb-27b1-4421-850d-f870fa607bd4",
   "metadata": {},
   "outputs": [],
   "source": []
  },
  {
   "cell_type": "markdown",
   "id": "3a63df60-8813-4751-8c8b-6258cbcbaab1",
   "metadata": {},
   "source": [
    "Q2.Write a python program to encrypt a message sent to you by your friend. The logic of encryption should be such that, for a the output should be z, for b the output should be y, for c the output should be x respectively and so on. Also thewhitespace should be replaced with a dollar sign. Keep the punctuation marks unchanged.\n",
    "\n",
    "Input sentence: I want to become a Data Scientist. Encrypt the above input sentence using the program that you just created. Note: Convert the given input sentence into lowercase before encrypting. The final output should be lowercase\n"
   ]
  },
  {
   "cell_type": "code",
   "execution_count": null,
   "id": "90aaa0cd-944f-4f2f-a593-a448cfe48d58",
   "metadata": {},
   "outputs": [],
   "source": [
    "import string\n",
    "def encrypted_message(strg):\n",
    "    \"\"\"\n",
    "    This function returns encrypted string as mentioned in the question 2\n",
    "    \"\"\"\n",
    "\n",
    "    # Step 1 : Creating dictionary {'a':'z','b':'y',...,'z':a}\n",
    "    ascii_alph = string.ascii_lowercase\n",
    "    encrypted_dict = dict(zip(ascii_alph, ascii_alph[::-1]))\n",
    "\n",
    "    # Step 2 : Add space key as $ in dictionary\n",
    "    encrypted_dict[' ']='$'\n",
    "\n",
    "    # Step 3 : Add punctuation marks as it is\n",
    "    for i in string.punctuation:\n",
    "        encrypted_dict[i]=i\n",
    "\n",
    "    # Step 4 : Adding Numbers and keeping them same:\n",
    "    for num in range(0,10):\n",
    "        encrypted_dict[str(num)]=str(num)\n",
    "    \n",
    "    # Dictionary creation is completed \n",
    "\n",
    "    # Step 5 : Initialize blank string encrypt_out\n",
    "    encrypt_out = ''\n",
    "\n",
    "    # Step 6 : Apply for loop to input and use encrypted_dict\n",
    "    # Use lowercase for case unification\n",
    "    for char in strg.lower():\n",
    "        encrypt_out = encrypt_out + encrypted_dict[char]\n",
    "    \n",
    "    return encrypt_out\n"
   ]
  },
  {
   "cell_type": "code",
   "execution_count": null,
   "id": "db672aef-0f6d-481e-8f6d-5f75597e5124",
   "metadata": {},
   "outputs": [],
   "source": [
    "\n",
    "test = 'Hello there I am chetan warghat  and my age is 22.\n",
    "encrypted_message(test)\n",
    "\n",
    "# Final Output\n",
    "inp = \"I want to become a Data Scientist.\"\n",
    "encrypted_message(inp) \n"
   ]
  },
  {
   "cell_type": "code",
   "execution_count": null,
   "id": "d76ce5da-5884-4712-b82d-e9537540627e",
   "metadata": {},
   "outputs": [],
   "source": []
  }
 ],
 "metadata": {
  "kernelspec": {
   "display_name": "Python 3 (ipykernel)",
   "language": "python",
   "name": "python3"
  },
  "language_info": {
   "codemirror_mode": {
    "name": "ipython",
    "version": 3
   },
   "file_extension": ".py",
   "mimetype": "text/x-python",
   "name": "python",
   "nbconvert_exporter": "python",
   "pygments_lexer": "ipython3",
   "version": "3.10.8"
  }
 },
 "nbformat": 4,
 "nbformat_minor": 5
}
