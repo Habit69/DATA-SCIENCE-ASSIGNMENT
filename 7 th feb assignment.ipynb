{
 "cells": [
  {
   "cell_type": "markdown",
   "id": "7150f201-e034-4f27-83a4-352617275a09",
   "metadata": {},
   "source": [
    "Q1.)You are writing code for a company. The requirement of the company is that you create a python function that will check whether the password entered by the user is correct or not. The function should take the password as input and return the string “Valid Password” if the entered password follows the below-given password guidelines else it should return “Invalid Password”.\n",
    "Note: 1. The Password should contain at least two uppercase letters and at least two lowercase letters. 2. The Password should contain at least a number and three special characters. 3. The length of the password should be 10 characters long."
   ]
  },
  {
   "cell_type": "code",
   "execution_count": 1,
   "id": "ab98077a-b6d2-4874-8a7a-2883096b2af6",
   "metadata": {},
   "outputs": [
    {
     "name": "stdout",
     "output_type": "stream",
     "text": [
      "Valid Password\n"
     ]
    }
   ],
   "source": [
    "def validate_password(password):\n",
    "    if len(password) <= 10:\n",
    "        return \"Invalid Password\"\n",
    "    upper_count = 0\n",
    "    lower_count = 0\n",
    "    number_count = 0\n",
    "    special_count = 0\n",
    "    for char in password:\n",
    "        if char.islower():\n",
    "            lower_count += 1\n",
    "        elif char.isupper():\n",
    "            upper_count += 1\n",
    "        elif char.isdigit():\n",
    "            number_count += 1\n",
    "        elif not char.isalnum():\n",
    "            special_count += 1\n",
    "    if upper_count >= 2 and lower_count >= 2 and number_count >= 1 and special_count >= 3:\n",
    "        return \"Valid Password\"\n",
    "    else:\n",
    "        return \"Invalid Password\"\n",
    "print(validate_password(\"HelloWorld!23#$%\"))\n"
   ]
  },
  {
   "cell_type": "markdown",
   "id": "c0330634-455f-48fe-83af-4d20abc7252f",
   "metadata": {},
   "source": [
    "Q2.)Solve the below-given questions using at least one of the following:\n"
   ]
  },
  {
   "cell_type": "markdown",
   "id": "97b80e5c-e7d1-42e0-bee9-e14683d66277",
   "metadata": {},
   "source": [
    "1.)Lambda function\n",
    "2.)Filter function\n",
    "3.)Map function\n",
    "4.)List Comprehension\n"
   ]
  },
  {
   "cell_type": "markdown",
   "id": "693e8de1-6f91-490d-bbea-ced8db833af6",
   "metadata": {},
   "source": [
    "Check if the string starts with a particular letter Y Check if the string is numericY Sort a list of tuples having fruit names and their quantity. [(\"mango\",99),(\"orange\",80), (\"grapes\", 1000)- Find the squares of numbers from 1 to 10 Y. Find the cube root of numbers from 1 to 10 Y. Check if a given number is even Y. Filter odd numbers from the given list. [1,2,3,4,5,6,7,8,9,10] Sort a list of integers into positive and negative integers lists. [1,2,3,4,5,6,-1,-2,-3,-4,-5,0]"
   ]
  },
  {
   "cell_type": "code",
   "execution_count": 2,
   "id": "0b12955a-0a0a-4e24-b927-b43d2417a33b",
   "metadata": {},
   "outputs": [
    {
     "name": "stdout",
     "output_type": "stream",
     "text": [
      "['Banana']\n",
      "['123', '456', '789']\n",
      "[('orange', 80), ('mango', 99), ('grapes', 1000)]\n",
      "[1, 4, 9, 16, 25, 36, 49, 64, 81, 100]\n",
      "[2, 4, 6, 8, 10]\n",
      "[1, 3, 5, 7, 9]\n",
      "Positive numbers: [1, 2, 3, 4, 5, 6]\n",
      "Negative numbers: [-1, -2, -3, -4, -5]\n"
     ]
    }
   ],
   "source": [
    "def starts_with_letter(string, letter):\n",
    "    return string[0].lower() == letter.lower()\n",
    "\n",
    "strings = [\"apple\", \"Banana\", \"Cherry\", \"date\", \"Elderberry\"]\n",
    "letter = \"b\"\n",
    "filtered_strings = filter(lambda x: starts_with_letter(x, letter), strings)\n",
    "print(list(filtered_strings))\n",
    "\n",
    "# Check if the string is numeric:\n",
    "def is_numeric(string):\n",
    "    try:\n",
    "        float(string)\n",
    "        return True\n",
    "    except ValueError:\n",
    "        return False\n",
    "\n",
    "strings = [\"123\", \"456\", \"789\", \"abc\", \"def\"]\n",
    "filtered_strings = filter(is_numeric, strings)\n",
    "print(list(filtered_strings))\n",
    "\n",
    "# Sort a list of tuples having fruit names and their quantity:\n",
    "fruits = [(\"mango\", 99), (\"orange\", 80), (\"grapes\", 1000)]\n",
    "sorted_fruits = sorted(fruits, key=lambda x: x[1])\n",
    "print(sorted_fruits)\n",
    "\n",
    "# Find the squares of numbers from 1 to 10:\n",
    "numbers = range(1, 11)\n",
    "squared_numbers = map(lambda x: x**2, numbers)\n",
    "print(list(squared_numbers))\n",
    "\n",
    "# Find the cube root of numbers from 1 to 10:\n",
    "import math\n",
    "numbers = range(1, 11)\n",
    "cube_roots = map(lambda x: int(math.pow(x, 1/3)), numbers)\n",
    "numbers = [1, 2, 3, 4, 5, 6, 7, 8, 9, 10]\n",
    "even_numbers = filter(lambda x: x % 2 == 0, numbers)\n",
    "print(list(even_numbers))\n",
    "\n",
    "# Filter odd numbers from a given list:\n",
    "numbers = [1, 2, 3, 4, 5, 6, 7, 8, 9, 10]\n",
    "odd_numbers = filter(lambda x: x % 2 != 0, numbers)\n",
    "print(list(odd_numbers))\n",
    "\n",
    "# Sort a list of integers into positive and negative integers lists:\n",
    "numbers = [1, 2, 3, 4, 5, 6, -1, -2, -3, -4, -5, 0]\n",
    "positive_numbers = filter(lambda x: x>0, numbers)\n",
    "negative_numbers = filter(lambda x: x<0, numbers)\n",
    "print(\"Positive numbers:\", list(positive_numbers))\n",
    "print(\"Negative numbers:\", list(negative_numbers))"
   ]
  },
  {
   "cell_type": "code",
   "execution_count": null,
   "id": "162671c0-ae5b-4821-97e9-0895f22787f8",
   "metadata": {},
   "outputs": [],
   "source": []
  },
  {
   "cell_type": "code",
   "execution_count": null,
   "id": "b5a36d21-1ff7-41fb-9265-9f695a06d132",
   "metadata": {},
   "outputs": [],
   "source": []
  },
  {
   "cell_type": "code",
   "execution_count": null,
   "id": "1f44a13b-aece-41c5-aa5b-79ef9bf0e750",
   "metadata": {},
   "outputs": [],
   "source": []
  },
  {
   "cell_type": "code",
   "execution_count": null,
   "id": "805de161-e4d2-42e5-990a-4f326fdeff26",
   "metadata": {},
   "outputs": [],
   "source": []
  }
 ],
 "metadata": {
  "kernelspec": {
   "display_name": "Python 3 (ipykernel)",
   "language": "python",
   "name": "python3"
  },
  "language_info": {
   "codemirror_mode": {
    "name": "ipython",
    "version": 3
   },
   "file_extension": ".py",
   "mimetype": "text/x-python",
   "name": "python",
   "nbconvert_exporter": "python",
   "pygments_lexer": "ipython3",
   "version": "3.10.8"
  }
 },
 "nbformat": 4,
 "nbformat_minor": 5
}
